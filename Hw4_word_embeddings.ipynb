{
  "nbformat": 4,
  "nbformat_minor": 0,
  "metadata": {
    "colab": {
      "provenance": [],
      "authorship_tag": "ABX9TyP86QDyLzlkjdJgmuYB8EdH",
      "include_colab_link": true
    },
    "kernelspec": {
      "name": "python3",
      "display_name": "Python 3"
    },
    "language_info": {
      "name": "python"
    },
    "widgets": {
      "application/vnd.jupyter.widget-state+json": {
        "7428edeb173d44079c7f8ceb2240428a": {
          "model_module": "@jupyter-widgets/controls",
          "model_name": "HBoxModel",
          "model_module_version": "1.5.0",
          "state": {
            "_dom_classes": [],
            "_model_module": "@jupyter-widgets/controls",
            "_model_module_version": "1.5.0",
            "_model_name": "HBoxModel",
            "_view_count": null,
            "_view_module": "@jupyter-widgets/controls",
            "_view_module_version": "1.5.0",
            "_view_name": "HBoxView",
            "box_style": "",
            "children": [
              "IPY_MODEL_8c25359c05314fe3ac09d9d5833f320f",
              "IPY_MODEL_5eb0f2c9642c4218a4026443f4ee46dd",
              "IPY_MODEL_c9d1d4d75bd74729a1e4416b5f92c07d"
            ],
            "layout": "IPY_MODEL_eefc72a43c4a477eb319facabaa89f37"
          }
        },
        "8c25359c05314fe3ac09d9d5833f320f": {
          "model_module": "@jupyter-widgets/controls",
          "model_name": "HTMLModel",
          "model_module_version": "1.5.0",
          "state": {
            "_dom_classes": [],
            "_model_module": "@jupyter-widgets/controls",
            "_model_module_version": "1.5.0",
            "_model_name": "HTMLModel",
            "_view_count": null,
            "_view_module": "@jupyter-widgets/controls",
            "_view_module_version": "1.5.0",
            "_view_name": "HTMLView",
            "description": "",
            "description_tooltip": null,
            "layout": "IPY_MODEL_14a067dd6bee4022aff23b193523c2ec",
            "placeholder": "​",
            "style": "IPY_MODEL_c22e2a835bcc49f397af5e5be6ded708",
            "value": "model.bin: 100%"
          }
        },
        "5eb0f2c9642c4218a4026443f4ee46dd": {
          "model_module": "@jupyter-widgets/controls",
          "model_name": "FloatProgressModel",
          "model_module_version": "1.5.0",
          "state": {
            "_dom_classes": [],
            "_model_module": "@jupyter-widgets/controls",
            "_model_module_version": "1.5.0",
            "_model_name": "FloatProgressModel",
            "_view_count": null,
            "_view_module": "@jupyter-widgets/controls",
            "_view_module_version": "1.5.0",
            "_view_name": "ProgressView",
            "bar_style": "success",
            "description": "",
            "description_tooltip": null,
            "layout": "IPY_MODEL_f6ae58a510ff49098d8c803520386f8c",
            "max": 7237176312,
            "min": 0,
            "orientation": "horizontal",
            "style": "IPY_MODEL_f411d67313ab46edbe36241d60d5e13b",
            "value": 7237176312
          }
        },
        "c9d1d4d75bd74729a1e4416b5f92c07d": {
          "model_module": "@jupyter-widgets/controls",
          "model_name": "HTMLModel",
          "model_module_version": "1.5.0",
          "state": {
            "_dom_classes": [],
            "_model_module": "@jupyter-widgets/controls",
            "_model_module_version": "1.5.0",
            "_model_name": "HTMLModel",
            "_view_count": null,
            "_view_module": "@jupyter-widgets/controls",
            "_view_module_version": "1.5.0",
            "_view_name": "HTMLView",
            "description": "",
            "description_tooltip": null,
            "layout": "IPY_MODEL_170e465f85fe457097d11906c8c9bd7b",
            "placeholder": "​",
            "style": "IPY_MODEL_84df274f4e514eaca417ebf9a24b295a",
            "value": " 7.24G/7.24G [03:48&lt;00:00, 28.3MB/s]"
          }
        },
        "eefc72a43c4a477eb319facabaa89f37": {
          "model_module": "@jupyter-widgets/base",
          "model_name": "LayoutModel",
          "model_module_version": "1.2.0",
          "state": {
            "_model_module": "@jupyter-widgets/base",
            "_model_module_version": "1.2.0",
            "_model_name": "LayoutModel",
            "_view_count": null,
            "_view_module": "@jupyter-widgets/base",
            "_view_module_version": "1.2.0",
            "_view_name": "LayoutView",
            "align_content": null,
            "align_items": null,
            "align_self": null,
            "border": null,
            "bottom": null,
            "display": null,
            "flex": null,
            "flex_flow": null,
            "grid_area": null,
            "grid_auto_columns": null,
            "grid_auto_flow": null,
            "grid_auto_rows": null,
            "grid_column": null,
            "grid_gap": null,
            "grid_row": null,
            "grid_template_areas": null,
            "grid_template_columns": null,
            "grid_template_rows": null,
            "height": null,
            "justify_content": null,
            "justify_items": null,
            "left": null,
            "margin": null,
            "max_height": null,
            "max_width": null,
            "min_height": null,
            "min_width": null,
            "object_fit": null,
            "object_position": null,
            "order": null,
            "overflow": null,
            "overflow_x": null,
            "overflow_y": null,
            "padding": null,
            "right": null,
            "top": null,
            "visibility": null,
            "width": null
          }
        },
        "14a067dd6bee4022aff23b193523c2ec": {
          "model_module": "@jupyter-widgets/base",
          "model_name": "LayoutModel",
          "model_module_version": "1.2.0",
          "state": {
            "_model_module": "@jupyter-widgets/base",
            "_model_module_version": "1.2.0",
            "_model_name": "LayoutModel",
            "_view_count": null,
            "_view_module": "@jupyter-widgets/base",
            "_view_module_version": "1.2.0",
            "_view_name": "LayoutView",
            "align_content": null,
            "align_items": null,
            "align_self": null,
            "border": null,
            "bottom": null,
            "display": null,
            "flex": null,
            "flex_flow": null,
            "grid_area": null,
            "grid_auto_columns": null,
            "grid_auto_flow": null,
            "grid_auto_rows": null,
            "grid_column": null,
            "grid_gap": null,
            "grid_row": null,
            "grid_template_areas": null,
            "grid_template_columns": null,
            "grid_template_rows": null,
            "height": null,
            "justify_content": null,
            "justify_items": null,
            "left": null,
            "margin": null,
            "max_height": null,
            "max_width": null,
            "min_height": null,
            "min_width": null,
            "object_fit": null,
            "object_position": null,
            "order": null,
            "overflow": null,
            "overflow_x": null,
            "overflow_y": null,
            "padding": null,
            "right": null,
            "top": null,
            "visibility": null,
            "width": null
          }
        },
        "c22e2a835bcc49f397af5e5be6ded708": {
          "model_module": "@jupyter-widgets/controls",
          "model_name": "DescriptionStyleModel",
          "model_module_version": "1.5.0",
          "state": {
            "_model_module": "@jupyter-widgets/controls",
            "_model_module_version": "1.5.0",
            "_model_name": "DescriptionStyleModel",
            "_view_count": null,
            "_view_module": "@jupyter-widgets/base",
            "_view_module_version": "1.2.0",
            "_view_name": "StyleView",
            "description_width": ""
          }
        },
        "f6ae58a510ff49098d8c803520386f8c": {
          "model_module": "@jupyter-widgets/base",
          "model_name": "LayoutModel",
          "model_module_version": "1.2.0",
          "state": {
            "_model_module": "@jupyter-widgets/base",
            "_model_module_version": "1.2.0",
            "_model_name": "LayoutModel",
            "_view_count": null,
            "_view_module": "@jupyter-widgets/base",
            "_view_module_version": "1.2.0",
            "_view_name": "LayoutView",
            "align_content": null,
            "align_items": null,
            "align_self": null,
            "border": null,
            "bottom": null,
            "display": null,
            "flex": null,
            "flex_flow": null,
            "grid_area": null,
            "grid_auto_columns": null,
            "grid_auto_flow": null,
            "grid_auto_rows": null,
            "grid_column": null,
            "grid_gap": null,
            "grid_row": null,
            "grid_template_areas": null,
            "grid_template_columns": null,
            "grid_template_rows": null,
            "height": null,
            "justify_content": null,
            "justify_items": null,
            "left": null,
            "margin": null,
            "max_height": null,
            "max_width": null,
            "min_height": null,
            "min_width": null,
            "object_fit": null,
            "object_position": null,
            "order": null,
            "overflow": null,
            "overflow_x": null,
            "overflow_y": null,
            "padding": null,
            "right": null,
            "top": null,
            "visibility": null,
            "width": null
          }
        },
        "f411d67313ab46edbe36241d60d5e13b": {
          "model_module": "@jupyter-widgets/controls",
          "model_name": "ProgressStyleModel",
          "model_module_version": "1.5.0",
          "state": {
            "_model_module": "@jupyter-widgets/controls",
            "_model_module_version": "1.5.0",
            "_model_name": "ProgressStyleModel",
            "_view_count": null,
            "_view_module": "@jupyter-widgets/base",
            "_view_module_version": "1.2.0",
            "_view_name": "StyleView",
            "bar_color": null,
            "description_width": ""
          }
        },
        "170e465f85fe457097d11906c8c9bd7b": {
          "model_module": "@jupyter-widgets/base",
          "model_name": "LayoutModel",
          "model_module_version": "1.2.0",
          "state": {
            "_model_module": "@jupyter-widgets/base",
            "_model_module_version": "1.2.0",
            "_model_name": "LayoutModel",
            "_view_count": null,
            "_view_module": "@jupyter-widgets/base",
            "_view_module_version": "1.2.0",
            "_view_name": "LayoutView",
            "align_content": null,
            "align_items": null,
            "align_self": null,
            "border": null,
            "bottom": null,
            "display": null,
            "flex": null,
            "flex_flow": null,
            "grid_area": null,
            "grid_auto_columns": null,
            "grid_auto_flow": null,
            "grid_auto_rows": null,
            "grid_column": null,
            "grid_gap": null,
            "grid_row": null,
            "grid_template_areas": null,
            "grid_template_columns": null,
            "grid_template_rows": null,
            "height": null,
            "justify_content": null,
            "justify_items": null,
            "left": null,
            "margin": null,
            "max_height": null,
            "max_width": null,
            "min_height": null,
            "min_width": null,
            "object_fit": null,
            "object_position": null,
            "order": null,
            "overflow": null,
            "overflow_x": null,
            "overflow_y": null,
            "padding": null,
            "right": null,
            "top": null,
            "visibility": null,
            "width": null
          }
        },
        "84df274f4e514eaca417ebf9a24b295a": {
          "model_module": "@jupyter-widgets/controls",
          "model_name": "DescriptionStyleModel",
          "model_module_version": "1.5.0",
          "state": {
            "_model_module": "@jupyter-widgets/controls",
            "_model_module_version": "1.5.0",
            "_model_name": "DescriptionStyleModel",
            "_view_count": null,
            "_view_module": "@jupyter-widgets/base",
            "_view_module_version": "1.2.0",
            "_view_name": "StyleView",
            "description_width": ""
          }
        }
      }
    }
  },
  "cells": [
    {
      "cell_type": "markdown",
      "metadata": {
        "id": "view-in-github",
        "colab_type": "text"
      },
      "source": [
        "<a href=\"https://colab.research.google.com/github/s-pike3/Projects_In_AI-ML/blob/main/Hw4_word_embeddings.ipynb\" target=\"_parent\"><img src=\"https://colab.research.google.com/assets/colab-badge.svg\" alt=\"Open In Colab\"/></a>"
      ]
    },
    {
      "cell_type": "markdown",
      "source": [
        "Projects in AI & ML HW4 Word Embeddings\n",
        "Sarah Pike"
      ],
      "metadata": {
        "id": "8oTN59psZU5G"
      }
    },
    {
      "cell_type": "code",
      "source": [
        "import numpy as np\n",
        "import matplotlib.pyplot as plt\n",
        "!pip install fasttext\n",
        "import fasttext\n"
      ],
      "metadata": {
        "colab": {
          "base_uri": "https://localhost:8080/"
        },
        "id": "H-HfmKbP9M8J",
        "outputId": "754f470d-fa57-4b63-f298-184727761442"
      },
      "execution_count": 1,
      "outputs": [
        {
          "output_type": "stream",
          "name": "stdout",
          "text": [
            "Collecting fasttext\n",
            "  Downloading fasttext-0.9.3.tar.gz (73 kB)\n",
            "\u001b[?25l     \u001b[90m━━━━━━━━━━━━━━━━━━━━━━━━━━━━━━━━━━━━━━━━\u001b[0m \u001b[32m0.0/73.4 kB\u001b[0m \u001b[31m?\u001b[0m eta \u001b[36m-:--:--\u001b[0m\r\u001b[2K     \u001b[90m━━━━━━━━━━━━━━━━━━━━━━━━━━━━━━━━━━━━━━━━\u001b[0m \u001b[32m73.4/73.4 kB\u001b[0m \u001b[31m2.0 MB/s\u001b[0m eta \u001b[36m0:00:00\u001b[0m\n",
            "\u001b[?25h  Installing build dependencies ... \u001b[?25l\u001b[?25hdone\n",
            "  Getting requirements to build wheel ... \u001b[?25l\u001b[?25hdone\n",
            "  Preparing metadata (pyproject.toml) ... \u001b[?25l\u001b[?25hdone\n",
            "Collecting pybind11>=2.2 (from fasttext)\n",
            "  Using cached pybind11-2.13.6-py3-none-any.whl.metadata (9.5 kB)\n",
            "Requirement already satisfied: setuptools>=0.7.0 in /usr/local/lib/python3.11/dist-packages (from fasttext) (75.1.0)\n",
            "Requirement already satisfied: numpy in /usr/local/lib/python3.11/dist-packages (from fasttext) (1.26.4)\n",
            "Using cached pybind11-2.13.6-py3-none-any.whl (243 kB)\n",
            "Building wheels for collected packages: fasttext\n",
            "  Building wheel for fasttext (pyproject.toml) ... \u001b[?25l\u001b[?25hdone\n",
            "  Created wheel for fasttext: filename=fasttext-0.9.3-cp311-cp311-linux_x86_64.whl size=4313475 sha256=b0f3b1f3e0bfa0223e889e1d4ade6cc845388539ebd952d7606b092b9b01482c\n",
            "  Stored in directory: /root/.cache/pip/wheels/65/4f/35/5057db0249224e9ab55a513fa6b79451473ceb7713017823c3\n",
            "Successfully built fasttext\n",
            "Installing collected packages: pybind11, fasttext\n",
            "Successfully installed fasttext-0.9.3 pybind11-2.13.6\n"
          ]
        }
      ]
    },
    {
      "cell_type": "markdown",
      "source": [
        "## Part 1"
      ],
      "metadata": {
        "id": "28Em0AY1sNdM"
      }
    },
    {
      "cell_type": "markdown",
      "source": [
        "### Model Selection\n",
        "This notebook uses the FastText embedding model. I choose FastText over Word2Vec and GloVe because it is able to handle out of vocabulary input because it trains at the character level and not the word level. I choose FastText over BERT because it is simpler and offers static embeddings as opposed to context senstive embeddings which are better suited for this application."
      ],
      "metadata": {
        "id": "zDyYcejDqWtF"
      }
    },
    {
      "cell_type": "markdown",
      "source": [
        "Load FastText Embeddings"
      ],
      "metadata": {
        "id": "W7XzChdlsTzc"
      }
    },
    {
      "cell_type": "code",
      "source": [
        "from huggingface_hub import hf_hub_download\n",
        "model_path = hf_hub_download(repo_id=\"facebook/fasttext-en-vectors\", filename=\"model.bin\")\n",
        "model = fasttext.load_model(model_path)"
      ],
      "metadata": {
        "id": "ZUpNDzDD9iZZ",
        "colab": {
          "base_uri": "https://localhost:8080/",
          "height": 158,
          "referenced_widgets": [
            "7428edeb173d44079c7f8ceb2240428a",
            "8c25359c05314fe3ac09d9d5833f320f",
            "5eb0f2c9642c4218a4026443f4ee46dd",
            "c9d1d4d75bd74729a1e4416b5f92c07d",
            "eefc72a43c4a477eb319facabaa89f37",
            "14a067dd6bee4022aff23b193523c2ec",
            "c22e2a835bcc49f397af5e5be6ded708",
            "f6ae58a510ff49098d8c803520386f8c",
            "f411d67313ab46edbe36241d60d5e13b",
            "170e465f85fe457097d11906c8c9bd7b",
            "84df274f4e514eaca417ebf9a24b295a"
          ]
        },
        "outputId": "184b3ced-a4a4-4f03-8718-cc9d5ade3d96"
      },
      "execution_count": 2,
      "outputs": [
        {
          "output_type": "stream",
          "name": "stderr",
          "text": [
            "/usr/local/lib/python3.11/dist-packages/huggingface_hub/utils/_auth.py:94: UserWarning: \n",
            "The secret `HF_TOKEN` does not exist in your Colab secrets.\n",
            "To authenticate with the Hugging Face Hub, create a token in your settings tab (https://huggingface.co/settings/tokens), set it as secret in your Google Colab and restart your session.\n",
            "You will be able to reuse this secret in all of your notebooks.\n",
            "Please note that authentication is recommended but still optional to access public models or datasets.\n",
            "  warnings.warn(\n"
          ]
        },
        {
          "output_type": "display_data",
          "data": {
            "text/plain": [
              "model.bin:   0%|          | 0.00/7.24G [00:00<?, ?B/s]"
            ],
            "application/vnd.jupyter.widget-view+json": {
              "version_major": 2,
              "version_minor": 0,
              "model_id": "7428edeb173d44079c7f8ceb2240428a"
            }
          },
          "metadata": {}
        }
      ]
    },
    {
      "cell_type": "markdown",
      "source": [
        "Dynamic User Input of Two Words"
      ],
      "metadata": {
        "id": "tcunrhBPtFaL"
      }
    },
    {
      "cell_type": "code",
      "source": [
        "print('First word:')\n",
        "word1 = input()\n",
        "print('Second word:')\n",
        "word2 = input()\n",
        "emb1 = model.get_word_vector(word1)\n",
        "emb2 = model.get_word_vector(word2)\n",
        "emb1, emb2"
      ],
      "metadata": {
        "id": "qv4AFZpisbZM",
        "colab": {
          "base_uri": "https://localhost:8080/"
        },
        "outputId": "82b53eb1-7d8f-4d3f-b98f-cc6a2211398c"
      },
      "execution_count": 3,
      "outputs": [
        {
          "name": "stdout",
          "output_type": "stream",
          "text": [
            "First word:\n",
            "cat\n",
            "Second word:\n",
            "dog\n"
          ]
        },
        {
          "output_type": "execute_result",
          "data": {
            "text/plain": [
              "(array([ 0.08105576, -0.02083234, -0.03326922,  0.28555283,  0.13959414,\n",
              "        -0.1977245 ,  0.10128298,  0.01085356, -0.103824  ,  0.04313416,\n",
              "        -0.14833796, -0.16765352, -0.15447043, -0.14154345,  0.12743813,\n",
              "         0.2279076 ,  0.07685639, -0.13873424, -0.20190817,  0.01528534,\n",
              "        -0.06999817,  0.11306947,  0.01669297,  0.11389008,  0.02094817,\n",
              "        -0.31620952,  0.09814467, -0.1449248 ,  0.09949644,  0.2211973 ,\n",
              "         0.02225026,  0.06751259, -0.06465218,  0.11267239, -0.0256991 ,\n",
              "        -0.04765478,  0.03917777,  0.00168321, -0.11691307, -0.27667975,\n",
              "        -0.06021226,  0.11350961, -0.11300616,  0.08379158, -0.21970375,\n",
              "         0.06771149,  0.0296645 , -0.05783203, -0.12882547,  0.09360313,\n",
              "        -0.0628323 , -0.08581617,  0.17381558, -0.10044617, -0.28967732,\n",
              "        -0.01837742,  0.01613754, -0.0155128 , -0.11910667,  0.20571907,\n",
              "         0.2338278 ,  0.17166924,  0.07774843,  0.05795193, -0.05462614,\n",
              "        -0.05604232,  0.07913449,  0.32939437, -0.21045874, -0.11304444,\n",
              "         0.0575723 ,  0.0240243 ,  0.04918412, -0.00123884, -0.19010013,\n",
              "        -0.13446511,  0.21461043, -0.03400415,  0.01046168,  0.07740843,\n",
              "         0.16205223, -0.05187377, -0.10297765, -0.2242473 , -0.05481768,\n",
              "         0.02777104,  0.04504567,  0.0280448 ,  0.08349931, -0.0947693 ,\n",
              "        -0.08598264, -0.3568015 ,  0.12311324,  0.02738705, -0.00785374,\n",
              "         0.08330573,  0.19943208,  0.04547388,  0.18876314,  0.14724758,\n",
              "        -0.36264786,  0.10352075,  0.04481024, -0.03069196, -0.04293906,\n",
              "         0.04981232, -0.29237306,  0.3312763 ,  0.01118911, -0.01366141,\n",
              "         0.04181359,  0.00797943, -0.22261557,  0.08079234,  0.04292822,\n",
              "        -0.04677371, -0.17992711,  0.1144486 , -0.0288674 ,  0.0880094 ,\n",
              "        -0.18215865, -0.01429704, -0.00713941, -0.07557592,  0.07363671,\n",
              "         0.15832493, -0.12818596,  0.23811077,  0.21621591, -0.15509972,\n",
              "        -0.11514035, -0.00113345, -0.0628226 , -0.19765827, -0.06681902,\n",
              "         0.03757597,  0.18216723,  0.10831188, -0.01181745, -0.00282417,\n",
              "        -0.22391851, -0.11692671,  0.17321527,  0.01555726, -0.12287116,\n",
              "        -0.01001604, -0.29298973,  0.15872392, -0.00717149, -0.11472785,\n",
              "         0.01296498, -0.20333676, -0.05006766,  0.00861594, -0.18058869,\n",
              "        -0.09512712,  0.05120578,  0.00669428, -0.1353175 ,  0.10309117,\n",
              "        -0.08428084,  0.23800498,  0.19420755, -0.04042051, -0.05327505,\n",
              "        -0.14226167,  0.5043118 , -0.04709461,  0.07587084,  0.0368096 ,\n",
              "        -0.17633967,  0.20457302, -0.35128823,  0.07051338,  0.00201938,\n",
              "         0.05197956,  0.13930053,  0.07853405, -0.28847766,  0.07748775,\n",
              "         0.11528099, -0.01693372,  0.02308177, -0.17261219,  0.18667871,\n",
              "         0.10301095,  0.20211388, -0.04852751,  0.00952623,  0.04364521,\n",
              "        -0.2666222 , -0.12237131,  0.10129285,  0.05666918,  0.2079553 ,\n",
              "         0.0933083 ,  0.03482562,  0.1169966 , -0.06999424,  0.07376687,\n",
              "        -0.16195787,  0.02173381,  0.05140361,  0.18888497, -0.04526789,\n",
              "         0.11575621,  0.07859205, -0.04566301,  0.12501785,  0.16399984,\n",
              "        -0.04043661, -0.1042885 , -0.05033493, -0.19847214, -0.07339809,\n",
              "        -0.10427585, -0.00584699, -0.15202472,  0.08722179, -0.02139931,\n",
              "         0.06991025, -0.06449134, -0.03493118,  0.00490016,  0.0246936 ,\n",
              "        -0.10078498,  0.08396043, -0.1062537 , -0.13869871, -0.09136061,\n",
              "         0.12302251,  0.06168437,  0.02954458,  0.03203412,  0.04786261,\n",
              "         0.01925538, -0.09616736,  0.0912177 , -0.05313204,  0.29551613,\n",
              "        -0.07371814, -0.07504821, -0.3178438 , -0.1746165 ,  0.11554234,\n",
              "         0.13955456, -0.0468085 , -0.04206348,  0.00883872,  0.10709482,\n",
              "         0.0287071 , -0.06932212, -0.05080307, -0.0382563 , -0.28113165,\n",
              "         0.08925261,  0.05306546, -0.13811952,  0.0362194 , -0.12643738,\n",
              "        -0.21391355, -0.11981697, -0.03300172, -0.22084385, -0.14211643,\n",
              "        -0.01799391, -0.01686784,  0.1613175 , -0.07888834, -0.0905152 ,\n",
              "         0.00529774, -0.05524676, -0.16600847,  0.04176328, -0.2638812 ,\n",
              "         0.02039177, -0.03363415,  0.15648663, -0.10055929, -0.12960714,\n",
              "        -0.12374973, -0.07323535, -0.17085005,  0.18332428, -0.03379165,\n",
              "        -0.04543614, -0.05318792, -0.11366287, -0.04781571, -0.19407704,\n",
              "        -0.05102151,  0.1296857 , -0.10509466,  0.18691303, -0.02298218,\n",
              "        -0.22713184, -0.22551058,  0.21606588,  0.06902882,  0.06388879],\n",
              "       dtype=float32),\n",
              " array([ 0.16797343, -0.00129151,  0.01619076,  0.27790722, -0.10621118,\n",
              "         0.03657171,  0.2042775 ,  0.06415711, -0.01148348,  0.05821145,\n",
              "        -0.22524177, -0.21296273, -0.07619001, -0.0495243 ,  0.04490215,\n",
              "         0.24309441,  0.0445679 , -0.02878846, -0.3035171 ,  0.0158186 ,\n",
              "        -0.20969255, -0.02145232, -0.09633946, -0.04586264, -0.02090367,\n",
              "        -0.25138012,  0.10532926, -0.1831662 ,  0.00600162,  0.24515434,\n",
              "         0.00323305,  0.22065218, -0.01409972,  0.0683034 , -0.07115323,\n",
              "        -0.00641897, -0.00149061,  0.06938218, -0.15117021, -0.41590753,\n",
              "         0.08081938,  0.0431496 , -0.18901569,  0.02689096, -0.20533894,\n",
              "         0.02829671,  0.01456013,  0.03876533, -0.20197397,  0.27379614,\n",
              "        -0.2366355 , -0.1277546 , -0.06654418, -0.1274356 , -0.24377124,\n",
              "         0.18009841, -0.04074678, -0.01552849, -0.14595772,  0.10928781,\n",
              "         0.02728768,  0.01625016,  0.14619264,  0.08557123, -0.1292741 ,\n",
              "        -0.00842256,  0.15677556,  0.23729092, -0.1707532 ,  0.12808749,\n",
              "        -0.00949428,  0.03503954, -0.07176857, -0.1995765 , -0.09005836,\n",
              "        -0.06007767,  0.15112849, -0.02491085,  0.03672136,  0.07668673,\n",
              "         0.01784065, -0.10687724, -0.01101496, -0.19196266, -0.02242654,\n",
              "        -0.04039514,  0.14546907, -0.02360587,  0.11044045, -0.09759983,\n",
              "         0.02379258, -0.20565659,  0.01721616,  0.03199153,  0.00815284,\n",
              "         0.08656359,  0.18502286,  0.18402475,  0.10668078,  0.03738188,\n",
              "        -0.4074914 , -0.04022971,  0.08458148, -0.11117537, -0.25287393,\n",
              "         0.17724703, -0.18504605,  0.25140703, -0.01271424, -0.14831553,\n",
              "         0.1600358 , -0.05883258, -0.06135762,  0.11166456, -0.14569472,\n",
              "         0.14750557, -0.3153151 ,  0.01078657, -0.15187092, -0.04359063,\n",
              "        -0.0634594 , -0.08884066, -0.05777122, -0.09834495, -0.02506212,\n",
              "         0.07741003, -0.08065479,  0.12711865,  0.16980766, -0.19458896,\n",
              "        -0.12635261, -0.05503424, -0.05965766, -0.15294074, -0.09047022,\n",
              "         0.05964619,  0.18547264,  0.0218493 ,  0.2296952 , -0.13329673,\n",
              "        -0.07195106, -0.03121187, -0.00772437, -0.03858921, -0.06347749,\n",
              "         0.01676542, -0.30626687,  0.39329478, -0.07541074, -0.1283311 ,\n",
              "         0.00950129, -0.29389495, -0.05046504, -0.12812214, -0.15552156,\n",
              "         0.110129  ,  0.03194745,  0.02212383, -0.1495015 ,  0.16552612,\n",
              "        -0.17551072,  0.1453113 ,  0.1827914 , -0.14981437, -0.21875371,\n",
              "        -0.1254919 ,  0.18674739, -0.12732399, -0.02317492,  0.03523151,\n",
              "         0.09008883,  0.11684711, -0.21788248, -0.01155711,  0.04720084,\n",
              "        -0.11769862,  0.15802756,  0.08140251, -0.19042213, -0.13775437,\n",
              "         0.0856982 , -0.096681  , -0.07519216, -0.20052913,  0.10061246,\n",
              "         0.07723006,  0.2077197 , -0.04245454, -0.00779141,  0.15528412,\n",
              "        -0.23522   , -0.0190185 ,  0.01032567,  0.00561955,  0.10355803,\n",
              "         0.00505133, -0.00623519,  0.15057383, -0.02216281,  0.11417998,\n",
              "         0.06005207,  0.03639305,  0.05854595,  0.04371137,  0.02914949,\n",
              "         0.16142541,  0.03382123, -0.17429261,  0.08662991,  0.1907782 ,\n",
              "         0.07996318, -0.15227565, -0.06010374, -0.11483645, -0.10470261,\n",
              "        -0.35195923, -0.08905257, -0.06273567, -0.01428715, -0.01347531,\n",
              "         0.1672279 ,  0.00070549,  0.07096557, -0.0440504 ,  0.13617563,\n",
              "         0.03774983,  0.16895525, -0.04593222, -0.10215944,  0.03458019,\n",
              "        -0.19589837,  0.04508338, -0.07737713,  0.13069247, -0.01418704,\n",
              "        -0.0253478 , -0.193466  ,  0.03332635, -0.04480965,  0.153066  ,\n",
              "        -0.0086196 , -0.07667975, -0.20965469, -0.18245429,  0.1157611 ,\n",
              "        -0.17064586,  0.06850301, -0.00453007,  0.00693964,  0.03815384,\n",
              "         0.03101735, -0.0461829 ,  0.0432574 , -0.1529224 , -0.40706924,\n",
              "         0.10185736, -0.04173297, -0.12702906,  0.03466501,  0.10160773,\n",
              "        -0.04065832, -0.11958931, -0.00409962, -0.0848252 , -0.14605616,\n",
              "         0.03279966, -0.1637969 ,  0.02605549, -0.01987447, -0.10404594,\n",
              "         0.02119811,  0.14655825, -0.17055693,  0.0447331 , -0.25232658,\n",
              "         0.04228683, -0.06107245,  0.11194584, -0.07801031, -0.11292272,\n",
              "         0.0557847 ,  0.04502081, -0.1698344 , -0.0259503 , -0.06438185,\n",
              "         0.1335313 , -0.12403029, -0.08875973, -0.05561321, -0.17166188,\n",
              "        -0.09214564, -0.03901795, -0.141013  ,  0.07479323,  0.22649087,\n",
              "        -0.20450641, -0.15849999,  0.30272514,  0.0942003 ,  0.1539942 ],\n",
              "       dtype=float32))"
            ]
          },
          "metadata": {},
          "execution_count": 3
        }
      ]
    },
    {
      "cell_type": "markdown",
      "source": [
        "FastText is able to handle oov cases."
      ],
      "metadata": {
        "id": "dKGU9aGvtLVI"
      }
    },
    {
      "cell_type": "markdown",
      "source": [
        "## Part 2"
      ],
      "metadata": {
        "id": "QMHd-3-dtV3b"
      }
    },
    {
      "cell_type": "markdown",
      "source": [
        "Cosine Similarity"
      ],
      "metadata": {
        "id": "ZumOKvuWtafK"
      }
    },
    {
      "cell_type": "code",
      "source": [
        "def cosine_similarity(a,b,dummy_parameter):\n",
        "  return np.dot(a,b)/(np.linalg.norm(a)*np.linalg.norm(b))"
      ],
      "metadata": {
        "id": "ADeUjLW6ndlx"
      },
      "execution_count": 22,
      "outputs": []
    },
    {
      "cell_type": "markdown",
      "source": [
        "Cosine similarity measures the similarity in the direction that two vectors point in. Because embedding models such as FastText aim to create embeddings where words of similar meaning point in similar directions, cosine similarity can be interpreted as the similarity of the meaning of two words."
      ],
      "metadata": {
        "id": "N9LaJfNUtdpH"
      }
    },
    {
      "cell_type": "markdown",
      "source": [
        "### Batch word input\n",
        "Type '#' to quit\n"
      ],
      "metadata": {
        "id": "px1Vi8pKsgrl"
      }
    },
    {
      "cell_type": "code",
      "source": [
        "embs = np.empty((0,300))\n",
        "words = list()\n",
        "print('First word:')\n",
        "word1 = input()\n",
        "while(word1 != '#'):\n",
        "  print('Second word:')\n",
        "  word2 = input()\n",
        "  emb1 = model.get_word_vector(word1)\n",
        "  emb2 = model.get_word_vector(word2)\n",
        "  embs = np.vstack((embs,emb1))\n",
        "  embs = np.vstack((embs,emb2))\n",
        "  words.append(word1)\n",
        "  words.append(word2)\n",
        "  print(\"Similarity: \", cosine_similarity(emb1,emb2,3))\n",
        "  print('First word:')\n",
        "  word1 = input()\n",
        "len(emb1), len(emb2)"
      ],
      "metadata": {
        "colab": {
          "base_uri": "https://localhost:8080/"
        },
        "id": "P6-9sY239xm9",
        "outputId": "2293351d-400d-44b3-e844-2f090e21451c"
      },
      "execution_count": 15,
      "outputs": [
        {
          "name": "stdout",
          "output_type": "stream",
          "text": [
            "First word:\n",
            "pony\n",
            "Second word:\n",
            "dog\n",
            "Similarity:  0.45846322\n",
            "First word:\n",
            "chair\n",
            "Second word:\n",
            "funny\n",
            "Similarity:  0.094930016\n",
            "First word:\n",
            "cookie\n",
            "Second word:\n",
            "up\n",
            "Similarity:  0.08375896\n",
            "First word:\n",
            "snow\n",
            "Second word:\n",
            "sun\n",
            "Similarity:  0.3420059\n",
            "First word:\n",
            "ran\n",
            "Second word:\n",
            "running\n",
            "Similarity:  0.647306\n",
            "First word:\n",
            "#\n"
          ]
        },
        {
          "output_type": "execute_result",
          "data": {
            "text/plain": [
              "(300, 300)"
            ]
          },
          "metadata": {},
          "execution_count": 15
        }
      ]
    },
    {
      "cell_type": "markdown",
      "source": [
        "PCA"
      ],
      "metadata": {
        "id": "Hd-fAzb3uSaG"
      }
    },
    {
      "cell_type": "code",
      "source": [
        "from sklearn.decomposition import PCA\n",
        "pca = PCA(n_components=2)\n",
        "pca_embs = pca.fit_transform(embs)"
      ],
      "metadata": {
        "id": "hpV8xieCr8sX"
      },
      "execution_count": 16,
      "outputs": []
    },
    {
      "cell_type": "markdown",
      "source": [
        "PCA Visualization of Embeddings"
      ],
      "metadata": {
        "id": "xo7_RsSruaoO"
      }
    },
    {
      "cell_type": "code",
      "source": [
        "plt.scatter(pca_embs[:, 0], pca_embs[:, 1])\n",
        "for i, word in enumerate(words):\n",
        "\tplt.annotate(word, xy=(pca_embs[i, 0], pca_embs[i, 1]))\n",
        "plt.show()"
      ],
      "metadata": {
        "colab": {
          "base_uri": "https://localhost:8080/",
          "height": 430
        },
        "id": "blA8-MK0uQhu",
        "outputId": "03d846d7-a8a5-42de-a858-e7aee8cae8fc"
      },
      "execution_count": 17,
      "outputs": [
        {
          "output_type": "display_data",
          "data": {
            "text/plain": [
              "<Figure size 640x480 with 1 Axes>"
            ],
            "image/png": "[encoded data removed]"
          },
          "metadata": {}
        }
      ]
    },
    {
      "cell_type": "markdown",
      "source": [
        "## Part 3 - Design Own Metric"
      ],
      "metadata": {
        "id": "G3EqmilRuhAT"
      }
    },
    {
      "cell_type": "code",
      "source": [
        "def euclidean_distance(point1, point2):\n",
        "    return np.linalg.norm(np.array(point1) - np.array(point2))"
      ],
      "metadata": {
        "id": "ZD0ZKXvDwFm6"
      },
      "execution_count": 18,
      "outputs": []
    },
    {
      "cell_type": "markdown",
      "source": [
        "KNN similarity queries the k nearest neighbors to each word and computes the euclidean distance between all combinations of neighbors from words a and b. The distance is weighted by multiplying the similarity between the neighbors and their corresponding query words and summed into a final similarity measure.\n",
        "\n",
        "This could be more robust than cosine similarity because it considers the similarity between multiple combinations of words. Since it uses euclidean distance, it captures the distance between points instead of the angle. Thus, this metric gives additional information to cosine similarity."
      ],
      "metadata": {
        "id": "ijJHYWxFwanU"
      }
    },
    {
      "cell_type": "code",
      "source": [
        "def knn_similarity(a,b,num_neighbors):\n",
        "  sim = 0\n",
        "  a_nbrs = model.get_nearest_neighbors(a, k=num_neighbors)\n",
        "  b_nbrs = model.get_nearest_neighbors(b, k=num_neighbors)\n",
        "\n",
        "  for i in range(len(a_nbrs)):\n",
        "    for j in range(len(b_nbrs)):\n",
        "      sim += euclidean_distance(model.get_word_vector(a_nbrs[i][1]), model.get_word_vector(b_nbrs[j][1])) * b_nbrs[j][0] * a_nbrs[i][0]\n",
        "  return sim\n",
        "\n"
      ],
      "metadata": {
        "id": "5lhoZnVq5Wns"
      },
      "execution_count": 19,
      "outputs": []
    },
    {
      "cell_type": "markdown",
      "source": [
        "### Word Similarity in Embedding Space"
      ],
      "metadata": {
        "id": "SDihaItS-Q4_"
      }
    },
    {
      "cell_type": "code",
      "source": [
        "#similarity_method = \"cosine_similarity\"\n",
        "similarity_method = \"knn_similarity\""
      ],
      "metadata": {
        "id": "hCAWWt_VCiZ0"
      },
      "execution_count": 24,
      "outputs": []
    },
    {
      "cell_type": "code",
      "source": [
        "def get_sim_matrix(similarity_method,arr):\n",
        "  sim = np.empty((len(arr),len(arr)))\n",
        "  for i in range(len(arr)):\n",
        "    for j in range(len(arr)):\n",
        "      sim[i][j] = globals()[similarity_method](arr[i],arr[j],3)\n",
        "  return sim"
      ],
      "metadata": {
        "id": "MIu09v7DFQmh"
      },
      "execution_count": 32,
      "outputs": []
    },
    {
      "cell_type": "code",
      "source": [
        "sim_mat = None\n",
        "if(similarity_method == \"cosine_similarity\"):\n",
        "  sim_mat = get_sim_matrix(similarity_method,embs)\n",
        "elif(similarity_method == \"knn_similarity\"):\n",
        "  sim_mat = get_sim_matrix(similarity_method,words)\n"
      ],
      "metadata": {
        "id": "TZZym4S6EOQ6"
      },
      "execution_count": 33,
      "outputs": []
    },
    {
      "cell_type": "markdown",
      "source": [
        "#### Word Similarity Rank Graph"
      ],
      "metadata": {
        "id": "Qe6yLtztZhk8"
      }
    },
    {
      "cell_type": "markdown",
      "source": [
        "Graphing similarity to word 0, \"Pony\""
      ],
      "metadata": {
        "id": "9bUUkjCjac-R"
      }
    },
    {
      "cell_type": "code",
      "source": [
        "plt.scatter(np.arange(0,len(sim_mat[0]),1),sim_mat[:1, :])\n",
        "plt.scatter(np.arange(0,len(sim_mat[0]),1),sim_mat[:1, :])\n",
        "plt.xticks(range(len(words)),words, rotation=90)\n",
        "plt.show()"
      ],
      "metadata": {
        "colab": {
          "base_uri": "https://localhost:8080/",
          "height": 469
        },
        "id": "p0FUaARmB12m",
        "outputId": "9e475838-2b4b-432c-e781-b7af7b5f7c3e"
      },
      "execution_count": 36,
      "outputs": [
        {
          "output_type": "display_data",
          "data": {
            "text/plain": [
              "<Figure size 640x480 with 1 Axes>"
            ],
            "image/png": "[encoded data removed]"
          },
          "metadata": {}
        }
      ]
    },
    {
      "cell_type": "markdown",
      "source": [
        "### Word Similarity Heatmap"
      ],
      "metadata": {
        "id": "rGl94RFABcvQ"
      }
    },
    {
      "cell_type": "code",
      "source": [
        "plt.imshow(sim_mat)\n",
        "plt.xticks(range(len(words)),words, rotation=90)\n",
        "plt.yticks(range(len(words)), words)\n",
        "plt.show()"
      ],
      "metadata": {
        "colab": {
          "base_uri": "https://localhost:8080/",
          "height": 469
        },
        "id": "LQthKK1UXrfx",
        "outputId": "04be27d4-553c-436d-a4ac-55e59ec22b26"
      },
      "execution_count": 34,
      "outputs": [
        {
          "output_type": "display_data",
          "data": {
            "text/plain": [
              "<Figure size 640x480 with 1 Axes>"
            ],
            "image/png": "[encoded data removed]"
          },
          "metadata": {}
        }
      ]
    },
    {
      "cell_type": "markdown",
      "source": [
        "Bojanowski, P., Grave, E., Joulin, A., & Mikolov, T. (2016). Enriching Word Vectors with Subword Information. arXiv preprint arXiv:1607.04606.\n",
        "\n",
        "Brownlee, J. (2020, September 2). How to develop word embeddings in python with gensim. MachineLearningMastery.com. https://machinelearningmastery.com/develop-word-embeddings-python-gensim/\n"
      ],
      "metadata": {
        "id": "3q98KrQcr5wB"
      }
    }
  ]
}