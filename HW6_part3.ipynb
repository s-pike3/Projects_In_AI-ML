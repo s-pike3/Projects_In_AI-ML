{
  "nbformat": 4,
  "nbformat_minor": 0,
  "metadata": {
    "colab": {
      "provenance": [],
      "authorship_tag": "ABX9TyN+MGz2K0H9sI4VDL2/63Lb",
      "include_colab_link": true
    },
    "kernelspec": {
      "name": "python3",
      "display_name": "Python 3"
    },
    "language_info": {
      "name": "python"
    }
  },
  "cells": [
    {
      "cell_type": "markdown",
      "metadata": {
        "id": "view-in-github",
        "colab_type": "text"
      },
      "source": [
        "<a href=\"https://colab.research.google.com/github/s-pike3/Projects_In_AI-ML/blob/main/HW6_part3.ipynb\" target=\"_parent\"><img src=\"https://colab.research.google.com/assets/colab-badge.svg\" alt=\"Open In Colab\"/></a>"
      ]
    },
    {
      "cell_type": "markdown",
      "source": [
        "Sarah Pike \\\\\n",
        "Projects in AI&ML \\\\\n",
        "Homework 6, Part 3"
      ],
      "metadata": {
        "id": "R7ns5rEyr3KS"
      }
    },
    {
      "cell_type": "code",
      "execution_count": 1,
      "metadata": {
        "colab": {
          "base_uri": "https://localhost:8080/"
        },
        "id": "mZsvm03oDAOA",
        "outputId": "174d7e44-31c8-484b-e1e8-7dbb866143f8",
        "collapsed": true
      },
      "outputs": [
        {
          "output_type": "stream",
          "name": "stdout",
          "text": [
            "Collecting skorch\n",
            "  Downloading skorch-1.1.0-py3-none-any.whl.metadata (11 kB)\n",
            "Requirement already satisfied: numpy>=1.13.3 in /usr/local/lib/python3.11/dist-packages (from skorch) (1.26.4)\n",
            "Requirement already satisfied: scikit-learn>=0.22.0 in /usr/local/lib/python3.11/dist-packages (from skorch) (1.6.1)\n",
            "Requirement already satisfied: scipy>=1.1.0 in /usr/local/lib/python3.11/dist-packages (from skorch) (1.13.1)\n",
            "Requirement already satisfied: tabulate>=0.7.7 in /usr/local/lib/python3.11/dist-packages (from skorch) (0.9.0)\n",
            "Requirement already satisfied: tqdm>=4.14.0 in /usr/local/lib/python3.11/dist-packages (from skorch) (4.67.1)\n",
            "Requirement already satisfied: joblib>=1.2.0 in /usr/local/lib/python3.11/dist-packages (from scikit-learn>=0.22.0->skorch) (1.4.2)\n",
            "Requirement already satisfied: threadpoolctl>=3.1.0 in /usr/local/lib/python3.11/dist-packages (from scikit-learn>=0.22.0->skorch) (3.5.0)\n",
            "Downloading skorch-1.1.0-py3-none-any.whl (228 kB)\n",
            "\u001b[2K   \u001b[90m━━━━━━━━━━━━━━━━━━━━━━━━━━━━━━━━━━━━━━━━\u001b[0m \u001b[32m228.9/228.9 kB\u001b[0m \u001b[31m3.1 MB/s\u001b[0m eta \u001b[36m0:00:00\u001b[0m\n",
            "\u001b[?25hInstalling collected packages: skorch\n",
            "Successfully installed skorch-1.1.0\n"
          ]
        }
      ],
      "source": [
        "import numpy as np\n",
        "from sklearn import datasets\n",
        "from sklearn.preprocessing import StandardScaler  # for feature scaling\n",
        "from sklearn.preprocessing import MinMaxScaler  # for feature scaling\n",
        "from sklearn.metrics import confusion_matrix\n",
        "import pandas as pd\n",
        "import matplotlib.pyplot as plt\n",
        "from sklearn.metrics import accuracy_score\n",
        "#from sklearn.model_selection import GridSearchCV\n",
        "from sklearn import tree\n",
        "import matplotlib.pyplot as plt\n",
        "from sklearn.model_selection import cross_val_score\n",
        "from sklearn.model_selection import StratifiedKFold\n",
        "import math\n",
        "import torch\n",
        "from torch import nn\n",
        "from torch.nn import functional as F\n",
        "from torch.autograd import Variable\n",
        "from torch.utils.data import Dataset, DataLoader"
      ]
    },
    {
      "cell_type": "code",
      "source": [
        "from google.colab import files\n",
        "uploaded = files.upload()"
      ],
      "metadata": {
        "colab": {
          "base_uri": "https://localhost:8080/",
          "height": 109
        },
        "id": "q677D7qTDEAm",
        "outputId": "5ed20083-7865-4a0f-e022-fd870ccec99c"
      },
      "execution_count": 2,
      "outputs": [
        {
          "output_type": "display_data",
          "data": {
            "text/plain": [
              "<IPython.core.display.HTML object>"
            ],
            "text/html": [
              "\n",
              "     <input type=\"file\" id=\"files-da0eb90e-46fd-473d-af4f-ee2f1d4fe0c7\" name=\"files[]\" multiple disabled\n",
              "        style=\"border:none\" />\n",
              "     <output id=\"result-da0eb90e-46fd-473d-af4f-ee2f1d4fe0c7\">\n",
              "      Upload widget is only available when the cell has been executed in the\n",
              "      current browser session. Please rerun this cell to enable.\n",
              "      </output>\n",
              "      <script>// Copyright 2017 Google LLC\n",
              "//\n",
              "// Licensed under the Apache License, Version 2.0 (the \"License\");\n",
              "// you may not use this file except in compliance with the License.\n",
              "// You may obtain a copy of the License at\n",
              "//\n",
              "//      http://www.apache.org/licenses/LICENSE-2.0\n",
              "//\n",
              "// Unless required by applicable law or agreed to in writing, software\n",
              "// distributed under the License is distributed on an \"AS IS\" BASIS,\n",
              "// WITHOUT WARRANTIES OR CONDITIONS OF ANY KIND, either express or implied.\n",
              "// See the License for the specific language governing permissions and\n",
              "// limitations under the License.\n",
              "\n",
              "/**\n",
              " * @fileoverview Helpers for google.colab Python module.\n",
              " */\n",
              "(function(scope) {\n",
              "function span(text, styleAttributes = {}) {\n",
              "  const element = document.createElement('span');\n",
              "  element.textContent = text;\n",
              "  for (const key of Object.keys(styleAttributes)) {\n",
              "    element.style[key] = styleAttributes[key];\n",
              "  }\n",
              "  return element;\n",
              "}\n",
              "\n",
              "// Max number of bytes which will be uploaded at a time.\n",
              "const MAX_PAYLOAD_SIZE = 100 * 1024;\n",
              "\n",
              "function _uploadFiles(inputId, outputId) {\n",
              "  const steps = uploadFilesStep(inputId, outputId);\n",
              "  const outputElement = document.getElementById(outputId);\n",
              "  // Cache steps on the outputElement to make it available for the next call\n",
              "  // to uploadFilesContinue from Python.\n",
              "  outputElement.steps = steps;\n",
              "\n",
              "  return _uploadFilesContinue(outputId);\n",
              "}\n",
              "\n",
              "// This is roughly an async generator (not supported in the browser yet),\n",
              "// where there are multiple asynchronous steps and the Python side is going\n",
              "// to poll for completion of each step.\n",
              "// This uses a Promise to block the python side on completion of each step,\n",
              "// then passes the result of the previous step as the input to the next step.\n",
              "function _uploadFilesContinue(outputId) {\n",
              "  const outputElement = document.getElementById(outputId);\n",
              "  const steps = outputElement.steps;\n",
              "\n",
              "  const next = steps.next(outputElement.lastPromiseValue);\n",
              "  return Promise.resolve(next.value.promise).then((value) => {\n",
              "    // Cache the last promise value to make it available to the next\n",
              "    // step of the generator.\n",
              "    outputElement.lastPromiseValue = value;\n",
              "    return next.value.response;\n",
              "  });\n",
              "}\n",
              "\n",
              "/**\n",
              " * Generator function which is called between each async step of the upload\n",
              " * process.\n",
              " * @param {string} inputId Element ID of the input file picker element.\n",
              " * @param {string} outputId Element ID of the output display.\n",
              " * @return {!Iterable<!Object>} Iterable of next steps.\n",
              " */\n",
              "function* uploadFilesStep(inputId, outputId) {\n",
              "  const inputElement = document.getElementById(inputId);\n",
              "  inputElement.disabled = false;\n",
              "\n",
              "  const outputElement = document.getElementById(outputId);\n",
              "  outputElement.innerHTML = '';\n",
              "\n",
              "  const pickedPromise = new Promise((resolve) => {\n",
              "    inputElement.addEventListener('change', (e) => {\n",
              "      resolve(e.target.files);\n",
              "    });\n",
              "  });\n",
              "\n",
              "  const cancel = document.createElement('button');\n",
              "  inputElement.parentElement.appendChild(cancel);\n",
              "  cancel.textContent = 'Cancel upload';\n",
              "  const cancelPromise = new Promise((resolve) => {\n",
              "    cancel.onclick = () => {\n",
              "      resolve(null);\n",
              "    };\n",
              "  });\n",
              "\n",
              "  // Wait for the user to pick the files.\n",
              "  const files = yield {\n",
              "    promise: Promise.race([pickedPromise, cancelPromise]),\n",
              "    response: {\n",
              "      action: 'starting',\n",
              "    }\n",
              "  };\n",
              "\n",
              "  cancel.remove();\n",
              "\n",
              "  // Disable the input element since further picks are not allowed.\n",
              "  inputElement.disabled = true;\n",
              "\n",
              "  if (!files) {\n",
              "    return {\n",
              "      response: {\n",
              "        action: 'complete',\n",
              "      }\n",
              "    };\n",
              "  }\n",
              "\n",
              "  for (const file of files) {\n",
              "    const li = document.createElement('li');\n",
              "    li.append(span(file.name, {fontWeight: 'bold'}));\n",
              "    li.append(span(\n",
              "        `(${file.type || 'n/a'}) - ${file.size} bytes, ` +\n",
              "        `last modified: ${\n",
              "            file.lastModifiedDate ? file.lastModifiedDate.toLocaleDateString() :\n",
              "                                    'n/a'} - `));\n",
              "    const percent = span('0% done');\n",
              "    li.appendChild(percent);\n",
              "\n",
              "    outputElement.appendChild(li);\n",
              "\n",
              "    const fileDataPromise = new Promise((resolve) => {\n",
              "      const reader = new FileReader();\n",
              "      reader.onload = (e) => {\n",
              "        resolve(e.target.result);\n",
              "      };\n",
              "      reader.readAsArrayBuffer(file);\n",
              "    });\n",
              "    // Wait for the data to be ready.\n",
              "    let fileData = yield {\n",
              "      promise: fileDataPromise,\n",
              "      response: {\n",
              "        action: 'continue',\n",
              "      }\n",
              "    };\n",
              "\n",
              "    // Use a chunked sending to avoid message size limits. See b/62115660.\n",
              "    let position = 0;\n",
              "    do {\n",
              "      const length = Math.min(fileData.byteLength - position, MAX_PAYLOAD_SIZE);\n",
              "      const chunk = new Uint8Array(fileData, position, length);\n",
              "      position += length;\n",
              "\n",
              "      const base64 = btoa(String.fromCharCode.apply(null, chunk));\n",
              "      yield {\n",
              "        response: {\n",
              "          action: 'append',\n",
              "          file: file.name,\n",
              "          data: base64,\n",
              "        },\n",
              "      };\n",
              "\n",
              "      let percentDone = fileData.byteLength === 0 ?\n",
              "          100 :\n",
              "          Math.round((position / fileData.byteLength) * 100);\n",
              "      percent.textContent = `${percentDone}% done`;\n",
              "\n",
              "    } while (position < fileData.byteLength);\n",
              "  }\n",
              "\n",
              "  // All done.\n",
              "  yield {\n",
              "    response: {\n",
              "      action: 'complete',\n",
              "    }\n",
              "  };\n",
              "}\n",
              "\n",
              "scope.google = scope.google || {};\n",
              "scope.google.colab = scope.google.colab || {};\n",
              "scope.google.colab._files = {\n",
              "  _uploadFiles,\n",
              "  _uploadFilesContinue,\n",
              "};\n",
              "})(self);\n",
              "</script> "
            ]
          },
          "metadata": {}
        },
        {
          "output_type": "stream",
          "name": "stdout",
          "text": [
            "Saving test1.csv to test1.csv\n",
            "Saving train1.csv to train1.csv\n"
          ]
        }
      ]
    },
    {
      "cell_type": "markdown",
      "source": [
        "### Prepare Data"
      ],
      "metadata": {
        "id": "t_hSJyplqOcn"
      }
    },
    {
      "cell_type": "code",
      "source": [
        "traindf = pd.read_csv(\"train1.csv\")\n",
        "testdf = pd.read_csv(\"test1.csv\")"
      ],
      "metadata": {
        "id": "d0VsaW4ykjvd"
      },
      "execution_count": 3,
      "outputs": []
    },
    {
      "cell_type": "code",
      "source": [
        "class MovieLensDataset(Dataset):\n",
        "    def __init__(\n",
        "            self,\n",
        "            df: pd.DataFrame,\n",
        "            num_neg: int = 12,\n",
        "            train: bool = True\n",
        "        ):\n",
        "        self.df = df\n",
        "        self.users = df[\"user_id\"].unique()\n",
        "        self.items = df[\"item_id\"].unique()\n",
        "        self.item_set = set(self.items)\n",
        "        self.user_to_idx = {user: i for i, user in enumerate(self.users)}\n",
        "        self.item_to_idx = {item: i for i, item in enumerate(self.items)}\n",
        "        self.num_neg = num_neg\n",
        "        self.train = train\n",
        "        if self.train:\n",
        "          self.add_negative_samples()\n",
        "\n",
        "    def add_negative_samples(self):\n",
        "      for user in self.users:\n",
        "        i = 0\n",
        "        while(i < self.num_neg):\n",
        "          rand_item = np.random.randint(1, 1683)\n",
        "          if((rand_item in self.item_set) and ((self.df['user_id'] == user) & (self.df['item_id'] == rand_item)).any()):\n",
        "            new_row = {'user_id': user, 'rating': 0}\n",
        "            self.df.loc[len(self.df)] = [user,rand_item,0,0]\n",
        "            i = i + 1\n",
        "\n",
        "    def __len__(self):\n",
        "        return len(self.df)\n",
        "\n",
        "    def __getitem__(self, idx):\n",
        "        row = self.df.iloc[idx]\n",
        "        return {\n",
        "            \"user_id\": torch.tensor(self.user_to_idx[row[\"user_id\"]], dtype=torch.long),\n",
        "            \"item_id\": torch.tensor(self.item_to_idx[row[\"item_id\"]], dtype=torch.long),\n",
        "            \"rating\": torch.tensor(row[\"rating\"], dtype=torch.float),\n",
        "        }\n"
      ],
      "metadata": {
        "id": "2e7pGkZHwGgb"
      },
      "execution_count": 4,
      "outputs": []
    },
    {
      "cell_type": "code",
      "source": [
        "num_users = traindf.user_id.unique().shape[0]\n",
        "num_items = traindf.item_id.unique().shape[0]\n",
        "num_users,num_items"
      ],
      "metadata": {
        "colab": {
          "base_uri": "https://localhost:8080/"
        },
        "id": "TDPRjar6cctK",
        "outputId": "6fb477ed-498c-437a-f00c-c51bd45fd43d"
      },
      "execution_count": 5,
      "outputs": [
        {
          "output_type": "execute_result",
          "data": {
            "text/plain": [
              "(943, 1650)"
            ]
          },
          "metadata": {},
          "execution_count": 5
        }
      ]
    },
    {
      "cell_type": "code",
      "source": [
        "trainset = MovieLensDataset(traindf)\n",
        "trainiter = DataLoader(trainset, batch_size=8, shuffle=True)"
      ],
      "metadata": {
        "id": "UWuynNq-xJ_Q"
      },
      "execution_count": 6,
      "outputs": []
    },
    {
      "cell_type": "code",
      "source": [
        "testset = MovieLensDataset(testdf,train=False)\n",
        "testiter = DataLoader(testset, batch_size=1, shuffle=True)"
      ],
      "metadata": {
        "id": "dTfAfie6vyhr"
      },
      "execution_count": 27,
      "outputs": []
    },
    {
      "cell_type": "markdown",
      "source": [
        "### Matrix Factorization"
      ],
      "metadata": {
        "id": "6THkLBg8qaOY"
      }
    },
    {
      "cell_type": "code",
      "source": [
        "# Adapted from https://eigenvalue.medium.com/a-hackers-guide-to-neural-collaborative-filtering-with-pytorch-lightning-defa99236c78\n",
        "class MF(nn.Module):\n",
        "  def __init__(self, num_users, num_items, embedding_dim=8):\n",
        "    super(MF, self).__init__()\n",
        "    self.P = nn.Embedding(num_users, embedding_dim)\n",
        "    self.Q = nn.Embedding(num_items, embedding_dim)\n",
        "    self.output_layer = nn.Linear(embedding_dim, 1)\n",
        "\n",
        "  def forward(self, user_ids, item_ids):\n",
        "    # Get embeddings for users and items\n",
        "    p_u = self.P(user_ids)\n",
        "    q_i = self.Q(item_ids)\n",
        "    # Element-wise product\n",
        "    gmf = torch.mul(p_u, q_i)\n",
        "    # Linear layer which allows for varying importance of latent dimensions\n",
        "    output = self.output_layer(gmf)\n",
        "    return output"
      ],
      "metadata": {
        "id": "lo8KCud9soyQ"
      },
      "execution_count": 8,
      "outputs": []
    },
    {
      "cell_type": "code",
      "source": [
        "model = MF(num_users,num_items)\n",
        "learning_rate = 0.01\n",
        "criterion = nn.MSELoss()\n",
        "optimizer = torch.optim.Adam(model.parameters(), lr=learning_rate)"
      ],
      "metadata": {
        "id": "7rhwmQKTYg2g"
      },
      "execution_count": 9,
      "outputs": []
    },
    {
      "cell_type": "code",
      "source": [
        "num_epochs = 30\n",
        "model.train()\n",
        "\n",
        "for epoch in range(num_epochs):\n",
        "  for i,data in enumerate(trainiter):\n",
        "      user,item,rating = data['user_id'],data['item_id'],data['rating']\n",
        "\n",
        "\n",
        "      # forward pass and loss\n",
        "\n",
        "      y_predicted = model.forward(user,item)\n",
        "\n",
        "      loss = criterion(y_predicted,rating.unsqueeze(-1))\n",
        "\n",
        "      # backward pass\n",
        "      loss.backward()\n",
        "\n",
        "      # updates\n",
        "      optimizer.step()\n",
        "\n",
        "      # zero gradients\n",
        "      optimizer.zero_grad()\n",
        "\n",
        "\n",
        ""
      ],
      "metadata": {
        "id": "2kCIvH8XYmG6"
      },
      "execution_count": 10,
      "outputs": []
    },
    {
      "cell_type": "markdown",
      "source": [
        "#### Evaluation"
      ],
      "metadata": {
        "id": "YtjCk5HOrPR4"
      }
    },
    {
      "cell_type": "code",
      "source": [
        "preds = np.array([])\n",
        "ratings = []\n",
        "model.eval()\n",
        "user_dict = dict()\n",
        "top_ratings = dict()\n",
        "for i,data in enumerate(testiter):\n",
        "    user,item,rating = data['user_id'],data['item_id'],data['rating']\n",
        "    # forward pass and loss\n",
        "    y_predicted = model(user,item)\n",
        "    preds = np.append(preds,y_predicted.flatten().detach().numpy())\n",
        "    ratings = np.append(ratings,rating.flatten().detach().numpy())\n",
        "\n",
        "    ustr = 'u' + str(user[0].item())\n",
        "    if(user_dict.get(ustr) == None):\n",
        "      user_dict[ustr] = []\n",
        "      top_ratings[ustr] = set()\n",
        "    user_dict[ustr].append((item[0].item(),y_predicted.flatten().detach().numpy()[0]))\n",
        "    if(rating[0].item() >= 3):\n",
        "      top_ratings[ustr].add(item[0].item())\n"
      ],
      "metadata": {
        "id": "KIxGLtLmyf3O"
      },
      "execution_count": 105,
      "outputs": []
    },
    {
      "cell_type": "markdown",
      "source": [
        "#### RMSE\n",
        "\n",
        "\n",
        "\n"
      ],
      "metadata": {
        "id": "Hdavd1Z7rRHx"
      }
    },
    {
      "cell_type": "code",
      "source": [
        "from sklearn.metrics import root_mean_squared_error\n",
        "rmse = root_mean_squared_error(preds, ratings)\n",
        "print(f'RMSE: {rmse:.4f}')"
      ],
      "metadata": {
        "id": "7y_t7bRXcCDg",
        "colab": {
          "base_uri": "https://localhost:8080/"
        },
        "outputId": "9471abbf-d14e-4fce-f3be-42042cca40d2"
      },
      "execution_count": 32,
      "outputs": [
        {
          "output_type": "stream",
          "name": "stdout",
          "text": [
            "RMSE: 1.6221\n"
          ]
        }
      ]
    },
    {
      "cell_type": "markdown",
      "source": [
        "#### Average Precision @ 3"
      ],
      "metadata": {
        "id": "AZC0gTeg0cfZ"
      }
    },
    {
      "cell_type": "code",
      "source": [
        "p = 0\n",
        "for key in user_dict:\n",
        "  t3 = sorted(user_dict[key],reverse=True,key=lambda x: x[1])[:3]\n",
        "  for x in t3:\n",
        "    t1,t2 = x\n",
        "    if(t1 in top_ratings[key]):\n",
        "      p = p + 1\n",
        "p3 = p/(len(user_dict)*3)\n",
        "p3"
      ],
      "metadata": {
        "colab": {
          "base_uri": "https://localhost:8080/"
        },
        "id": "4Zcae9HeUrJU",
        "outputId": "2aa1bb6a-4214-4de6-cdf2-62843307a017"
      },
      "execution_count": 108,
      "outputs": [
        {
          "output_type": "execute_result",
          "data": {
            "text/plain": [
              "0.830791575889615"
            ]
          },
          "metadata": {},
          "execution_count": 108
        }
      ]
    },
    {
      "cell_type": "markdown",
      "source": [
        "### NCF"
      ],
      "metadata": {
        "id": "bWepIOR-rjn1"
      }
    },
    {
      "cell_type": "code",
      "source": [
        "# From https://eigenvalue.medium.com/a-hackers-guide-to-neural-collaborative-filtering-with-pytorch-lightning-defa99236c78\n",
        "class GMF(nn.Module):\n",
        "  def __init__(self, num_users, num_items, embedding_dim=8):\n",
        "    super(GMF, self).__init__()\n",
        "    # Create embedding layers for users and items\n",
        "    self.user_embedding = nn.Embedding(num_users, embedding_dim)\n",
        "    self.item_embedding = nn.Embedding(num_items, embedding_dim)\n",
        "    # Output layer to transform element-wise product\n",
        "    self.output_layer = nn.Linear(embedding_dim, 16)\n",
        "\n",
        "  def forward(self, user_ids, item_ids):\n",
        "    # Get embeddings for users and items\n",
        "    user_embedding = self.user_embedding(user_ids)\n",
        "    item_embedding = self.item_embedding(item_ids)\n",
        "    # Element-wise product\n",
        "    gmf = torch.mul(user_embedding, item_embedding)\n",
        "    # Transform through output layer and apply sigmoid\n",
        "    output = torch.sigmoid(self.output_layer(gmf))\n",
        "    return output"
      ],
      "metadata": {
        "id": "cCqsSOkMTcMu"
      },
      "execution_count": 11,
      "outputs": []
    },
    {
      "cell_type": "code",
      "source": [
        "class MLP(nn.Module):\n",
        "  def __init__(self, num_users, num_items, embedding_dim=8):\n",
        "    super(MLP, self).__init__()\n",
        "    # Create embedding layers for users and items\n",
        "    self.U = nn.Embedding(num_users, embedding_dim)\n",
        "    self.V = nn.Embedding(num_items, embedding_dim)\n",
        "    # Output layer to transform element-wise product\n",
        "    self.lin1 = nn.Linear(embedding_dim*2, 64)\n",
        "    self.lin2 = nn.Linear(64, 16)\n",
        "    self.relu = nn.ReLU()\n",
        "\n",
        "\n",
        "  def forward(self, user_ids, item_ids):\n",
        "    # Get embeddings for users and items\n",
        "    u_u = self.U(user_ids)\n",
        "    v_i = self.V(item_ids)\n",
        "    x = torch.cat([u_u, v_i], dim=1)\n",
        "    x = self.lin1(x)\n",
        "    x = self.relu(x)\n",
        "    x = self.lin2(x)\n",
        "\n",
        "    return x"
      ],
      "metadata": {
        "id": "WeR2jllTTdTD"
      },
      "execution_count": 12,
      "outputs": []
    },
    {
      "cell_type": "code",
      "source": [
        "class NeuMF(nn.Module):\n",
        "  def __init__(self, num_users, num_items, embedding_dim=8):\n",
        "    super(NeuMF, self).__init__()\n",
        "    # Create embedding layers for users and items\n",
        "    self.gmf = GMF(num_users, num_items, embedding_dim)\n",
        "    self.mlp = MLP(num_users, num_items, embedding_dim)\n",
        "    self.lin1 = nn.Linear(32, 8)\n",
        "    self.lin2 = nn.Linear(8, 1)\n",
        "    self.relu = nn.ReLU()\n",
        "\n",
        "  def forward(self, user_ids, item_ids):\n",
        "    # Get embeddings for users and items\n",
        "    gmf_out = self.gmf(user_ids,item_ids)\n",
        "    mlp_out = self.mlp(user_ids,item_ids)\n",
        "    x = torch.cat([gmf_out, mlp_out], dim=1)\n",
        "    x = self.lin1(x)\n",
        "    x = self.relu(x)\n",
        "    x = self.lin2(x)\n",
        "\n",
        "    return x"
      ],
      "metadata": {
        "id": "zHm40m-UWp9b"
      },
      "execution_count": 13,
      "outputs": []
    },
    {
      "cell_type": "code",
      "source": [
        "neumf = NeuMF(num_users,num_items)\n",
        "learning_rate = 0.01\n",
        "criterion_n = nn.MSELoss()\n",
        "optimizer_n = torch.optim.Adam(neumf.parameters(), lr=learning_rate)"
      ],
      "metadata": {
        "id": "fcMR8fhyV14h"
      },
      "execution_count": 15,
      "outputs": []
    },
    {
      "cell_type": "code",
      "source": [
        "num_epochs = 30\n",
        "\n",
        "\n",
        "neumf.train()\n",
        "\n",
        "for epoch in range(num_epochs):\n",
        "  for i,data in enumerate(trainiter):\n",
        "      user,item,rating = data['user_id'],data['item_id'],data['rating']\n",
        "\n",
        "\n",
        "      # forward pass and loss\n",
        "\n",
        "      y_predicted = neumf.forward(user,item)\n",
        "\n",
        "      loss = criterion_n(y_predicted,rating.unsqueeze(-1))\n",
        "\n",
        "      # backward pass\n",
        "      loss.backward()\n",
        "\n",
        "      # updates\n",
        "      optimizer_n.step()\n",
        "\n",
        "      # zero gradients\n",
        "      optimizer_n.zero_grad()"
      ],
      "metadata": {
        "id": "WpjevUfiV7xu"
      },
      "execution_count": 110,
      "outputs": []
    },
    {
      "cell_type": "markdown",
      "source": [
        "### Evaluation"
      ],
      "metadata": {
        "id": "XVECk0etryRy"
      }
    },
    {
      "cell_type": "code",
      "source": [
        "preds = np.array([])\n",
        "ratings = []\n",
        "neumf.eval()\n",
        "user_dict = dict()\n",
        "top_ratings = dict()\n",
        "for i,data in enumerate(testiter):\n",
        "    user,item,rating = data['user_id'],data['item_id'],data['rating']\n",
        "    # forward pass and loss\n",
        "    y_predicted = neumf(user,item)\n",
        "    preds = np.append(preds,y_predicted.flatten().detach().numpy())\n",
        "    ratings = np.append(ratings,rating.flatten().detach().numpy())\n",
        "\n",
        "    ustr = 'u' + str(user[0].item())\n",
        "    if(user_dict.get(ustr) == None):\n",
        "      user_dict[ustr] = []\n",
        "      top_ratings[ustr] = set()\n",
        "    user_dict[ustr].append((item[0].item(),y_predicted.flatten().detach().numpy()[0]))\n",
        "    if(rating[0].item() >= 3):\n",
        "      top_ratings[ustr].add(item[0].item())"
      ],
      "metadata": {
        "id": "zmhLgag5eu8D"
      },
      "execution_count": 115,
      "outputs": []
    },
    {
      "cell_type": "markdown",
      "source": [
        "#### RMSE"
      ],
      "metadata": {
        "id": "_1M9f9wrrwZG"
      }
    },
    {
      "cell_type": "code",
      "source": [
        "from sklearn.metrics import root_mean_squared_error\n",
        "rmse = root_mean_squared_error(preds, ratings)\n",
        "print(f'RMSE: {rmse:.4f}')"
      ],
      "metadata": {
        "colab": {
          "base_uri": "https://localhost:8080/"
        },
        "id": "cJ6J2Gm7WV-B",
        "outputId": "ee1133c2-039e-47a0-9742-936a2148afd0"
      },
      "execution_count": 116,
      "outputs": [
        {
          "output_type": "stream",
          "name": "stdout",
          "text": [
            "RMSE: 1.2490\n"
          ]
        }
      ]
    },
    {
      "cell_type": "markdown",
      "source": [
        "#### Average Precision @ 3"
      ],
      "metadata": {
        "id": "dh773I5Nrp01"
      }
    },
    {
      "cell_type": "code",
      "source": [
        "p = 0\n",
        "for key in user_dict:\n",
        "  t3 = sorted(user_dict[key],reverse=True,key=lambda x: x[1])[:3]\n",
        "  for x in t3:\n",
        "    t1,t2 = x\n",
        "    if(t1 in top_ratings[key]):\n",
        "      p = p + 1\n",
        "p3 = p/(len(user_dict)*3)\n",
        "p3"
      ],
      "metadata": {
        "colab": {
          "base_uri": "https://localhost:8080/"
        },
        "id": "Tg99TczuoPdD",
        "outputId": "111eac2b-0aea-413f-d683-570def8081c0"
      },
      "execution_count": 117,
      "outputs": [
        {
          "output_type": "execute_result",
          "data": {
            "text/plain": [
              "0.8445896877269427"
            ]
          },
          "metadata": {},
          "execution_count": 117
        }
      ]
    },
    {
      "cell_type": "markdown",
      "source": [
        "### Discussion"
      ],
      "metadata": {
        "id": "VV3pbSbqsRI1"
      }
    },
    {
      "cell_type": "markdown",
      "source": [
        "Matrix Factorization acheived an RMSE of 1.62 and an average precision @ 3 of 0.831 while NCF acheived an RMSE of 1.25 and an average precision @ 3 of 0.845. Thus, although NCF had slightly better prediction error across all ratings,  both models acheived similar performance when ranking the top three recomendations."
      ],
      "metadata": {
        "id": "xRYNRFIzssw3"
      }
    },
    {
      "cell_type": "markdown",
      "source": [
        "### Works Cited"
      ],
      "metadata": {
        "id": "8O0PJ1IoozGW"
      }
    },
    {
      "cell_type": "markdown",
      "source": [
        "Crivello, G. (2024, December 1). A hacker’s guide to neural collaborative filtering with Pytorch Lightning. Medium. https://eigenvalue.medium.com/a-hackers-guide-to-neural-collaborative-filtering-with-pytorch-lightning-defa99236c78\n",
        "\n",
        "Murrell, T. (2023, February 7). Evaluating recommendation systems - precision@k, recall@k, and R-precision. Shaped. https://www.shaped.ai/blog/evaluating-recommendation-systems-part-1\n",
        "\n",
        "Zhang, A., Lipton, Z., Li, M., & Smola, A. (2023). Dive into Deep Learning. Cambridge University Press."
      ],
      "metadata": {
        "id": "B-lNIkAQo1uR"
      }
    }
  ]
}