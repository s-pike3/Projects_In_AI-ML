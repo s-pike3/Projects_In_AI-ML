{
  "nbformat": 4,
  "nbformat_minor": 0,
  "metadata": {
    "colab": {
      "provenance": [],
      "authorship_tag": "ABX9TyMlczuLE/h6FNP+PrgRhr0D",
      "include_colab_link": true
    },
    "kernelspec": {
      "name": "python3",
      "display_name": "Python 3"
    },
    "language_info": {
      "name": "python"
    }
  },
  "cells": [
    {
      "cell_type": "markdown",
      "metadata": {
        "id": "view-in-github",
        "colab_type": "text"
      },
      "source": [
        "<a href=\"https://colab.research.google.com/github/s-pike3/Projects_In_AI-ML/blob/main/HW5_part2.ipynb\" target=\"_parent\"><img src=\"https://colab.research.google.com/assets/colab-badge.svg\" alt=\"Open In Colab\"/></a>"
      ]
    },
    {
      "cell_type": "markdown",
      "source": [
        "\n",
        "\n",
        "```\n",
        "# This is formatted as code\n",
        "```\n",
        "\n",
        "Projects in AI & ML HW5 Part 2 \\\\\n",
        "Sarah Pike"
      ],
      "metadata": {
        "id": "b6NFsNDJKn2B"
      }
    },
    {
      "cell_type": "markdown",
      "source": [
        "\n",
        "Link to the dataset: https://www.kaggle.com/datasets/alessiocorrado99/animals10"
      ],
      "metadata": {
        "id": "Ga5Yvp3-68Po"
      }
    },
    {
      "cell_type": "code",
      "source": [
        "import numpy as np\n",
        "from torch.utils.data.dataloader import default_collate\n",
        "import matplotlib.pyplot as plt\n",
        "from sklearn.metrics import accuracy_score\n",
        "from sklearn import tree\n",
        "import matplotlib.pyplot as plt\n",
        "from sklearn.model_selection import cross_val_score\n",
        "from sklearn.model_selection import StratifiedKFold\n",
        "import math\n",
        "import torch\n",
        "from torch import nn\n",
        "from torch.nn import functional as F\n",
        "from torch.autograd import Variable\n",
        "from sklearn.preprocessing import LabelBinarizer\n",
        "!pip install torcheval\n",
        "from torcheval.metrics import MulticlassAccuracy"
      ],
      "metadata": {
        "id": "NzKgZZ7N4POP",
        "colab": {
          "base_uri": "https://localhost:8080/"
        },
        "outputId": "36569eab-68ff-415c-e0f9-7d3700fba580"
      },
      "execution_count": 1,
      "outputs": [
        {
          "output_type": "stream",
          "name": "stdout",
          "text": [
            "Collecting torcheval\n",
            "  Downloading torcheval-0.0.7-py3-none-any.whl.metadata (8.6 kB)\n",
            "Requirement already satisfied: typing-extensions in /usr/local/lib/python3.11/dist-packages (from torcheval) (4.12.2)\n",
            "Downloading torcheval-0.0.7-py3-none-any.whl (179 kB)\n",
            "\u001b[2K   \u001b[90m━━━━━━━━━━━━━━━━━━━━━━━━━━━━━━━━━━━━━━━━\u001b[0m \u001b[32m179.2/179.2 kB\u001b[0m \u001b[31m2.9 MB/s\u001b[0m eta \u001b[36m0:00:00\u001b[0m\n",
            "\u001b[?25hInstalling collected packages: torcheval\n",
            "Successfully installed torcheval-0.0.7\n"
          ]
        }
      ]
    },
    {
      "cell_type": "markdown",
      "source": [
        "### Setup"
      ],
      "metadata": {
        "id": "7bng34bVEfV_"
      }
    },
    {
      "cell_type": "code",
      "source": [
        "import kagglehub\n",
        "\n",
        "# Download latest version\n",
        "path = kagglehub.dataset_download(\"alessiocorrado99/animals10\")\n",
        "\n",
        "print(\"Path to dataset files:\", path)"
      ],
      "metadata": {
        "colab": {
          "base_uri": "https://localhost:8080/"
        },
        "id": "k_uif4BEZRpw",
        "outputId": "f8e44c7d-ba6d-4a80-ccd0-d04645de5cb8"
      },
      "execution_count": 2,
      "outputs": [
        {
          "output_type": "stream",
          "name": "stdout",
          "text": [
            "Downloading from https://www.kaggle.com/api/v1/datasets/download/alessiocorrado99/animals10?dataset_version_number=2...\n"
          ]
        },
        {
          "output_type": "stream",
          "name": "stderr",
          "text": [
            "100%|██████████| 586M/586M [00:07<00:00, 82.5MB/s]"
          ]
        },
        {
          "output_type": "stream",
          "name": "stdout",
          "text": [
            "Extracting files...\n"
          ]
        },
        {
          "output_type": "stream",
          "name": "stderr",
          "text": [
            "\n"
          ]
        },
        {
          "output_type": "stream",
          "name": "stdout",
          "text": [
            "Path to dataset files: /root/.cache/kagglehub/datasets/alessiocorrado99/animals10/versions/2\n"
          ]
        }
      ]
    },
    {
      "cell_type": "code",
      "source": [
        "from torchvision import datasets, transforms\n",
        "\n",
        "data_dir = \"/root/.cache/kagglehub/datasets/alessiocorrado99/animals10/versions/2/raw-img\"\n",
        "# Define transformations\n",
        "transform = transforms.Compose([\n",
        "    transforms.Resize((32, 32)),  # Resize images to a uniform size\n",
        "    transforms.ToTensor()          # Convert images to tensors\n",
        "])\n",
        "\n",
        "# Load the dataset\n",
        "dataset = datasets.ImageFolder(data_dir, transform=transform)"
      ],
      "metadata": {
        "id": "al_skYAJrwzb"
      },
      "execution_count": 34,
      "outputs": []
    },
    {
      "cell_type": "markdown",
      "source": [
        "Train-Val-Test Split"
      ],
      "metadata": {
        "id": "mL320vvI0L9R"
      }
    },
    {
      "cell_type": "code",
      "source": [
        "from torch.utils.data import random_split\n",
        "generator1 = torch.Generator().manual_seed(42)\n",
        "trainset,valset,testset = random_split(dataset, [int(len(dataset)*0.8)+1, int(len(dataset)*0.1)+1,int(len(dataset)*0.1)], generator=generator1)"
      ],
      "metadata": {
        "id": "iOdAd6lczdQ2"
      },
      "execution_count": 4,
      "outputs": []
    },
    {
      "cell_type": "code",
      "source": [
        "batch_size = 8\n",
        "\n",
        "trainloader = torch.utils.data.DataLoader(trainset, batch_size=batch_size, shuffle=True, num_workers=2)\n",
        "valloader = torch.utils.data.DataLoader(trainset, batch_size=batch_size, shuffle=True, num_workers=2)\n",
        "testloader = torch.utils.data.DataLoader(trainset, batch_size=batch_size, shuffle=True, num_workers=2)"
      ],
      "metadata": {
        "id": "nVRTr7C22RvQ"
      },
      "execution_count": 5,
      "outputs": []
    },
    {
      "cell_type": "markdown",
      "source": [
        "### VAE\n",
        "\n",
        "Implementation from:  https://medium.com/@rekalantar/variational-auto-encoder-vae-pytorch-tutorial-dce2d2fe0f5f"
      ],
      "metadata": {
        "id": "KpwGpjO7Hww1"
      }
    },
    {
      "cell_type": "code",
      "source": [
        "# From https://medium.com/@rekalantar/variational-auto-encoder-vae-pytorch-tutorial-dce2d2fe0f5f\n",
        "class Encoder(nn.Module):\n",
        "\n",
        "    def __init__(self, input_dim=3*1024, hidden_dim=512, latent_dim=256):\n",
        "        super(Encoder, self).__init__()\n",
        "\n",
        "        self.linear1 = nn.Linear(input_dim, hidden_dim)\n",
        "        self.linear2 = nn.Linear(hidden_dim, hidden_dim)\n",
        "        self.mean = nn.Linear(hidden_dim, latent_dim)\n",
        "        self.var = nn.Linear (hidden_dim, latent_dim)\n",
        "        self.LeakyReLU = nn.LeakyReLU(0.2)\n",
        "        self.training = True\n",
        "\n",
        "    def forward(self, x):\n",
        "        #print(\"enc\")\n",
        "        x = self.LeakyReLU(self.linear1(x))\n",
        "        x = self.LeakyReLU(self.linear2(x))\n",
        "\n",
        "        mean = self.mean(x)\n",
        "        log_var = self.var(x)\n",
        "        return mean, log_var"
      ],
      "metadata": {
        "id": "IGhhJOe6Kjrm"
      },
      "execution_count": 75,
      "outputs": []
    },
    {
      "cell_type": "code",
      "source": [
        "# From https://medium.com/@rekalantar/variational-auto-encoder-vae-pytorch-tutorial-dce2d2fe0f5f\n",
        "class Decoder(nn.Module):\n",
        "\n",
        "    def __init__(self, output_dim=3*1024, hidden_dim=512, latent_dim=256):\n",
        "        super(Decoder, self).__init__()\n",
        "\n",
        "        self.linear2 = nn.Linear(latent_dim, hidden_dim)\n",
        "        self.linear1 = nn.Linear(hidden_dim, hidden_dim)\n",
        "        self.output = nn.Linear(hidden_dim, output_dim)\n",
        "        self.LeakyReLU = nn.LeakyReLU(0.2)\n",
        "\n",
        "    def forward(self, x):\n",
        "        #print(\"dec\")\n",
        "        x = self.LeakyReLU(self.linear2(x))\n",
        "        #print(\"dec2\")\n",
        "        x = self.LeakyReLU(self.linear1(x))\n",
        "\n",
        "        x_hat = torch.sigmoid(self.output(x))\n",
        "        return x_hat"
      ],
      "metadata": {
        "id": "OGx5HonuKkkO"
      },
      "execution_count": 86,
      "outputs": []
    },
    {
      "cell_type": "code",
      "source": [
        "# From https://medium.com/@rekalantar/variational-auto-encoder-vae-pytorch-tutorial-dce2d2fe0f5f\n",
        "class VAE(nn.Module):\n",
        "\n",
        "    def __init__(self, input_dim=3*1024, hidden_dim=400, latent_dim=200):\n",
        "        super(VAE, self).__init__()\n",
        "\n",
        "        # encoder\n",
        "        self.encoder = nn.Sequential(\n",
        "            nn.Linear(input_dim, hidden_dim),\n",
        "            nn.LeakyReLU(0.2),\n",
        "            nn.Linear(hidden_dim, latent_dim),\n",
        "            nn.LeakyReLU(0.2)\n",
        "            )\n",
        "\n",
        "        # latent mean and variance\n",
        "        self.mean_layer = nn.Linear(latent_dim, 2)\n",
        "        self.logvar_layer = nn.Linear(latent_dim, 2)\n",
        "\n",
        "        # decoder\n",
        "        self.decoder = nn.Sequential(\n",
        "            nn.Linear(2, latent_dim),\n",
        "            nn.LeakyReLU(0.2),\n",
        "            nn.Linear(latent_dim, hidden_dim),\n",
        "            nn.LeakyReLU(0.2),\n",
        "            nn.Linear(hidden_dim, input_dim),\n",
        "            nn.Sigmoid()\n",
        "            )\n",
        "\n",
        "    def encode(self, x):\n",
        "        x = self.encoder(x)\n",
        "        mean, logvar = self.mean_layer(x), self.logvar_layer(x)\n",
        "        return mean, logvar\n",
        "\n",
        "    def reparameterization(self, mean, var):\n",
        "        epsilon = torch.randn_like(var)\n",
        "        z = mean + var*epsilon\n",
        "        return z\n",
        "\n",
        "    def decode(self, x):\n",
        "        return self.decoder(x)\n",
        "\n",
        "    def forward(self, x):\n",
        "        mean, logvar = self.encode(x)\n",
        "        z = self.reparameterization(mean, logvar)\n",
        "        x_hat = self.decode(z)\n",
        "        return x_hat, mean, logvar\n",
        "\n",
        "    def forward(self, x):\n",
        "        mean, log_var = self.encode(x)\n",
        "        z = self.reparameterization(mean, torch.exp(0.5 * log_var))\n",
        "        x_hat = self.decode(z)\n",
        "        return x_hat, mean, log_var"
      ],
      "metadata": {
        "id": "maVMuMKyKpz_"
      },
      "execution_count": 85,
      "outputs": []
    },
    {
      "cell_type": "code",
      "source": [
        "model = VAE()\n",
        "optimizer = torch.optim.Adam(model.parameters(), lr=1e-3)"
      ],
      "metadata": {
        "id": "y1RdbXeNI0eX"
      },
      "execution_count": 48,
      "outputs": []
    },
    {
      "cell_type": "code",
      "source": [
        "# From https://medium.com/@rekalantar/variational-auto-encoder-vae-pytorch-tutorial-dce2d2fe0f5f\n",
        "def loss_function(x, x_hat, mean, log_var):\n",
        "    #print(x)\n",
        "    reproduction_loss = nn.functional.binary_cross_entropy(x_hat, x, reduction='sum')\n",
        "    KLD = - 0.5 * torch.sum(1+ log_var - mean.pow(2) - log_var.exp())\n",
        "\n",
        "    return reproduction_loss + KLD"
      ],
      "metadata": {
        "id": "0SV-nJZlJLGi"
      },
      "execution_count": 76,
      "outputs": []
    },
    {
      "cell_type": "markdown",
      "source": [
        "#### Training"
      ],
      "metadata": {
        "id": "2Y3eNTOZIYRL"
      }
    },
    {
      "cell_type": "code",
      "source": [
        "def train(model, optimizer, epochs,  x_dim=1024*3):\n",
        "    model.train()\n",
        "    for epoch in range(epochs):\n",
        "        overall_loss = 0\n",
        "        for batch_idx, (x, _) in enumerate(trainloader):\n",
        "            x = x.view(batch_size, x_dim)\n",
        "\n",
        "            optimizer.zero_grad()\n",
        "            x_hat, mean, log_var = model(x)\n",
        "            loss = loss_function(x, x_hat, mean, log_var)\n",
        "\n",
        "            overall_loss += loss.item()\n",
        "\n",
        "            loss.backward()\n",
        "            optimizer.step()\n",
        "\n",
        "        print(\"\\tEpoch\", epoch + 1, \"\\tAverage Loss: \", overall_loss/(batch_idx*batch_size))\n",
        "    return overall_loss"
      ],
      "metadata": {
        "id": "3lRLRbk-BhW9"
      },
      "execution_count": 78,
      "outputs": []
    },
    {
      "cell_type": "code",
      "source": [
        "train(model, optimizer, epochs=50)"
      ],
      "metadata": {
        "colab": {
          "base_uri": "https://localhost:8080/"
        },
        "collapsed": true,
        "id": "Gbg80PT8LQlr",
        "outputId": "e53a4ae2-314d-482b-e4ec-06e85088a065"
      },
      "execution_count": 104,
      "outputs": [
        {
          "output_type": "stream",
          "name": "stdout",
          "text": [
            "\tEpoch 1 \tAverage Loss:  1926.0519721935302\n",
            "\tEpoch 2 \tAverage Loss:  1925.6331074371747\n",
            "\tEpoch 3 \tAverage Loss:  1924.9428492638278\n",
            "\tEpoch 4 \tAverage Loss:  1924.4748041650746\n",
            "\tEpoch 5 \tAverage Loss:  1924.0023967668578\n",
            "\tEpoch 6 \tAverage Loss:  1923.5331346033\n",
            "\tEpoch 7 \tAverage Loss:  1923.3150599781775\n",
            "\tEpoch 8 \tAverage Loss:  1922.9794918143389\n",
            "\tEpoch 9 \tAverage Loss:  1922.335064582985\n",
            "\tEpoch 10 \tAverage Loss:  1921.9063561643222\n",
            "\tEpoch 11 \tAverage Loss:  1921.6294973371228\n",
            "\tEpoch 12 \tAverage Loss:  1921.5154256387025\n",
            "\tEpoch 13 \tAverage Loss:  1921.3740296413027\n",
            "\tEpoch 14 \tAverage Loss:  1921.429925670048\n",
            "\tEpoch 15 \tAverage Loss:  1921.5504646694837\n",
            "\tEpoch 16 \tAverage Loss:  1920.4853374290249\n",
            "\tEpoch 17 \tAverage Loss:  1920.4179460338203\n",
            "\tEpoch 18 \tAverage Loss:  1920.267755189924\n",
            "\tEpoch 19 \tAverage Loss:  1920.422708921684\n",
            "\tEpoch 20 \tAverage Loss:  1920.2485540008836\n",
            "\tEpoch 21 \tAverage Loss:  1919.821285190954\n",
            "\tEpoch 22 \tAverage Loss:  1920.4793280899228\n",
            "\tEpoch 23 \tAverage Loss:  1920.213016007117\n",
            "\tEpoch 24 \tAverage Loss:  1919.614530033495\n",
            "\tEpoch 25 \tAverage Loss:  1920.552684837869\n",
            "\tEpoch 26 \tAverage Loss:  1919.244537901596\n",
            "\tEpoch 27 \tAverage Loss:  1919.5165266970619\n",
            "\tEpoch 28 \tAverage Loss:  1919.45568581779\n",
            "\tEpoch 29 \tAverage Loss:  1919.2710945616252\n",
            "\tEpoch 30 \tAverage Loss:  1918.9575924375924\n",
            "\tEpoch 31 \tAverage Loss:  1918.9992028346808\n",
            "\tEpoch 32 \tAverage Loss:  1919.144293732984\n",
            "\tEpoch 33 \tAverage Loss:  1919.240162028399\n",
            "\tEpoch 34 \tAverage Loss:  1918.4513159618152\n",
            "\tEpoch 35 \tAverage Loss:  1918.3497353168584\n",
            "\tEpoch 36 \tAverage Loss:  1918.3432684356492\n",
            "\tEpoch 37 \tAverage Loss:  1919.089319598643\n",
            "\tEpoch 38 \tAverage Loss:  1918.5857156557486\n",
            "\tEpoch 39 \tAverage Loss:  1918.2205632362468\n",
            "\tEpoch 40 \tAverage Loss:  1918.7355908520312\n",
            "\tEpoch 41 \tAverage Loss:  1918.561910172296\n",
            "\tEpoch 42 \tAverage Loss:  1917.8269214156387\n",
            "\tEpoch 43 \tAverage Loss:  1918.2874489982119\n",
            "\tEpoch 44 \tAverage Loss:  1917.3500536698898\n",
            "\tEpoch 45 \tAverage Loss:  1918.8237460948694\n",
            "\tEpoch 46 \tAverage Loss:  1917.6784942242132\n",
            "\tEpoch 47 \tAverage Loss:  1918.0490298185541\n",
            "\tEpoch 48 \tAverage Loss:  1918.2048007730405\n",
            "\tEpoch 49 \tAverage Loss:  1918.5284797455638\n",
            "\tEpoch 50 \tAverage Loss:  1917.772940076304\n"
          ]
        },
        {
          "output_type": "execute_result",
          "data": {
            "text/plain": [
              "40150494.2734375"
            ]
          },
          "metadata": {},
          "execution_count": 104
        }
      ]
    },
    {
      "cell_type": "markdown",
      "source": [
        "#### Reconstruction"
      ],
      "metadata": {
        "id": "6UvgyP59IpJf"
      }
    },
    {
      "cell_type": "code",
      "source": [
        "#Original image in reduced dimension\n",
        "image, label = dataset[15000]\n",
        "\n",
        "image_np = image.permute(1, 2, 0).numpy()\n",
        "\n",
        "# Display the image using Matplotlib\n",
        "plt.imshow(image_np)\n",
        "plt.show()"
      ],
      "metadata": {
        "colab": {
          "base_uri": "https://localhost:8080/",
          "height": 430
        },
        "id": "j0x3IYID8Hxr",
        "outputId": "b4c801e5-5c4e-4410-e9b2-43ae2fefaf3f"
      },
      "execution_count": 112,
      "outputs": [
        {
          "output_type": "display_data",
          "data": {
            "text/plain": [
              "<Figure size 640x480 with 1 Axes>"
            ],
            "image/png": "[encoded data removed]"
          },
          "metadata": {}
        }
      ]
    },
    {
      "cell_type": "code",
      "source": [
        "gen_img = model(image.reshape(1,3*1024))"
      ],
      "metadata": {
        "id": "p1zOWPEX8a9s"
      },
      "execution_count": 116,
      "outputs": []
    },
    {
      "cell_type": "code",
      "source": [
        "#reconstructed image\n",
        "img = gen_img[0].detach().reshape(3)\n",
        "plt.imshow(img)"
      ],
      "metadata": {
        "colab": {
          "base_uri": "https://localhost:8080/",
          "height": 447
        },
        "id": "t38bmSrA8tYK",
        "outputId": "10a9ea90-a89b-4061-c716-de58753647a8"
      },
      "execution_count": 127,
      "outputs": [
        {
          "output_type": "execute_result",
          "data": {
            "text/plain": [
              "<matplotlib.image.AxesImage at 0x7a609749ded0>"
            ]
          },
          "metadata": {},
          "execution_count": 127
        },
        {
          "output_type": "display_data",
          "data": {
            "text/plain": [
              "<Figure size 640x480 with 1 Axes>"
            ],
            "image/png": "[encoded data removed]"
          },
          "metadata": {}
        }
      ]
    },
    {
      "cell_type": "markdown",
      "source": [
        "### GAN\n",
        "Implementation from: https://medium.com/@theprogramminggeek/generating-new-realities-crafting-a-simple-gan-with-pytorch-fc312f57a12d"
      ],
      "metadata": {
        "id": "v8WCwdv8Trm9"
      }
    },
    {
      "cell_type": "code",
      "source": [
        "# From https://medium.com/@theprogramminggeek/generating-new-realities-crafting-a-simple-gan-with-pytorch-fc312f57a12d\n",
        "latent_dim = 100  # Size of the random noise vector\n",
        "\n",
        "# Define the Generator's architecture\n",
        "G = nn.Sequential(\n",
        "    nn.Linear(latent_dim, 256),\n",
        "    nn.LeakyReLU(0.2),\n",
        "    nn.Linear(256, 512),\n",
        "    nn.LeakyReLU(0.2),\n",
        "    nn.Linear(512, 1024),\n",
        "    nn.LeakyReLU(0.2),\n",
        "    nn.Linear(1024, 32*32*3),\n",
        "    nn.Tanh()\n",
        ")"
      ],
      "metadata": {
        "id": "85z3iirbu2n-"
      },
      "execution_count": 35,
      "outputs": []
    },
    {
      "cell_type": "code",
      "source": [
        "# From https://medium.com/@theprogramminggeek/generating-new-realities-crafting-a-simple-gan-with-pytorch-fc312f57a12d\n",
        "# Define the Discriminator's architecture\n",
        "D = nn.Sequential(\n",
        "    nn.Linear(32*32*3, 1024),\n",
        "    nn.LeakyReLU(0.2),\n",
        "    nn.Dropout(0.3),\n",
        "    nn.Linear(1024, 512),\n",
        "    nn.LeakyReLU(0.2),\n",
        "    nn.Dropout(0.3),\n",
        "    nn.Linear(512, 256),\n",
        "    nn.LeakyReLU(0.2),\n",
        "    nn.Dropout(0.3),\n",
        "    nn.Linear(256, 1),\n",
        "    nn.Sigmoid()\n",
        ")"
      ],
      "metadata": {
        "id": "xv9hFKoqu7FX"
      },
      "execution_count": 24,
      "outputs": []
    },
    {
      "cell_type": "code",
      "source": [
        "# Loss function\n",
        "criterion = nn.BCELoss()\n",
        "\n",
        "# Optimizers\n",
        "G_optimizer = torch.optim.Adam(G.parameters(), lr=0.0002, betas=(0.5, 0.999))\n",
        "D_optimizer = torch.optim.Adam(D.parameters(), lr=0.0002, betas=(0.5, 0.999))"
      ],
      "metadata": {
        "id": "mVwvc6B0u9fw"
      },
      "execution_count": 30,
      "outputs": []
    },
    {
      "cell_type": "code",
      "source": [
        "# # From https://medium.com/@theprogramminggeek/generating-new-realities-crafting-a-simple-gan-with-pytorch-fc312f57a12d\n",
        "import torch.autograd as autograd\n",
        "\n",
        "# Number of epochs\n",
        "num_epochs = 15\n",
        "\n",
        "# Training loop\n",
        "for epoch in range(num_epochs):\n",
        "    for i, (images, _) in enumerate(trainloader):\n",
        "        # Flatten the images for the Discriminator\n",
        "        images = images.view(images.size(0), -1)\n",
        "\n",
        "        # Real labels are 1, fake labels are 0\n",
        "        real_labels = torch.ones(images.size(0), 1)\n",
        "        fake_labels = torch.zeros(images.size(0), 1)\n",
        "\n",
        "\n",
        "        # Train the Discriminator\n",
        "        D_optimizer.zero_grad()\n",
        "\n",
        "        # Compute BCELoss using real images\n",
        "        outputs = D(images)\n",
        "        D_loss_real = criterion(outputs, real_labels)\n",
        "        real_score = outputs\n",
        "\n",
        "        # Generate fake images\n",
        "        z = torch.randn(images.size(0), latent_dim)\n",
        "        fake_images = G(z)\n",
        "\n",
        "        # Compute BCELoss using fake images\n",
        "        outputs = D(fake_images.detach())\n",
        "        D_loss_fake = criterion(outputs, fake_labels)\n",
        "        fake_score = outputs\n",
        "\n",
        "        # Optimize the Discriminator\n",
        "        D_loss = D_loss_real + D_loss_fake\n",
        "        D_loss.backward()\n",
        "        D_optimizer.step()\n",
        "\n",
        "        # Train the Generator\n",
        "        G_optimizer.zero_grad()\n",
        "\n",
        "        # Generate fake images\n",
        "        z = torch.randn(images.size(0), latent_dim)\n",
        "        fake_images = G(z)\n",
        "\n",
        "        # Compute BCELoss using fake images, with reversed labels\n",
        "        outputs = D(fake_images)\n",
        "        G_loss = criterion(outputs, real_labels)\n",
        "\n",
        "        # Optimize the Generator\n",
        "        G_loss.backward()\n",
        "        G_optimizer.step()\n",
        "\n",
        "        if (i+1) % 100 == 0:\n",
        "            print('Epoch [{}/{}], Step [{}/{}], D_loss: {:.4f}, G_loss: {:.4f}, D(x): {:.2f}, D(G(z)): {:.2f}'\n",
        "                  .format(epoch+1, num_epochs, i+1, len(trainloader), D_loss.item(), G_loss.item(),\n",
        "                          real_score.mean().item(), fake_score.mean().item()))"
      ],
      "metadata": {
        "colab": {
          "base_uri": "https://localhost:8080/"
        },
        "collapsed": true,
        "id": "WxLYZOc3vAwI",
        "outputId": "cfe5b4e1-07a2-4cb2-db90-306767a317ec"
      },
      "execution_count": 31,
      "outputs": [
        {
          "output_type": "stream",
          "name": "stdout",
          "text": [
            "Epoch [1/15], Step [100/2618], D_loss: 1.3270, G_loss: 0.7420, D(x): 0.48, D(G(z)): 0.45\n",
            "Epoch [1/15], Step [200/2618], D_loss: 1.3395, G_loss: 0.7996, D(x): 0.48, D(G(z)): 0.45\n",
            "Epoch [1/15], Step [300/2618], D_loss: 1.4247, G_loss: 0.6879, D(x): 0.51, D(G(z)): 0.53\n",
            "Epoch [1/15], Step [400/2618], D_loss: 1.3420, G_loss: 0.7607, D(x): 0.49, D(G(z)): 0.46\n",
            "Epoch [1/15], Step [500/2618], D_loss: 1.4351, G_loss: 0.7477, D(x): 0.48, D(G(z)): 0.50\n",
            "Epoch [1/15], Step [600/2618], D_loss: 1.2792, G_loss: 0.7031, D(x): 0.56, D(G(z)): 0.51\n",
            "Epoch [1/15], Step [700/2618], D_loss: 1.5169, G_loss: 0.6774, D(x): 0.48, D(G(z)): 0.54\n",
            "Epoch [1/15], Step [800/2618], D_loss: 1.4468, G_loss: 0.6710, D(x): 0.48, D(G(z)): 0.50\n",
            "Epoch [1/15], Step [900/2618], D_loss: 1.4607, G_loss: 0.7738, D(x): 0.47, D(G(z)): 0.50\n",
            "Epoch [1/15], Step [1000/2618], D_loss: 1.4402, G_loss: 0.5968, D(x): 0.55, D(G(z)): 0.57\n",
            "Epoch [1/15], Step [1100/2618], D_loss: 1.4238, G_loss: 0.7624, D(x): 0.46, D(G(z)): 0.47\n",
            "Epoch [1/15], Step [1200/2618], D_loss: 1.4507, G_loss: 0.7024, D(x): 0.48, D(G(z)): 0.51\n",
            "Epoch [1/15], Step [1300/2618], D_loss: 1.3738, G_loss: 0.7159, D(x): 0.50, D(G(z)): 0.49\n",
            "Epoch [1/15], Step [1400/2618], D_loss: 1.3745, G_loss: 0.7377, D(x): 0.48, D(G(z)): 0.47\n",
            "Epoch [1/15], Step [1500/2618], D_loss: 1.4169, G_loss: 0.7221, D(x): 0.48, D(G(z)): 0.49\n",
            "Epoch [1/15], Step [1600/2618], D_loss: 1.3815, G_loss: 0.6903, D(x): 0.50, D(G(z)): 0.50\n",
            "Epoch [1/15], Step [1700/2618], D_loss: 1.4107, G_loss: 0.7080, D(x): 0.47, D(G(z)): 0.48\n",
            "Epoch [1/15], Step [1800/2618], D_loss: 1.4310, G_loss: 0.6836, D(x): 0.50, D(G(z)): 0.52\n",
            "Epoch [1/15], Step [1900/2618], D_loss: 1.3953, G_loss: 0.7666, D(x): 0.49, D(G(z)): 0.50\n",
            "Epoch [1/15], Step [2000/2618], D_loss: 1.4529, G_loss: 0.5926, D(x): 0.47, D(G(z)): 0.50\n",
            "Epoch [1/15], Step [2100/2618], D_loss: 1.3568, G_loss: 0.6179, D(x): 0.55, D(G(z)): 0.53\n",
            "Epoch [1/15], Step [2200/2618], D_loss: 1.3445, G_loss: 0.6881, D(x): 0.52, D(G(z)): 0.50\n",
            "Epoch [1/15], Step [2300/2618], D_loss: 1.4042, G_loss: 0.7760, D(x): 0.46, D(G(z)): 0.46\n",
            "Epoch [1/15], Step [2400/2618], D_loss: 1.3528, G_loss: 0.7216, D(x): 0.48, D(G(z)): 0.46\n",
            "Epoch [1/15], Step [2500/2618], D_loss: 1.3856, G_loss: 0.6743, D(x): 0.51, D(G(z)): 0.51\n",
            "Epoch [1/15], Step [2600/2618], D_loss: 1.3959, G_loss: 0.6773, D(x): 0.51, D(G(z)): 0.51\n",
            "Epoch [2/15], Step [100/2618], D_loss: 1.3437, G_loss: 0.6536, D(x): 0.53, D(G(z)): 0.51\n",
            "Epoch [2/15], Step [200/2618], D_loss: 1.4041, G_loss: 0.7227, D(x): 0.49, D(G(z)): 0.50\n",
            "Epoch [2/15], Step [300/2618], D_loss: 1.3515, G_loss: 0.6873, D(x): 0.51, D(G(z)): 0.50\n",
            "Epoch [2/15], Step [400/2618], D_loss: 1.3650, G_loss: 0.6927, D(x): 0.50, D(G(z)): 0.49\n",
            "Epoch [2/15], Step [500/2618], D_loss: 1.4738, G_loss: 0.6353, D(x): 0.52, D(G(z)): 0.56\n",
            "Epoch [2/15], Step [600/2618], D_loss: 1.4005, G_loss: 0.7525, D(x): 0.55, D(G(z)): 0.55\n",
            "Epoch [2/15], Step [700/2618], D_loss: 1.4417, G_loss: 0.6291, D(x): 0.53, D(G(z)): 0.55\n",
            "Epoch [2/15], Step [800/2618], D_loss: 1.3879, G_loss: 0.7603, D(x): 0.46, D(G(z)): 0.46\n",
            "Epoch [2/15], Step [900/2618], D_loss: 1.3754, G_loss: 0.7038, D(x): 0.51, D(G(z)): 0.51\n",
            "Epoch [2/15], Step [1000/2618], D_loss: 1.3882, G_loss: 0.7357, D(x): 0.47, D(G(z)): 0.47\n",
            "Epoch [2/15], Step [1100/2618], D_loss: 1.3627, G_loss: 0.6891, D(x): 0.51, D(G(z)): 0.50\n",
            "Epoch [2/15], Step [1200/2618], D_loss: 1.3707, G_loss: 0.6767, D(x): 0.51, D(G(z)): 0.50\n",
            "Epoch [2/15], Step [1300/2618], D_loss: 1.3525, G_loss: 0.7885, D(x): 0.49, D(G(z)): 0.47\n",
            "Epoch [2/15], Step [1400/2618], D_loss: 1.3993, G_loss: 0.7268, D(x): 0.47, D(G(z)): 0.47\n",
            "Epoch [2/15], Step [1500/2618], D_loss: 1.3715, G_loss: 0.6425, D(x): 0.51, D(G(z)): 0.50\n",
            "Epoch [2/15], Step [1600/2618], D_loss: 1.4085, G_loss: 0.6652, D(x): 0.51, D(G(z)): 0.52\n",
            "Epoch [2/15], Step [1700/2618], D_loss: 1.4289, G_loss: 0.6966, D(x): 0.48, D(G(z)): 0.49\n",
            "Epoch [2/15], Step [1800/2618], D_loss: 1.3311, G_loss: 0.6600, D(x): 0.54, D(G(z)): 0.51\n",
            "Epoch [2/15], Step [1900/2618], D_loss: 1.4426, G_loss: 0.6122, D(x): 0.52, D(G(z)): 0.54\n",
            "Epoch [2/15], Step [2000/2618], D_loss: 1.3955, G_loss: 0.6443, D(x): 0.52, D(G(z)): 0.53\n",
            "Epoch [2/15], Step [2100/2618], D_loss: 1.3367, G_loss: 0.6045, D(x): 0.54, D(G(z)): 0.51\n",
            "Epoch [2/15], Step [2200/2618], D_loss: 1.3604, G_loss: 0.6753, D(x): 0.53, D(G(z)): 0.52\n",
            "Epoch [2/15], Step [2300/2618], D_loss: 1.4234, G_loss: 0.6554, D(x): 0.50, D(G(z)): 0.52\n",
            "Epoch [2/15], Step [2400/2618], D_loss: 1.3508, G_loss: 0.7256, D(x): 0.51, D(G(z)): 0.49\n",
            "Epoch [2/15], Step [2500/2618], D_loss: 1.3570, G_loss: 0.6602, D(x): 0.54, D(G(z)): 0.52\n",
            "Epoch [2/15], Step [2600/2618], D_loss: 1.4116, G_loss: 0.7254, D(x): 0.51, D(G(z)): 0.52\n",
            "Epoch [3/15], Step [100/2618], D_loss: 1.3611, G_loss: 0.7778, D(x): 0.50, D(G(z)): 0.48\n",
            "Epoch [3/15], Step [200/2618], D_loss: 1.4186, G_loss: 0.5954, D(x): 0.54, D(G(z)): 0.54\n",
            "Epoch [3/15], Step [300/2618], D_loss: 1.4051, G_loss: 0.7502, D(x): 0.45, D(G(z)): 0.46\n",
            "Epoch [3/15], Step [400/2618], D_loss: 1.4563, G_loss: 0.6999, D(x): 0.49, D(G(z)): 0.51\n",
            "Epoch [3/15], Step [500/2618], D_loss: 1.3636, G_loss: 0.6452, D(x): 0.53, D(G(z)): 0.52\n",
            "Epoch [3/15], Step [600/2618], D_loss: 1.3883, G_loss: 0.7115, D(x): 0.49, D(G(z)): 0.49\n",
            "Epoch [3/15], Step [700/2618], D_loss: 1.4175, G_loss: 0.7350, D(x): 0.49, D(G(z)): 0.50\n",
            "Epoch [3/15], Step [800/2618], D_loss: 1.3650, G_loss: 0.7482, D(x): 0.47, D(G(z)): 0.46\n",
            "Epoch [3/15], Step [900/2618], D_loss: 1.3888, G_loss: 0.7038, D(x): 0.52, D(G(z)): 0.52\n",
            "Epoch [3/15], Step [1000/2618], D_loss: 1.3800, G_loss: 0.7157, D(x): 0.48, D(G(z)): 0.48\n",
            "Epoch [3/15], Step [1100/2618], D_loss: 1.4249, G_loss: 0.6821, D(x): 0.50, D(G(z)): 0.51\n",
            "Epoch [3/15], Step [1200/2618], D_loss: 1.3898, G_loss: 0.6750, D(x): 0.51, D(G(z)): 0.51\n",
            "Epoch [3/15], Step [1300/2618], D_loss: 1.4125, G_loss: 0.8170, D(x): 0.48, D(G(z)): 0.49\n",
            "Epoch [3/15], Step [1400/2618], D_loss: 1.2806, G_loss: 0.7012, D(x): 0.57, D(G(z)): 0.51\n",
            "Epoch [3/15], Step [1500/2618], D_loss: 1.3728, G_loss: 0.6792, D(x): 0.55, D(G(z)): 0.54\n",
            "Epoch [3/15], Step [1600/2618], D_loss: 1.3907, G_loss: 0.7774, D(x): 0.48, D(G(z)): 0.48\n",
            "Epoch [3/15], Step [1700/2618], D_loss: 1.2944, G_loss: 1.0536, D(x): 0.48, D(G(z)): 0.43\n",
            "Epoch [3/15], Step [1800/2618], D_loss: 1.3723, G_loss: 0.7435, D(x): 0.49, D(G(z)): 0.48\n",
            "Epoch [3/15], Step [1900/2618], D_loss: 1.4110, G_loss: 0.6305, D(x): 0.53, D(G(z)): 0.54\n",
            "Epoch [3/15], Step [2000/2618], D_loss: 1.3787, G_loss: 0.6944, D(x): 0.50, D(G(z)): 0.50\n",
            "Epoch [3/15], Step [2100/2618], D_loss: 1.4341, G_loss: 0.5898, D(x): 0.51, D(G(z)): 0.52\n",
            "Epoch [3/15], Step [2200/2618], D_loss: 1.2661, G_loss: 0.9083, D(x): 0.47, D(G(z)): 0.38\n",
            "Epoch [3/15], Step [2300/2618], D_loss: 1.3580, G_loss: 0.6604, D(x): 0.52, D(G(z)): 0.50\n",
            "Epoch [3/15], Step [2400/2618], D_loss: 1.3503, G_loss: 0.8052, D(x): 0.47, D(G(z)): 0.45\n",
            "Epoch [3/15], Step [2500/2618], D_loss: 1.3376, G_loss: 0.6771, D(x): 0.53, D(G(z)): 0.50\n",
            "Epoch [3/15], Step [2600/2618], D_loss: 1.3902, G_loss: 0.6022, D(x): 0.55, D(G(z)): 0.54\n",
            "Epoch [4/15], Step [100/2618], D_loss: 1.3908, G_loss: 0.6802, D(x): 0.50, D(G(z)): 0.50\n",
            "Epoch [4/15], Step [200/2618], D_loss: 1.3677, G_loss: 0.6535, D(x): 0.54, D(G(z)): 0.53\n",
            "Epoch [4/15], Step [300/2618], D_loss: 1.3787, G_loss: 0.7034, D(x): 0.50, D(G(z)): 0.49\n",
            "Epoch [4/15], Step [400/2618], D_loss: 1.4608, G_loss: 0.6966, D(x): 0.47, D(G(z)): 0.50\n",
            "Epoch [4/15], Step [500/2618], D_loss: 1.4396, G_loss: 0.7121, D(x): 0.50, D(G(z)): 0.52\n",
            "Epoch [4/15], Step [600/2618], D_loss: 1.4146, G_loss: 0.6847, D(x): 0.48, D(G(z)): 0.50\n",
            "Epoch [4/15], Step [700/2618], D_loss: 1.3964, G_loss: 0.6457, D(x): 0.53, D(G(z)): 0.53\n",
            "Epoch [4/15], Step [800/2618], D_loss: 1.3663, G_loss: 0.6386, D(x): 0.53, D(G(z)): 0.51\n",
            "Epoch [4/15], Step [900/2618], D_loss: 1.3718, G_loss: 0.6647, D(x): 0.52, D(G(z)): 0.51\n",
            "Epoch [4/15], Step [1000/2618], D_loss: 1.3947, G_loss: 0.6690, D(x): 0.52, D(G(z)): 0.52\n",
            "Epoch [4/15], Step [1100/2618], D_loss: 1.3569, G_loss: 0.6889, D(x): 0.52, D(G(z)): 0.51\n",
            "Epoch [4/15], Step [1200/2618], D_loss: 1.3792, G_loss: 0.7137, D(x): 0.52, D(G(z)): 0.51\n",
            "Epoch [4/15], Step [1300/2618], D_loss: 1.3635, G_loss: 0.6836, D(x): 0.52, D(G(z)): 0.51\n",
            "Epoch [4/15], Step [1400/2618], D_loss: 1.3994, G_loss: 0.7315, D(x): 0.49, D(G(z)): 0.50\n",
            "Epoch [4/15], Step [1500/2618], D_loss: 1.3766, G_loss: 0.6342, D(x): 0.54, D(G(z)): 0.53\n",
            "Epoch [4/15], Step [1600/2618], D_loss: 1.3540, G_loss: 0.7153, D(x): 0.51, D(G(z)): 0.49\n",
            "Epoch [4/15], Step [1700/2618], D_loss: 1.3295, G_loss: 0.5981, D(x): 0.60, D(G(z)): 0.55\n",
            "Epoch [4/15], Step [1800/2618], D_loss: 1.3435, G_loss: 0.6457, D(x): 0.54, D(G(z)): 0.51\n",
            "Epoch [4/15], Step [1900/2618], D_loss: 1.4115, G_loss: 0.6658, D(x): 0.50, D(G(z)): 0.51\n",
            "Epoch [4/15], Step [2000/2618], D_loss: 1.4254, G_loss: 0.6923, D(x): 0.48, D(G(z)): 0.49\n",
            "Epoch [4/15], Step [2100/2618], D_loss: 1.4236, G_loss: 0.6383, D(x): 0.51, D(G(z)): 0.53\n",
            "Epoch [4/15], Step [2200/2618], D_loss: 1.4319, G_loss: 0.6491, D(x): 0.51, D(G(z)): 0.53\n",
            "Epoch [4/15], Step [2300/2618], D_loss: 1.4237, G_loss: 0.6409, D(x): 0.53, D(G(z)): 0.54\n",
            "Epoch [4/15], Step [2400/2618], D_loss: 1.4319, G_loss: 0.6603, D(x): 0.54, D(G(z)): 0.55\n",
            "Epoch [4/15], Step [2500/2618], D_loss: 1.3780, G_loss: 0.6110, D(x): 0.53, D(G(z)): 0.52\n",
            "Epoch [4/15], Step [2600/2618], D_loss: 1.4127, G_loss: 0.7195, D(x): 0.49, D(G(z)): 0.50\n",
            "Epoch [5/15], Step [100/2618], D_loss: 1.3928, G_loss: 0.7847, D(x): 0.48, D(G(z)): 0.48\n",
            "Epoch [5/15], Step [200/2618], D_loss: 1.3603, G_loss: 0.7524, D(x): 0.49, D(G(z)): 0.48\n",
            "Epoch [5/15], Step [300/2618], D_loss: 1.4037, G_loss: 0.7218, D(x): 0.49, D(G(z)): 0.50\n",
            "Epoch [5/15], Step [400/2618], D_loss: 1.3928, G_loss: 0.6343, D(x): 0.53, D(G(z)): 0.53\n",
            "Epoch [5/15], Step [500/2618], D_loss: 1.3747, G_loss: 0.7609, D(x): 0.48, D(G(z)): 0.47\n",
            "Epoch [5/15], Step [600/2618], D_loss: 1.3941, G_loss: 0.7439, D(x): 0.48, D(G(z)): 0.48\n",
            "Epoch [5/15], Step [700/2618], D_loss: 1.3796, G_loss: 0.6793, D(x): 0.51, D(G(z)): 0.51\n",
            "Epoch [5/15], Step [800/2618], D_loss: 1.3761, G_loss: 0.6696, D(x): 0.51, D(G(z)): 0.51\n",
            "Epoch [5/15], Step [900/2618], D_loss: 1.3621, G_loss: 0.6745, D(x): 0.51, D(G(z)): 0.49\n",
            "Epoch [5/15], Step [1000/2618], D_loss: 1.4008, G_loss: 0.6404, D(x): 0.49, D(G(z)): 0.50\n",
            "Epoch [5/15], Step [1100/2618], D_loss: 1.4315, G_loss: 0.6773, D(x): 0.47, D(G(z)): 0.49\n",
            "Epoch [5/15], Step [1200/2618], D_loss: 1.4078, G_loss: 0.7164, D(x): 0.49, D(G(z)): 0.50\n",
            "Epoch [5/15], Step [1300/2618], D_loss: 1.3744, G_loss: 0.6134, D(x): 0.51, D(G(z)): 0.50\n",
            "Epoch [5/15], Step [1400/2618], D_loss: 1.3779, G_loss: 0.7140, D(x): 0.50, D(G(z)): 0.49\n",
            "Epoch [5/15], Step [1500/2618], D_loss: 1.3637, G_loss: 0.6960, D(x): 0.49, D(G(z)): 0.48\n",
            "Epoch [5/15], Step [1600/2618], D_loss: 1.4096, G_loss: 0.6935, D(x): 0.50, D(G(z)): 0.51\n",
            "Epoch [5/15], Step [1700/2618], D_loss: 1.3848, G_loss: 0.7090, D(x): 0.47, D(G(z)): 0.47\n",
            "Epoch [5/15], Step [1800/2618], D_loss: 1.4061, G_loss: 0.6417, D(x): 0.51, D(G(z)): 0.52\n",
            "Epoch [5/15], Step [1900/2618], D_loss: 1.4168, G_loss: 0.7696, D(x): 0.48, D(G(z)): 0.50\n",
            "Epoch [5/15], Step [2000/2618], D_loss: 1.3605, G_loss: 0.8016, D(x): 0.47, D(G(z)): 0.45\n",
            "Epoch [5/15], Step [2100/2618], D_loss: 1.5368, G_loss: 0.7722, D(x): 0.43, D(G(z)): 0.49\n",
            "Epoch [5/15], Step [2200/2618], D_loss: 1.3717, G_loss: 0.6177, D(x): 0.50, D(G(z)): 0.49\n",
            "Epoch [5/15], Step [2300/2618], D_loss: 1.4091, G_loss: 0.7307, D(x): 0.47, D(G(z)): 0.48\n",
            "Epoch [5/15], Step [2400/2618], D_loss: 1.3933, G_loss: 0.6676, D(x): 0.48, D(G(z)): 0.48\n",
            "Epoch [5/15], Step [2500/2618], D_loss: 1.4207, G_loss: 0.7146, D(x): 0.51, D(G(z)): 0.52\n",
            "Epoch [5/15], Step [2600/2618], D_loss: 1.4041, G_loss: 0.7267, D(x): 0.49, D(G(z)): 0.50\n",
            "Epoch [6/15], Step [100/2618], D_loss: 1.3424, G_loss: 0.7782, D(x): 0.50, D(G(z)): 0.47\n",
            "Epoch [6/15], Step [200/2618], D_loss: 1.4259, G_loss: 0.6502, D(x): 0.49, D(G(z)): 0.50\n",
            "Epoch [6/15], Step [300/2618], D_loss: 1.3794, G_loss: 0.6941, D(x): 0.50, D(G(z)): 0.50\n",
            "Epoch [6/15], Step [400/2618], D_loss: 1.2885, G_loss: 0.7546, D(x): 0.50, D(G(z)): 0.44\n",
            "Epoch [6/15], Step [500/2618], D_loss: 1.3945, G_loss: 0.7077, D(x): 0.50, D(G(z)): 0.50\n",
            "Epoch [6/15], Step [600/2618], D_loss: 1.3688, G_loss: 0.6634, D(x): 0.50, D(G(z)): 0.49\n",
            "Epoch [6/15], Step [700/2618], D_loss: 1.3211, G_loss: 0.8009, D(x): 0.50, D(G(z)): 0.46\n",
            "Epoch [6/15], Step [800/2618], D_loss: 1.3458, G_loss: 0.7074, D(x): 0.51, D(G(z)): 0.49\n",
            "Epoch [6/15], Step [900/2618], D_loss: 1.3295, G_loss: 0.7357, D(x): 0.54, D(G(z)): 0.51\n",
            "Epoch [6/15], Step [1000/2618], D_loss: 1.4207, G_loss: 0.7815, D(x): 0.48, D(G(z)): 0.49\n",
            "Epoch [6/15], Step [1100/2618], D_loss: 1.3580, G_loss: 0.7865, D(x): 0.48, D(G(z)): 0.47\n",
            "Epoch [6/15], Step [1200/2618], D_loss: 1.3954, G_loss: 0.6416, D(x): 0.52, D(G(z)): 0.52\n",
            "Epoch [6/15], Step [1300/2618], D_loss: 1.3700, G_loss: 0.6302, D(x): 0.48, D(G(z)): 0.46\n",
            "Epoch [6/15], Step [1400/2618], D_loss: 1.3453, G_loss: 0.6686, D(x): 0.53, D(G(z)): 0.50\n",
            "Epoch [6/15], Step [1500/2618], D_loss: 1.4016, G_loss: 0.7582, D(x): 0.43, D(G(z)): 0.43\n",
            "Epoch [6/15], Step [1600/2618], D_loss: 1.3910, G_loss: 0.7033, D(x): 0.50, D(G(z)): 0.50\n",
            "Epoch [6/15], Step [1700/2618], D_loss: 1.3565, G_loss: 0.6597, D(x): 0.56, D(G(z)): 0.54\n",
            "Epoch [6/15], Step [1800/2618], D_loss: 1.3893, G_loss: 0.6614, D(x): 0.51, D(G(z)): 0.51\n",
            "Epoch [6/15], Step [1900/2618], D_loss: 1.3956, G_loss: 0.6789, D(x): 0.52, D(G(z)): 0.52\n",
            "Epoch [6/15], Step [2000/2618], D_loss: 1.4523, G_loss: 0.7496, D(x): 0.46, D(G(z)): 0.49\n",
            "Epoch [6/15], Step [2100/2618], D_loss: 1.4036, G_loss: 0.6984, D(x): 0.47, D(G(z)): 0.48\n",
            "Epoch [6/15], Step [2200/2618], D_loss: 1.4976, G_loss: 0.7345, D(x): 0.46, D(G(z)): 0.51\n",
            "Epoch [6/15], Step [2300/2618], D_loss: 1.4125, G_loss: 0.7314, D(x): 0.53, D(G(z)): 0.54\n",
            "Epoch [6/15], Step [2400/2618], D_loss: 1.4376, G_loss: 0.7296, D(x): 0.48, D(G(z)): 0.50\n",
            "Epoch [6/15], Step [2500/2618], D_loss: 1.3959, G_loss: 0.6146, D(x): 0.52, D(G(z)): 0.52\n",
            "Epoch [6/15], Step [2600/2618], D_loss: 1.3969, G_loss: 0.7028, D(x): 0.49, D(G(z)): 0.50\n",
            "Epoch [7/15], Step [100/2618], D_loss: 1.3548, G_loss: 0.7187, D(x): 0.50, D(G(z)): 0.48\n",
            "Epoch [7/15], Step [200/2618], D_loss: 1.3021, G_loss: 0.7636, D(x): 0.50, D(G(z)): 0.45\n",
            "Epoch [7/15], Step [300/2618], D_loss: 1.4105, G_loss: 0.6910, D(x): 0.52, D(G(z)): 0.53\n",
            "Epoch [7/15], Step [400/2618], D_loss: 1.3868, G_loss: 0.7262, D(x): 0.49, D(G(z)): 0.48\n",
            "Epoch [7/15], Step [500/2618], D_loss: 1.4032, G_loss: 0.6522, D(x): 0.51, D(G(z)): 0.52\n",
            "Epoch [7/15], Step [600/2618], D_loss: 1.4139, G_loss: 0.6982, D(x): 0.51, D(G(z)): 0.53\n",
            "Epoch [7/15], Step [700/2618], D_loss: 1.3860, G_loss: 0.7198, D(x): 0.49, D(G(z)): 0.49\n",
            "Epoch [7/15], Step [800/2618], D_loss: 1.4401, G_loss: 0.6054, D(x): 0.52, D(G(z)): 0.54\n",
            "Epoch [7/15], Step [900/2618], D_loss: 1.3718, G_loss: 0.6893, D(x): 0.53, D(G(z)): 0.52\n",
            "Epoch [7/15], Step [1000/2618], D_loss: 1.3781, G_loss: 0.7061, D(x): 0.50, D(G(z)): 0.49\n",
            "Epoch [7/15], Step [1100/2618], D_loss: 1.4073, G_loss: 0.8068, D(x): 0.43, D(G(z)): 0.43\n",
            "Epoch [7/15], Step [1200/2618], D_loss: 1.4436, G_loss: 0.7495, D(x): 0.49, D(G(z)): 0.52\n",
            "Epoch [7/15], Step [1300/2618], D_loss: 1.4264, G_loss: 0.7089, D(x): 0.47, D(G(z)): 0.49\n",
            "Epoch [7/15], Step [1400/2618], D_loss: 1.3342, G_loss: 0.7040, D(x): 0.52, D(G(z)): 0.49\n",
            "Epoch [7/15], Step [1500/2618], D_loss: 1.3463, G_loss: 0.8303, D(x): 0.49, D(G(z)): 0.46\n",
            "Epoch [7/15], Step [1600/2618], D_loss: 1.4055, G_loss: 0.7864, D(x): 0.45, D(G(z)): 0.45\n",
            "Epoch [7/15], Step [1700/2618], D_loss: 1.4000, G_loss: 0.7973, D(x): 0.47, D(G(z)): 0.47\n",
            "Epoch [7/15], Step [1800/2618], D_loss: 1.4635, G_loss: 0.6997, D(x): 0.49, D(G(z)): 0.53\n",
            "Epoch [7/15], Step [1900/2618], D_loss: 1.4035, G_loss: 0.7525, D(x): 0.46, D(G(z)): 0.46\n",
            "Epoch [7/15], Step [2000/2618], D_loss: 1.3891, G_loss: 0.7440, D(x): 0.52, D(G(z)): 0.51\n",
            "Epoch [7/15], Step [2100/2618], D_loss: 1.4175, G_loss: 0.6756, D(x): 0.51, D(G(z)): 0.52\n",
            "Epoch [7/15], Step [2200/2618], D_loss: 1.3699, G_loss: 0.6582, D(x): 0.53, D(G(z)): 0.52\n",
            "Epoch [7/15], Step [2300/2618], D_loss: 1.4347, G_loss: 0.6938, D(x): 0.52, D(G(z)): 0.54\n",
            "Epoch [7/15], Step [2400/2618], D_loss: 1.4135, G_loss: 0.7916, D(x): 0.49, D(G(z)): 0.50\n",
            "Epoch [7/15], Step [2500/2618], D_loss: 1.3948, G_loss: 0.7945, D(x): 0.48, D(G(z)): 0.47\n",
            "Epoch [7/15], Step [2600/2618], D_loss: 1.3989, G_loss: 0.7335, D(x): 0.48, D(G(z)): 0.48\n",
            "Epoch [8/15], Step [100/2618], D_loss: 1.3461, G_loss: 0.7658, D(x): 0.48, D(G(z)): 0.46\n",
            "Epoch [8/15], Step [200/2618], D_loss: 1.3660, G_loss: 0.7777, D(x): 0.48, D(G(z)): 0.47\n",
            "Epoch [8/15], Step [300/2618], D_loss: 1.3950, G_loss: 0.7248, D(x): 0.48, D(G(z)): 0.49\n",
            "Epoch [8/15], Step [400/2618], D_loss: 1.4188, G_loss: 0.7554, D(x): 0.46, D(G(z)): 0.47\n",
            "Epoch [8/15], Step [500/2618], D_loss: 1.3970, G_loss: 0.7586, D(x): 0.47, D(G(z)): 0.47\n",
            "Epoch [8/15], Step [600/2618], D_loss: 1.3940, G_loss: 0.6685, D(x): 0.52, D(G(z)): 0.52\n",
            "Epoch [8/15], Step [700/2618], D_loss: 1.3373, G_loss: 0.7252, D(x): 0.51, D(G(z)): 0.48\n",
            "Epoch [8/15], Step [800/2618], D_loss: 1.4575, G_loss: 0.7859, D(x): 0.45, D(G(z)): 0.48\n",
            "Epoch [8/15], Step [900/2618], D_loss: 1.4493, G_loss: 0.6955, D(x): 0.50, D(G(z)): 0.52\n",
            "Epoch [8/15], Step [1000/2618], D_loss: 1.3721, G_loss: 0.6885, D(x): 0.53, D(G(z)): 0.52\n",
            "Epoch [8/15], Step [1100/2618], D_loss: 1.4767, G_loss: 0.7127, D(x): 0.48, D(G(z)): 0.52\n",
            "Epoch [8/15], Step [1200/2618], D_loss: 1.3281, G_loss: 0.7293, D(x): 0.51, D(G(z)): 0.48\n",
            "Epoch [8/15], Step [1300/2618], D_loss: 1.3598, G_loss: 0.7347, D(x): 0.51, D(G(z)): 0.50\n",
            "Epoch [8/15], Step [1400/2618], D_loss: 1.3924, G_loss: 0.7617, D(x): 0.48, D(G(z)): 0.48\n",
            "Epoch [8/15], Step [1500/2618], D_loss: 1.4256, G_loss: 0.6924, D(x): 0.50, D(G(z)): 0.51\n",
            "Epoch [8/15], Step [1600/2618], D_loss: 1.3672, G_loss: 0.8080, D(x): 0.45, D(G(z)): 0.43\n",
            "Epoch [8/15], Step [1700/2618], D_loss: 1.4188, G_loss: 0.6887, D(x): 0.48, D(G(z)): 0.49\n",
            "Epoch [8/15], Step [1800/2618], D_loss: 1.3824, G_loss: 0.7374, D(x): 0.51, D(G(z)): 0.51\n",
            "Epoch [8/15], Step [1900/2618], D_loss: 1.3675, G_loss: 0.7072, D(x): 0.51, D(G(z)): 0.50\n",
            "Epoch [8/15], Step [2000/2618], D_loss: 1.3075, G_loss: 0.6430, D(x): 0.56, D(G(z)): 0.52\n",
            "Epoch [8/15], Step [2100/2618], D_loss: 1.3776, G_loss: 0.6794, D(x): 0.50, D(G(z)): 0.50\n",
            "Epoch [8/15], Step [2200/2618], D_loss: 1.3207, G_loss: 0.7008, D(x): 0.53, D(G(z)): 0.50\n",
            "Epoch [8/15], Step [2300/2618], D_loss: 1.3704, G_loss: 0.7174, D(x): 0.50, D(G(z)): 0.49\n",
            "Epoch [8/15], Step [2400/2618], D_loss: 1.3905, G_loss: 0.7054, D(x): 0.50, D(G(z)): 0.50\n",
            "Epoch [8/15], Step [2500/2618], D_loss: 1.3691, G_loss: 0.7112, D(x): 0.51, D(G(z)): 0.50\n",
            "Epoch [8/15], Step [2600/2618], D_loss: 1.3807, G_loss: 0.7283, D(x): 0.48, D(G(z)): 0.47\n",
            "Epoch [9/15], Step [100/2618], D_loss: 1.4079, G_loss: 0.7048, D(x): 0.47, D(G(z)): 0.48\n",
            "Epoch [9/15], Step [200/2618], D_loss: 1.3961, G_loss: 0.6604, D(x): 0.53, D(G(z)): 0.53\n",
            "Epoch [9/15], Step [300/2618], D_loss: 1.3827, G_loss: 0.6591, D(x): 0.51, D(G(z)): 0.51\n",
            "Epoch [9/15], Step [400/2618], D_loss: 1.4087, G_loss: 0.7392, D(x): 0.47, D(G(z)): 0.48\n",
            "Epoch [9/15], Step [500/2618], D_loss: 1.3194, G_loss: 0.8207, D(x): 0.52, D(G(z)): 0.49\n",
            "Epoch [9/15], Step [600/2618], D_loss: 1.4135, G_loss: 0.7407, D(x): 0.45, D(G(z)): 0.46\n",
            "Epoch [9/15], Step [700/2618], D_loss: 1.3127, G_loss: 0.7644, D(x): 0.50, D(G(z)): 0.46\n",
            "Epoch [9/15], Step [800/2618], D_loss: 1.3325, G_loss: 0.7341, D(x): 0.49, D(G(z)): 0.46\n",
            "Epoch [9/15], Step [900/2618], D_loss: 1.3904, G_loss: 0.7046, D(x): 0.50, D(G(z)): 0.50\n",
            "Epoch [9/15], Step [1000/2618], D_loss: 1.4070, G_loss: 0.7101, D(x): 0.46, D(G(z)): 0.47\n",
            "Epoch [9/15], Step [1100/2618], D_loss: 1.3598, G_loss: 0.7029, D(x): 0.53, D(G(z)): 0.51\n",
            "Epoch [9/15], Step [1200/2618], D_loss: 1.3661, G_loss: 0.6672, D(x): 0.53, D(G(z)): 0.52\n",
            "Epoch [9/15], Step [1300/2618], D_loss: 1.3263, G_loss: 0.9022, D(x): 0.48, D(G(z)): 0.44\n",
            "Epoch [9/15], Step [1400/2618], D_loss: 1.3272, G_loss: 0.7111, D(x): 0.52, D(G(z)): 0.49\n",
            "Epoch [9/15], Step [1500/2618], D_loss: 1.4148, G_loss: 0.6956, D(x): 0.47, D(G(z)): 0.48\n",
            "Epoch [9/15], Step [1600/2618], D_loss: 1.3418, G_loss: 0.5942, D(x): 0.56, D(G(z)): 0.53\n",
            "Epoch [9/15], Step [1700/2618], D_loss: 1.3521, G_loss: 0.7110, D(x): 0.51, D(G(z)): 0.49\n",
            "Epoch [9/15], Step [1800/2618], D_loss: 1.3725, G_loss: 0.7158, D(x): 0.49, D(G(z)): 0.48\n",
            "Epoch [9/15], Step [1900/2618], D_loss: 1.3840, G_loss: 0.6912, D(x): 0.50, D(G(z)): 0.49\n",
            "Epoch [9/15], Step [2000/2618], D_loss: 1.4025, G_loss: 0.6741, D(x): 0.48, D(G(z)): 0.48\n",
            "Epoch [9/15], Step [2100/2618], D_loss: 1.3705, G_loss: 0.8709, D(x): 0.49, D(G(z)): 0.48\n",
            "Epoch [9/15], Step [2200/2618], D_loss: 1.3869, G_loss: 0.7140, D(x): 0.49, D(G(z)): 0.48\n",
            "Epoch [9/15], Step [2300/2618], D_loss: 1.3541, G_loss: 0.5967, D(x): 0.54, D(G(z)): 0.52\n",
            "Epoch [9/15], Step [2400/2618], D_loss: 1.3228, G_loss: 0.6939, D(x): 0.55, D(G(z)): 0.50\n",
            "Epoch [9/15], Step [2500/2618], D_loss: 1.3191, G_loss: 0.5883, D(x): 0.57, D(G(z)): 0.53\n",
            "Epoch [9/15], Step [2600/2618], D_loss: 1.4325, G_loss: 0.7947, D(x): 0.46, D(G(z)): 0.48\n",
            "Epoch [10/15], Step [100/2618], D_loss: 1.3718, G_loss: 0.6614, D(x): 0.53, D(G(z)): 0.52\n",
            "Epoch [10/15], Step [200/2618], D_loss: 1.4047, G_loss: 0.7018, D(x): 0.48, D(G(z)): 0.48\n",
            "Epoch [10/15], Step [300/2618], D_loss: 1.4310, G_loss: 0.6921, D(x): 0.51, D(G(z)): 0.53\n",
            "Epoch [10/15], Step [400/2618], D_loss: 1.3454, G_loss: 0.6642, D(x): 0.53, D(G(z)): 0.51\n",
            "Epoch [10/15], Step [500/2618], D_loss: 1.3796, G_loss: 0.6726, D(x): 0.48, D(G(z)): 0.48\n",
            "Epoch [10/15], Step [600/2618], D_loss: 1.4007, G_loss: 0.7104, D(x): 0.49, D(G(z)): 0.49\n",
            "Epoch [10/15], Step [700/2618], D_loss: 1.3930, G_loss: 0.7056, D(x): 0.52, D(G(z)): 0.51\n",
            "Epoch [10/15], Step [800/2618], D_loss: 1.3884, G_loss: 0.7498, D(x): 0.48, D(G(z)): 0.48\n",
            "Epoch [10/15], Step [900/2618], D_loss: 1.3946, G_loss: 0.7166, D(x): 0.49, D(G(z)): 0.48\n",
            "Epoch [10/15], Step [1000/2618], D_loss: 1.3911, G_loss: 0.7470, D(x): 0.48, D(G(z)): 0.48\n",
            "Epoch [10/15], Step [1100/2618], D_loss: 1.4758, G_loss: 0.6555, D(x): 0.45, D(G(z)): 0.48\n",
            "Epoch [10/15], Step [1200/2618], D_loss: 1.3910, G_loss: 0.6375, D(x): 0.52, D(G(z)): 0.52\n",
            "Epoch [10/15], Step [1300/2618], D_loss: 1.4021, G_loss: 0.5205, D(x): 0.58, D(G(z)): 0.58\n",
            "Epoch [10/15], Step [1400/2618], D_loss: 1.4171, G_loss: 0.7183, D(x): 0.49, D(G(z)): 0.50\n",
            "Epoch [10/15], Step [1500/2618], D_loss: 1.3620, G_loss: 0.6660, D(x): 0.52, D(G(z)): 0.51\n",
            "Epoch [10/15], Step [1600/2618], D_loss: 1.4012, G_loss: 0.8631, D(x): 0.46, D(G(z)): 0.46\n",
            "Epoch [10/15], Step [1700/2618], D_loss: 1.3611, G_loss: 0.7125, D(x): 0.50, D(G(z)): 0.48\n",
            "Epoch [10/15], Step [1800/2618], D_loss: 1.3940, G_loss: 0.7306, D(x): 0.50, D(G(z)): 0.50\n",
            "Epoch [10/15], Step [1900/2618], D_loss: 1.4059, G_loss: 0.7217, D(x): 0.46, D(G(z)): 0.47\n",
            "Epoch [10/15], Step [2000/2618], D_loss: 1.4137, G_loss: 0.7594, D(x): 0.47, D(G(z)): 0.48\n",
            "Epoch [10/15], Step [2100/2618], D_loss: 1.3819, G_loss: 0.7243, D(x): 0.50, D(G(z)): 0.50\n",
            "Epoch [10/15], Step [2200/2618], D_loss: 1.4239, G_loss: 0.7112, D(x): 0.51, D(G(z)): 0.52\n",
            "Epoch [10/15], Step [2300/2618], D_loss: 1.3520, G_loss: 0.6263, D(x): 0.54, D(G(z)): 0.51\n",
            "Epoch [10/15], Step [2400/2618], D_loss: 1.3322, G_loss: 0.7307, D(x): 0.54, D(G(z)): 0.51\n",
            "Epoch [10/15], Step [2500/2618], D_loss: 1.3525, G_loss: 0.7518, D(x): 0.51, D(G(z)): 0.49\n",
            "Epoch [10/15], Step [2600/2618], D_loss: 1.4984, G_loss: 0.7332, D(x): 0.44, D(G(z)): 0.49\n",
            "Epoch [11/15], Step [100/2618], D_loss: 1.3624, G_loss: 0.7458, D(x): 0.49, D(G(z)): 0.48\n",
            "Epoch [11/15], Step [200/2618], D_loss: 1.3699, G_loss: 0.7063, D(x): 0.49, D(G(z)): 0.48\n",
            "Epoch [11/15], Step [300/2618], D_loss: 1.3734, G_loss: 0.6581, D(x): 0.50, D(G(z)): 0.49\n",
            "Epoch [11/15], Step [400/2618], D_loss: 1.3752, G_loss: 0.6935, D(x): 0.49, D(G(z)): 0.49\n",
            "Epoch [11/15], Step [500/2618], D_loss: 1.3884, G_loss: 0.6482, D(x): 0.53, D(G(z)): 0.52\n",
            "Epoch [11/15], Step [600/2618], D_loss: 1.3805, G_loss: 0.7851, D(x): 0.47, D(G(z)): 0.46\n",
            "Epoch [11/15], Step [700/2618], D_loss: 1.3626, G_loss: 0.6760, D(x): 0.51, D(G(z)): 0.50\n",
            "Epoch [11/15], Step [800/2618], D_loss: 1.4409, G_loss: 0.7300, D(x): 0.50, D(G(z)): 0.52\n",
            "Epoch [11/15], Step [900/2618], D_loss: 1.3936, G_loss: 0.7121, D(x): 0.54, D(G(z)): 0.54\n",
            "Epoch [11/15], Step [1000/2618], D_loss: 1.3645, G_loss: 0.7619, D(x): 0.50, D(G(z)): 0.49\n",
            "Epoch [11/15], Step [1100/2618], D_loss: 1.4430, G_loss: 0.7671, D(x): 0.48, D(G(z)): 0.51\n",
            "Epoch [11/15], Step [1200/2618], D_loss: 1.3296, G_loss: 0.6786, D(x): 0.54, D(G(z)): 0.50\n",
            "Epoch [11/15], Step [1300/2618], D_loss: 1.3428, G_loss: 0.7321, D(x): 0.49, D(G(z)): 0.47\n",
            "Epoch [11/15], Step [1400/2618], D_loss: 1.3795, G_loss: 0.7090, D(x): 0.49, D(G(z)): 0.49\n",
            "Epoch [11/15], Step [1500/2618], D_loss: 1.4323, G_loss: 0.8142, D(x): 0.46, D(G(z)): 0.48\n",
            "Epoch [11/15], Step [1600/2618], D_loss: 1.3825, G_loss: 0.6098, D(x): 0.51, D(G(z)): 0.51\n",
            "Epoch [11/15], Step [1700/2618], D_loss: 1.2830, G_loss: 0.6034, D(x): 0.56, D(G(z)): 0.50\n",
            "Epoch [11/15], Step [1800/2618], D_loss: 1.3375, G_loss: 0.7571, D(x): 0.50, D(G(z)): 0.47\n",
            "Epoch [11/15], Step [1900/2618], D_loss: 1.3904, G_loss: 0.7544, D(x): 0.46, D(G(z)): 0.46\n",
            "Epoch [11/15], Step [2000/2618], D_loss: 1.3582, G_loss: 0.7377, D(x): 0.49, D(G(z)): 0.47\n",
            "Epoch [11/15], Step [2100/2618], D_loss: 1.3477, G_loss: 0.7496, D(x): 0.50, D(G(z)): 0.48\n",
            "Epoch [11/15], Step [2200/2618], D_loss: 1.3769, G_loss: 0.6672, D(x): 0.52, D(G(z)): 0.51\n",
            "Epoch [11/15], Step [2300/2618], D_loss: 1.3911, G_loss: 0.7086, D(x): 0.50, D(G(z)): 0.50\n",
            "Epoch [11/15], Step [2400/2618], D_loss: 1.4148, G_loss: 0.7506, D(x): 0.46, D(G(z)): 0.47\n",
            "Epoch [11/15], Step [2500/2618], D_loss: 1.4216, G_loss: 0.6920, D(x): 0.47, D(G(z)): 0.48\n",
            "Epoch [11/15], Step [2600/2618], D_loss: 1.3385, G_loss: 0.6723, D(x): 0.53, D(G(z)): 0.51\n",
            "Epoch [12/15], Step [100/2618], D_loss: 1.3217, G_loss: 0.6642, D(x): 0.52, D(G(z)): 0.49\n",
            "Epoch [12/15], Step [200/2618], D_loss: 1.3573, G_loss: 0.6848, D(x): 0.51, D(G(z)): 0.49\n",
            "Epoch [12/15], Step [300/2618], D_loss: 1.3501, G_loss: 0.7014, D(x): 0.53, D(G(z)): 0.51\n",
            "Epoch [12/15], Step [400/2618], D_loss: 1.3243, G_loss: 0.6563, D(x): 0.50, D(G(z)): 0.46\n",
            "Epoch [12/15], Step [500/2618], D_loss: 1.4061, G_loss: 0.5977, D(x): 0.52, D(G(z)): 0.52\n",
            "Epoch [12/15], Step [600/2618], D_loss: 1.4729, G_loss: 0.7035, D(x): 0.52, D(G(z)): 0.55\n",
            "Epoch [12/15], Step [700/2618], D_loss: 1.4276, G_loss: 0.6295, D(x): 0.51, D(G(z)): 0.53\n",
            "Epoch [12/15], Step [800/2618], D_loss: 1.4258, G_loss: 0.7811, D(x): 0.45, D(G(z)): 0.46\n",
            "Epoch [12/15], Step [900/2618], D_loss: 1.3836, G_loss: 0.7061, D(x): 0.49, D(G(z)): 0.49\n",
            "Epoch [12/15], Step [1000/2618], D_loss: 1.3908, G_loss: 0.7121, D(x): 0.51, D(G(z)): 0.51\n",
            "Epoch [12/15], Step [1100/2618], D_loss: 1.3745, G_loss: 0.6965, D(x): 0.51, D(G(z)): 0.50\n",
            "Epoch [12/15], Step [1200/2618], D_loss: 1.3856, G_loss: 0.6721, D(x): 0.49, D(G(z)): 0.48\n",
            "Epoch [12/15], Step [1300/2618], D_loss: 1.3748, G_loss: 0.7281, D(x): 0.49, D(G(z)): 0.48\n",
            "Epoch [12/15], Step [1400/2618], D_loss: 1.3372, G_loss: 0.6371, D(x): 0.54, D(G(z)): 0.51\n",
            "Epoch [12/15], Step [1500/2618], D_loss: 1.3778, G_loss: 0.7588, D(x): 0.48, D(G(z)): 0.47\n",
            "Epoch [12/15], Step [1600/2618], D_loss: 1.3971, G_loss: 0.7274, D(x): 0.48, D(G(z)): 0.49\n",
            "Epoch [12/15], Step [1700/2618], D_loss: 1.4314, G_loss: 0.7361, D(x): 0.48, D(G(z)): 0.50\n",
            "Epoch [12/15], Step [1800/2618], D_loss: 1.3435, G_loss: 0.6526, D(x): 0.52, D(G(z)): 0.50\n",
            "Epoch [12/15], Step [1900/2618], D_loss: 1.4129, G_loss: 0.7319, D(x): 0.51, D(G(z)): 0.52\n",
            "Epoch [12/15], Step [2000/2618], D_loss: 1.4059, G_loss: 0.7176, D(x): 0.48, D(G(z)): 0.49\n",
            "Epoch [12/15], Step [2100/2618], D_loss: 1.3660, G_loss: 0.7076, D(x): 0.50, D(G(z)): 0.48\n",
            "Epoch [12/15], Step [2200/2618], D_loss: 1.3204, G_loss: 0.6965, D(x): 0.54, D(G(z)): 0.50\n",
            "Epoch [12/15], Step [2300/2618], D_loss: 1.3573, G_loss: 0.6566, D(x): 0.51, D(G(z)): 0.49\n",
            "Epoch [12/15], Step [2400/2618], D_loss: 1.3797, G_loss: 0.7157, D(x): 0.52, D(G(z)): 0.51\n",
            "Epoch [12/15], Step [2500/2618], D_loss: 1.4096, G_loss: 0.6954, D(x): 0.50, D(G(z)): 0.51\n",
            "Epoch [12/15], Step [2600/2618], D_loss: 1.3713, G_loss: 0.7327, D(x): 0.51, D(G(z)): 0.50\n",
            "Epoch [13/15], Step [100/2618], D_loss: 1.4149, G_loss: 0.7742, D(x): 0.48, D(G(z)): 0.49\n",
            "Epoch [13/15], Step [200/2618], D_loss: 1.3496, G_loss: 0.7048, D(x): 0.51, D(G(z)): 0.49\n",
            "Epoch [13/15], Step [300/2618], D_loss: 1.3585, G_loss: 0.6834, D(x): 0.50, D(G(z)): 0.49\n",
            "Epoch [13/15], Step [400/2618], D_loss: 1.3995, G_loss: 0.7253, D(x): 0.50, D(G(z)): 0.51\n",
            "Epoch [13/15], Step [500/2618], D_loss: 1.4023, G_loss: 0.6993, D(x): 0.48, D(G(z)): 0.49\n",
            "Epoch [13/15], Step [600/2618], D_loss: 1.4066, G_loss: 0.6890, D(x): 0.48, D(G(z)): 0.49\n",
            "Epoch [13/15], Step [700/2618], D_loss: 1.4295, G_loss: 0.6509, D(x): 0.49, D(G(z)): 0.51\n",
            "Epoch [13/15], Step [800/2618], D_loss: 1.4636, G_loss: 0.7345, D(x): 0.48, D(G(z)): 0.51\n",
            "Epoch [13/15], Step [900/2618], D_loss: 1.3866, G_loss: 0.6856, D(x): 0.49, D(G(z)): 0.49\n",
            "Epoch [13/15], Step [1000/2618], D_loss: 1.3577, G_loss: 0.6989, D(x): 0.54, D(G(z)): 0.52\n",
            "Epoch [13/15], Step [1100/2618], D_loss: 1.4206, G_loss: 0.7594, D(x): 0.47, D(G(z)): 0.48\n",
            "Epoch [13/15], Step [1200/2618], D_loss: 1.3679, G_loss: 0.6758, D(x): 0.49, D(G(z)): 0.48\n",
            "Epoch [13/15], Step [1300/2618], D_loss: 1.3650, G_loss: 0.7245, D(x): 0.50, D(G(z)): 0.49\n",
            "Epoch [13/15], Step [1400/2618], D_loss: 1.4146, G_loss: 0.6323, D(x): 0.52, D(G(z)): 0.53\n",
            "Epoch [13/15], Step [1500/2618], D_loss: 1.3497, G_loss: 0.7491, D(x): 0.50, D(G(z)): 0.48\n",
            "Epoch [13/15], Step [1600/2618], D_loss: 1.3234, G_loss: 0.7018, D(x): 0.49, D(G(z)): 0.45\n",
            "Epoch [13/15], Step [1700/2618], D_loss: 1.3744, G_loss: 0.7269, D(x): 0.48, D(G(z)): 0.47\n",
            "Epoch [13/15], Step [1800/2618], D_loss: 1.4228, G_loss: 0.7043, D(x): 0.45, D(G(z)): 0.47\n",
            "Epoch [13/15], Step [1900/2618], D_loss: 1.3819, G_loss: 0.6801, D(x): 0.51, D(G(z)): 0.50\n",
            "Epoch [13/15], Step [2000/2618], D_loss: 1.5103, G_loss: 0.7276, D(x): 0.47, D(G(z)): 0.53\n",
            "Epoch [13/15], Step [2100/2618], D_loss: 1.3625, G_loss: 0.6350, D(x): 0.52, D(G(z)): 0.51\n",
            "Epoch [13/15], Step [2200/2618], D_loss: 1.4455, G_loss: 0.6422, D(x): 0.49, D(G(z)): 0.52\n",
            "Epoch [13/15], Step [2300/2618], D_loss: 1.3146, G_loss: 0.8220, D(x): 0.51, D(G(z)): 0.47\n",
            "Epoch [13/15], Step [2400/2618], D_loss: 1.2857, G_loss: 0.7132, D(x): 0.49, D(G(z)): 0.44\n",
            "Epoch [13/15], Step [2500/2618], D_loss: 1.3764, G_loss: 0.6591, D(x): 0.52, D(G(z)): 0.52\n",
            "Epoch [13/15], Step [2600/2618], D_loss: 1.4244, G_loss: 0.7379, D(x): 0.50, D(G(z)): 0.51\n",
            "Epoch [14/15], Step [100/2618], D_loss: 1.3899, G_loss: 0.7536, D(x): 0.46, D(G(z)): 0.46\n",
            "Epoch [14/15], Step [200/2618], D_loss: 1.3966, G_loss: 0.6695, D(x): 0.51, D(G(z)): 0.52\n",
            "Epoch [14/15], Step [300/2618], D_loss: 1.4021, G_loss: 0.7060, D(x): 0.51, D(G(z)): 0.51\n",
            "Epoch [14/15], Step [400/2618], D_loss: 1.4345, G_loss: 0.6691, D(x): 0.52, D(G(z)): 0.54\n",
            "Epoch [14/15], Step [500/2618], D_loss: 1.3559, G_loss: 0.6988, D(x): 0.51, D(G(z)): 0.49\n",
            "Epoch [14/15], Step [600/2618], D_loss: 1.3626, G_loss: 0.6327, D(x): 0.53, D(G(z)): 0.52\n",
            "Epoch [14/15], Step [700/2618], D_loss: 1.4117, G_loss: 0.7765, D(x): 0.49, D(G(z)): 0.50\n",
            "Epoch [14/15], Step [800/2618], D_loss: 1.3540, G_loss: 0.7959, D(x): 0.50, D(G(z)): 0.48\n",
            "Epoch [14/15], Step [900/2618], D_loss: 1.3653, G_loss: 0.7105, D(x): 0.52, D(G(z)): 0.51\n",
            "Epoch [14/15], Step [1000/2618], D_loss: 1.3915, G_loss: 0.7753, D(x): 0.46, D(G(z)): 0.46\n",
            "Epoch [14/15], Step [1100/2618], D_loss: 1.3828, G_loss: 0.6582, D(x): 0.51, D(G(z)): 0.50\n",
            "Epoch [14/15], Step [1200/2618], D_loss: 1.4058, G_loss: 0.7059, D(x): 0.50, D(G(z)): 0.51\n",
            "Epoch [14/15], Step [1300/2618], D_loss: 1.3850, G_loss: 0.8048, D(x): 0.45, D(G(z)): 0.45\n",
            "Epoch [14/15], Step [1400/2618], D_loss: 1.3813, G_loss: 0.6554, D(x): 0.57, D(G(z)): 0.55\n",
            "Epoch [14/15], Step [1500/2618], D_loss: 1.3728, G_loss: 0.6731, D(x): 0.51, D(G(z)): 0.50\n",
            "Epoch [14/15], Step [1600/2618], D_loss: 1.4037, G_loss: 0.7476, D(x): 0.47, D(G(z)): 0.47\n",
            "Epoch [14/15], Step [1700/2618], D_loss: 1.3519, G_loss: 0.7317, D(x): 0.51, D(G(z)): 0.49\n",
            "Epoch [14/15], Step [1800/2618], D_loss: 1.4039, G_loss: 0.6531, D(x): 0.50, D(G(z)): 0.50\n",
            "Epoch [14/15], Step [1900/2618], D_loss: 1.3843, G_loss: 0.7046, D(x): 0.50, D(G(z)): 0.50\n",
            "Epoch [14/15], Step [2000/2618], D_loss: 1.3803, G_loss: 0.7516, D(x): 0.47, D(G(z)): 0.46\n",
            "Epoch [14/15], Step [2100/2618], D_loss: 1.3655, G_loss: 0.7095, D(x): 0.50, D(G(z)): 0.49\n",
            "Epoch [14/15], Step [2200/2618], D_loss: 1.4010, G_loss: 0.8378, D(x): 0.50, D(G(z)): 0.51\n",
            "Epoch [14/15], Step [2300/2618], D_loss: 1.4750, G_loss: 0.6580, D(x): 0.56, D(G(z)): 0.58\n",
            "Epoch [14/15], Step [2400/2618], D_loss: 1.4388, G_loss: 0.7434, D(x): 0.48, D(G(z)): 0.50\n",
            "Epoch [14/15], Step [2500/2618], D_loss: 1.4446, G_loss: 0.7646, D(x): 0.46, D(G(z)): 0.48\n",
            "Epoch [14/15], Step [2600/2618], D_loss: 1.4033, G_loss: 0.6699, D(x): 0.50, D(G(z)): 0.51\n",
            "Epoch [15/15], Step [100/2618], D_loss: 1.3801, G_loss: 0.7163, D(x): 0.49, D(G(z)): 0.49\n",
            "Epoch [15/15], Step [200/2618], D_loss: 1.3607, G_loss: 0.7911, D(x): 0.49, D(G(z)): 0.48\n",
            "Epoch [15/15], Step [300/2618], D_loss: 1.3825, G_loss: 0.6596, D(x): 0.54, D(G(z)): 0.53\n",
            "Epoch [15/15], Step [400/2618], D_loss: 1.3937, G_loss: 0.7598, D(x): 0.49, D(G(z)): 0.49\n",
            "Epoch [15/15], Step [500/2618], D_loss: 1.3493, G_loss: 0.6973, D(x): 0.53, D(G(z)): 0.51\n",
            "Epoch [15/15], Step [600/2618], D_loss: 1.3616, G_loss: 0.6345, D(x): 0.54, D(G(z)): 0.52\n",
            "Epoch [15/15], Step [700/2618], D_loss: 1.4252, G_loss: 0.6311, D(x): 0.51, D(G(z)): 0.53\n",
            "Epoch [15/15], Step [800/2618], D_loss: 1.3882, G_loss: 0.6535, D(x): 0.53, D(G(z)): 0.52\n",
            "Epoch [15/15], Step [900/2618], D_loss: 1.3946, G_loss: 0.7497, D(x): 0.50, D(G(z)): 0.50\n",
            "Epoch [15/15], Step [1000/2618], D_loss: 1.3786, G_loss: 0.6533, D(x): 0.54, D(G(z)): 0.53\n",
            "Epoch [15/15], Step [1100/2618], D_loss: 1.3837, G_loss: 0.7950, D(x): 0.46, D(G(z)): 0.46\n",
            "Epoch [15/15], Step [1200/2618], D_loss: 1.3739, G_loss: 0.7472, D(x): 0.46, D(G(z)): 0.44\n",
            "Epoch [15/15], Step [1300/2618], D_loss: 1.4119, G_loss: 0.6925, D(x): 0.50, D(G(z)): 0.51\n",
            "Epoch [15/15], Step [1400/2618], D_loss: 1.3980, G_loss: 0.7076, D(x): 0.52, D(G(z)): 0.52\n",
            "Epoch [15/15], Step [1500/2618], D_loss: 1.3609, G_loss: 0.6980, D(x): 0.50, D(G(z)): 0.48\n",
            "Epoch [15/15], Step [1600/2618], D_loss: 1.3638, G_loss: 0.8064, D(x): 0.46, D(G(z)): 0.45\n",
            "Epoch [15/15], Step [1700/2618], D_loss: 1.3507, G_loss: 0.7308, D(x): 0.50, D(G(z)): 0.48\n",
            "Epoch [15/15], Step [1800/2618], D_loss: 1.3771, G_loss: 0.6942, D(x): 0.53, D(G(z)): 0.52\n",
            "Epoch [15/15], Step [1900/2618], D_loss: 1.5228, G_loss: 0.6838, D(x): 0.43, D(G(z)): 0.49\n",
            "Epoch [15/15], Step [2000/2618], D_loss: 1.3405, G_loss: 0.8057, D(x): 0.49, D(G(z)): 0.47\n",
            "Epoch [15/15], Step [2100/2618], D_loss: 1.3306, G_loss: 0.6584, D(x): 0.54, D(G(z)): 0.51\n",
            "Epoch [15/15], Step [2200/2618], D_loss: 1.4418, G_loss: 0.7763, D(x): 0.46, D(G(z)): 0.48\n",
            "Epoch [15/15], Step [2300/2618], D_loss: 1.4604, G_loss: 0.7513, D(x): 0.46, D(G(z)): 0.50\n",
            "Epoch [15/15], Step [2400/2618], D_loss: 1.4059, G_loss: 0.6882, D(x): 0.52, D(G(z)): 0.53\n",
            "Epoch [15/15], Step [2500/2618], D_loss: 1.4167, G_loss: 0.7602, D(x): 0.48, D(G(z)): 0.49\n",
            "Epoch [15/15], Step [2600/2618], D_loss: 1.3466, G_loss: 0.7534, D(x): 0.48, D(G(z)): 0.46\n"
          ]
        }
      ]
    },
    {
      "cell_type": "code",
      "source": [
        "# Generate fake image\n",
        "z = torch.randn(1, latent_dim)\n",
        "fake_image = G(z)\n",
        "fake_image = fake_images.view(fake_images.size(0), 3, 32, 32)\n",
        "fake_image = (fake_images + 1) / 2  # Rescale images to [0, 1]\n",
        "fake_image = fake_image.detach().numpy().reshape(32,32,3)\n",
        "plt.imshow(fake_image)"
      ],
      "metadata": {
        "colab": {
          "base_uri": "https://localhost:8080/",
          "height": 484
        },
        "id": "fwAxevKYERfP",
        "outputId": "6a61c214-ccd5-4178-8e9c-df1bf6a0b091"
      },
      "execution_count": 56,
      "outputs": [
        {
          "output_type": "stream",
          "name": "stdout",
          "text": [
            "(32, 32, 3)\n"
          ]
        },
        {
          "output_type": "execute_result",
          "data": {
            "text/plain": [
              "\"\\n# Plot the fake images\\nimport matplotlib.pyplot as plt\\n\\nfig, axes = plt.subplots(1, 16, figsize=(15, 15))\\nfor ax, img in zip(axes.flatten(), fake_images):\\n    ax.axis('off')\\n    ax.set_adjustable('box')\\n    img = transforms.ToPILImage()(img.cpu().squeeze())\\n    ax.imshow(img)\\nplt.show()\\n\""
            ],
            "application/vnd.google.colaboratory.intrinsic+json": {
              "type": "string"
            }
          },
          "metadata": {},
          "execution_count": 56
        },
        {
          "output_type": "display_data",
          "data": {
            "text/plain": [
              "<Figure size 640x480 with 1 Axes>"
            ],
            "image/png": "[encoded data removed]"
          },
          "metadata": {}
        }
      ]
    },
    {
      "cell_type": "markdown",
      "source": [
        "The GAN does not generate a meaningful image. This may be due to undertraining due to runtime constraints."
      ],
      "metadata": {
        "id": "Hn3FMivOhRE0"
      }
    },
    {
      "cell_type": "markdown",
      "source": [
        "Kalantar, R. (2023, November 22). Variational auto-encoder (VAE)-pytorch tutorial. Medium. https://medium.com/@rekalantar/variational-auto-encoder-vae-pytorch-tutorial-dce2d2fe0f5f\n",
        "\n",
        "The Programming Geek. (2024b, January 29). Generating new realities: Crafting a simple gan with pytorch. Medium. https://medium.com/@theprogramminggeek/generating-new-realities-crafting-a-simple-gan-with-pytorch-fc312f57a12d\n",
        "\n"
      ],
      "metadata": {
        "id": "DCNzFNINHUFE"
      }
    }
  ]
}