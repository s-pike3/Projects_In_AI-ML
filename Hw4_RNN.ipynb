{
  "nbformat": 4,
  "nbformat_minor": 0,
  "metadata": {
    "colab": {
      "provenance": [],
      "authorship_tag": "ABX9TyNGBsdPe/ePqWkGFvevmJyb",
      "include_colab_link": true
    },
    "kernelspec": {
      "name": "python3",
      "display_name": "Python 3"
    },
    "language_info": {
      "name": "python"
    }
  },
  "cells": [
    {
      "cell_type": "markdown",
      "metadata": {
        "id": "view-in-github",
        "colab_type": "text"
      },
      "source": [
        "<a href=\"https://colab.research.google.com/github/s-pike3/Projects_In_AI-ML/blob/main/Hw4_RNN.ipynb\" target=\"_parent\"><img src=\"https://colab.research.google.com/assets/colab-badge.svg\" alt=\"Open In Colab\"/></a>"
      ]
    },
    {
      "cell_type": "markdown",
      "source": [
        "\n",
        "\n",
        "```\n",
        "# This is formatted as code\n",
        "```\n",
        "\n",
        "Projects in AI & ML HW4 RNN \\\\\n",
        "Sarah Pike"
      ],
      "metadata": {
        "id": "b6NFsNDJKn2B"
      }
    },
    {
      "cell_type": "markdown",
      "source": [
        "In this notebook, I use RNN variants to forecast the weekly sales levels of Walmart grocery stores. Since weekly sales levels are often partially determined by sales levels from previous weeks, it is necessary to use sequential models to capture the temporality of the data."
      ],
      "metadata": {
        "id": "Gko8kMMF93-W"
      }
    },
    {
      "cell_type": "markdown",
      "source": [
        "\n",
        "Link to the dataset: https://www.kaggle.com/datasets/mikhail1681/walmart-sales"
      ],
      "metadata": {
        "id": "Ga5Yvp3-68Po"
      }
    },
    {
      "cell_type": "code",
      "source": [
        "import numpy as np\n",
        "from sklearn import datasets\n",
        "from sklearn.preprocessing import StandardScaler  # for feature scaling\n",
        "from sklearn.preprocessing import MinMaxScaler  # for feature scaling\n",
        "from sklearn.metrics import confusion_matrix\n",
        "import pandas as pd\n",
        "import matplotlib.pyplot as plt\n",
        "from sklearn.metrics import accuracy_score\n",
        "#from sklearn.model_selection import GridSearchCV\n",
        "from sklearn import tree\n",
        "import matplotlib.pyplot as plt\n",
        "from sklearn.model_selection import cross_val_score\n",
        "from sklearn.model_selection import StratifiedKFold\n",
        "import math\n",
        "import torch\n",
        "from torch import nn\n",
        "from torch.nn import functional as F\n",
        "from torch.autograd import Variable"
      ],
      "metadata": {
        "id": "NzKgZZ7N4POP"
      },
      "execution_count": 1,
      "outputs": []
    },
    {
      "cell_type": "code",
      "source": [
        "from google.colab import files\n",
        "uploaded = files.upload()"
      ],
      "metadata": {
        "id": "mDWaBqNBsxFD",
        "outputId": "d56c8836-4175-4d84-b32f-5f9317dc28ad",
        "colab": {
          "base_uri": "https://localhost:8080/",
          "height": 73
        }
      },
      "execution_count": 2,
      "outputs": [
        {
          "output_type": "display_data",
          "data": {
            "text/plain": [
              "<IPython.core.display.HTML object>"
            ],
            "text/html": [
              "\n",
              "     <input type=\"file\" id=\"files-ce6859e2-739f-49d0-8021-b1f1dcb2da83\" name=\"files[]\" multiple disabled\n",
              "        style=\"border:none\" />\n",
              "     <output id=\"result-ce6859e2-739f-49d0-8021-b1f1dcb2da83\">\n",
              "      Upload widget is only available when the cell has been executed in the\n",
              "      current browser session. Please rerun this cell to enable.\n",
              "      </output>\n",
              "      <script>// Copyright 2017 Google LLC\n",
              "//\n",
              "// Licensed under the Apache License, Version 2.0 (the \"License\");\n",
              "// you may not use this file except in compliance with the License.\n",
              "// You may obtain a copy of the License at\n",
              "//\n",
              "//      http://www.apache.org/licenses/LICENSE-2.0\n",
              "//\n",
              "// Unless required by applicable law or agreed to in writing, software\n",
              "// distributed under the License is distributed on an \"AS IS\" BASIS,\n",
              "// WITHOUT WARRANTIES OR CONDITIONS OF ANY KIND, either express or implied.\n",
              "// See the License for the specific language governing permissions and\n",
              "// limitations under the License.\n",
              "\n",
              "/**\n",
              " * @fileoverview Helpers for google.colab Python module.\n",
              " */\n",
              "(function(scope) {\n",
              "function span(text, styleAttributes = {}) {\n",
              "  const element = document.createElement('span');\n",
              "  element.textContent = text;\n",
              "  for (const key of Object.keys(styleAttributes)) {\n",
              "    element.style[key] = styleAttributes[key];\n",
              "  }\n",
              "  return element;\n",
              "}\n",
              "\n",
              "// Max number of bytes which will be uploaded at a time.\n",
              "const MAX_PAYLOAD_SIZE = 100 * 1024;\n",
              "\n",
              "function _uploadFiles(inputId, outputId) {\n",
              "  const steps = uploadFilesStep(inputId, outputId);\n",
              "  const outputElement = document.getElementById(outputId);\n",
              "  // Cache steps on the outputElement to make it available for the next call\n",
              "  // to uploadFilesContinue from Python.\n",
              "  outputElement.steps = steps;\n",
              "\n",
              "  return _uploadFilesContinue(outputId);\n",
              "}\n",
              "\n",
              "// This is roughly an async generator (not supported in the browser yet),\n",
              "// where there are multiple asynchronous steps and the Python side is going\n",
              "// to poll for completion of each step.\n",
              "// This uses a Promise to block the python side on completion of each step,\n",
              "// then passes the result of the previous step as the input to the next step.\n",
              "function _uploadFilesContinue(outputId) {\n",
              "  const outputElement = document.getElementById(outputId);\n",
              "  const steps = outputElement.steps;\n",
              "\n",
              "  const next = steps.next(outputElement.lastPromiseValue);\n",
              "  return Promise.resolve(next.value.promise).then((value) => {\n",
              "    // Cache the last promise value to make it available to the next\n",
              "    // step of the generator.\n",
              "    outputElement.lastPromiseValue = value;\n",
              "    return next.value.response;\n",
              "  });\n",
              "}\n",
              "\n",
              "/**\n",
              " * Generator function which is called between each async step of the upload\n",
              " * process.\n",
              " * @param {string} inputId Element ID of the input file picker element.\n",
              " * @param {string} outputId Element ID of the output display.\n",
              " * @return {!Iterable<!Object>} Iterable of next steps.\n",
              " */\n",
              "function* uploadFilesStep(inputId, outputId) {\n",
              "  const inputElement = document.getElementById(inputId);\n",
              "  inputElement.disabled = false;\n",
              "\n",
              "  const outputElement = document.getElementById(outputId);\n",
              "  outputElement.innerHTML = '';\n",
              "\n",
              "  const pickedPromise = new Promise((resolve) => {\n",
              "    inputElement.addEventListener('change', (e) => {\n",
              "      resolve(e.target.files);\n",
              "    });\n",
              "  });\n",
              "\n",
              "  const cancel = document.createElement('button');\n",
              "  inputElement.parentElement.appendChild(cancel);\n",
              "  cancel.textContent = 'Cancel upload';\n",
              "  const cancelPromise = new Promise((resolve) => {\n",
              "    cancel.onclick = () => {\n",
              "      resolve(null);\n",
              "    };\n",
              "  });\n",
              "\n",
              "  // Wait for the user to pick the files.\n",
              "  const files = yield {\n",
              "    promise: Promise.race([pickedPromise, cancelPromise]),\n",
              "    response: {\n",
              "      action: 'starting',\n",
              "    }\n",
              "  };\n",
              "\n",
              "  cancel.remove();\n",
              "\n",
              "  // Disable the input element since further picks are not allowed.\n",
              "  inputElement.disabled = true;\n",
              "\n",
              "  if (!files) {\n",
              "    return {\n",
              "      response: {\n",
              "        action: 'complete',\n",
              "      }\n",
              "    };\n",
              "  }\n",
              "\n",
              "  for (const file of files) {\n",
              "    const li = document.createElement('li');\n",
              "    li.append(span(file.name, {fontWeight: 'bold'}));\n",
              "    li.append(span(\n",
              "        `(${file.type || 'n/a'}) - ${file.size} bytes, ` +\n",
              "        `last modified: ${\n",
              "            file.lastModifiedDate ? file.lastModifiedDate.toLocaleDateString() :\n",
              "                                    'n/a'} - `));\n",
              "    const percent = span('0% done');\n",
              "    li.appendChild(percent);\n",
              "\n",
              "    outputElement.appendChild(li);\n",
              "\n",
              "    const fileDataPromise = new Promise((resolve) => {\n",
              "      const reader = new FileReader();\n",
              "      reader.onload = (e) => {\n",
              "        resolve(e.target.result);\n",
              "      };\n",
              "      reader.readAsArrayBuffer(file);\n",
              "    });\n",
              "    // Wait for the data to be ready.\n",
              "    let fileData = yield {\n",
              "      promise: fileDataPromise,\n",
              "      response: {\n",
              "        action: 'continue',\n",
              "      }\n",
              "    };\n",
              "\n",
              "    // Use a chunked sending to avoid message size limits. See b/62115660.\n",
              "    let position = 0;\n",
              "    do {\n",
              "      const length = Math.min(fileData.byteLength - position, MAX_PAYLOAD_SIZE);\n",
              "      const chunk = new Uint8Array(fileData, position, length);\n",
              "      position += length;\n",
              "\n",
              "      const base64 = btoa(String.fromCharCode.apply(null, chunk));\n",
              "      yield {\n",
              "        response: {\n",
              "          action: 'append',\n",
              "          file: file.name,\n",
              "          data: base64,\n",
              "        },\n",
              "      };\n",
              "\n",
              "      let percentDone = fileData.byteLength === 0 ?\n",
              "          100 :\n",
              "          Math.round((position / fileData.byteLength) * 100);\n",
              "      percent.textContent = `${percentDone}% done`;\n",
              "\n",
              "    } while (position < fileData.byteLength);\n",
              "  }\n",
              "\n",
              "  // All done.\n",
              "  yield {\n",
              "    response: {\n",
              "      action: 'complete',\n",
              "    }\n",
              "  };\n",
              "}\n",
              "\n",
              "scope.google = scope.google || {};\n",
              "scope.google.colab = scope.google.colab || {};\n",
              "scope.google.colab._files = {\n",
              "  _uploadFiles,\n",
              "  _uploadFilesContinue,\n",
              "};\n",
              "})(self);\n",
              "</script> "
            ]
          },
          "metadata": {}
        },
        {
          "output_type": "stream",
          "name": "stdout",
          "text": [
            "Saving Walmart_Sales.csv to Walmart_Sales.csv\n"
          ]
        }
      ]
    },
    {
      "cell_type": "markdown",
      "source": [
        "### Setup"
      ],
      "metadata": {
        "id": "7bng34bVEfV_"
      }
    },
    {
      "cell_type": "code",
      "source": [
        "# Load data\n",
        "df = pd.read_csv(\"Walmart_Sales.csv\")\n",
        "print(df.head())\n",
        "len(df)"
      ],
      "metadata": {
        "colab": {
          "base_uri": "https://localhost:8080/"
        },
        "id": "v0PVWWyu4kRP",
        "outputId": "e33c4235-79ca-4115-cdf6-8a28d60c5f7a"
      },
      "execution_count": 3,
      "outputs": [
        {
          "output_type": "stream",
          "name": "stdout",
          "text": [
            "   Store        Date  Weekly_Sales  Holiday_Flag  Temperature  Fuel_Price  \\\n",
            "0      1  05-02-2010    1643690.90             0        42.31       2.572   \n",
            "1      1  12-02-2010    1641957.44             1        38.51       2.548   \n",
            "2      1  19-02-2010    1611968.17             0        39.93       2.514   \n",
            "3      1  26-02-2010    1409727.59             0        46.63       2.561   \n",
            "4      1  05-03-2010    1554806.68             0        46.50       2.625   \n",
            "\n",
            "          CPI  Unemployment  \n",
            "0  211.096358         8.106  \n",
            "1  211.242170         8.106  \n",
            "2  211.289143         8.106  \n",
            "3  211.319643         8.106  \n",
            "4  211.350143         8.106  \n"
          ]
        },
        {
          "output_type": "execute_result",
          "data": {
            "text/plain": [
              "6435"
            ]
          },
          "metadata": {},
          "execution_count": 3
        }
      ]
    },
    {
      "cell_type": "code",
      "source": [
        "df['Date'] = pd.to_datetime(df['Date'], format='%d-%m-%Y')\n",
        "timestamp_s = df['Date'].map(pd.Timestamp.timestamp)\n",
        "#cyclical features for date\n",
        "df['Week_sin'] = np.sin(timestamp_s * (2 * np.pi / 52))\n",
        "df['Week_cos'] = np.cos(timestamp_s * (2 * np.pi / 52))\n",
        "df.head()\n"
      ],
      "metadata": {
        "id": "PIQiqoG76VFj",
        "colab": {
          "base_uri": "https://localhost:8080/",
          "height": 206
        },
        "outputId": "a230c579-5fca-4fc0-dc8a-92d4447b1466"
      },
      "execution_count": 4,
      "outputs": [
        {
          "output_type": "execute_result",
          "data": {
            "text/plain": [
              "   Store       Date  Weekly_Sales  Holiday_Flag  Temperature  Fuel_Price  \\\n",
              "0      1 2010-02-05    1643690.90             0        42.31       2.572   \n",
              "1      1 2010-02-12    1641957.44             1        38.51       2.548   \n",
              "2      1 2010-02-19    1611968.17             0        39.93       2.514   \n",
              "3      1 2010-02-26    1409727.59             0        46.63       2.561   \n",
              "4      1 2010-03-05    1554806.68             0        46.50       2.625   \n",
              "\n",
              "          CPI  Unemployment  Week_sin  Week_cos  \n",
              "0  211.096358         8.106 -0.992709  0.120537  \n",
              "1  211.242170         8.106 -0.239316 -0.970942  \n",
              "2  211.289143         8.106  0.935016 -0.354605  \n",
              "3  211.319643         8.106  0.464723  0.885456  \n",
              "4  211.350143         8.106 -0.822984  0.568065  "
            ],
            "text/html": [
              "\n",
              "  <div id=\"df-82bc4f95-5eb9-4865-9554-98c97b4f6f4e\" class=\"colab-df-container\">\n",
              "    <div>\n",
              "<style scoped>\n",
              "    .dataframe tbody tr th:only-of-type {\n",
              "        vertical-align: middle;\n",
              "    }\n",
              "\n",
              "    .dataframe tbody tr th {\n",
              "        vertical-align: top;\n",
              "    }\n",
              "\n",
              "    .dataframe thead th {\n",
              "        text-align: right;\n",
              "    }\n",
              "</style>\n",
              "<table border=\"1\" class=\"dataframe\">\n",
              "  <thead>\n",
              "    <tr style=\"text-align: right;\">\n",
              "      <th></th>\n",
              "      <th>Store</th>\n",
              "      <th>Date</th>\n",
              "      <th>Weekly_Sales</th>\n",
              "      <th>Holiday_Flag</th>\n",
              "      <th>Temperature</th>\n",
              "      <th>Fuel_Price</th>\n",
              "      <th>CPI</th>\n",
              "      <th>Unemployment</th>\n",
              "      <th>Week_sin</th>\n",
              "      <th>Week_cos</th>\n",
              "    </tr>\n",
              "  </thead>\n",
              "  <tbody>\n",
              "    <tr>\n",
              "      <th>0</th>\n",
              "      <td>1</td>\n",
              "      <td>2010-02-05</td>\n",
              "      <td>1643690.90</td>\n",
              "      <td>0</td>\n",
              "      <td>42.31</td>\n",
              "      <td>2.572</td>\n",
              "      <td>211.096358</td>\n",
              "      <td>8.106</td>\n",
              "      <td>-0.992709</td>\n",
              "      <td>0.120537</td>\n",
              "    </tr>\n",
              "    <tr>\n",
              "      <th>1</th>\n",
              "      <td>1</td>\n",
              "      <td>2010-02-12</td>\n",
              "      <td>1641957.44</td>\n",
              "      <td>1</td>\n",
              "      <td>38.51</td>\n",
              "      <td>2.548</td>\n",
              "      <td>211.242170</td>\n",
              "      <td>8.106</td>\n",
              "      <td>-0.239316</td>\n",
              "      <td>-0.970942</td>\n",
              "    </tr>\n",
              "    <tr>\n",
              "      <th>2</th>\n",
              "      <td>1</td>\n",
              "      <td>2010-02-19</td>\n",
              "      <td>1611968.17</td>\n",
              "      <td>0</td>\n",
              "      <td>39.93</td>\n",
              "      <td>2.514</td>\n",
              "      <td>211.289143</td>\n",
              "      <td>8.106</td>\n",
              "      <td>0.935016</td>\n",
              "      <td>-0.354605</td>\n",
              "    </tr>\n",
              "    <tr>\n",
              "      <th>3</th>\n",
              "      <td>1</td>\n",
              "      <td>2010-02-26</td>\n",
              "      <td>1409727.59</td>\n",
              "      <td>0</td>\n",
              "      <td>46.63</td>\n",
              "      <td>2.561</td>\n",
              "      <td>211.319643</td>\n",
              "      <td>8.106</td>\n",
              "      <td>0.464723</td>\n",
              "      <td>0.885456</td>\n",
              "    </tr>\n",
              "    <tr>\n",
              "      <th>4</th>\n",
              "      <td>1</td>\n",
              "      <td>2010-03-05</td>\n",
              "      <td>1554806.68</td>\n",
              "      <td>0</td>\n",
              "      <td>46.50</td>\n",
              "      <td>2.625</td>\n",
              "      <td>211.350143</td>\n",
              "      <td>8.106</td>\n",
              "      <td>-0.822984</td>\n",
              "      <td>0.568065</td>\n",
              "    </tr>\n",
              "  </tbody>\n",
              "</table>\n",
              "</div>\n",
              "    <div class=\"colab-df-buttons\">\n",
              "\n",
              "  <div class=\"colab-df-container\">\n",
              "    <button class=\"colab-df-convert\" onclick=\"convertToInteractive('df-82bc4f95-5eb9-4865-9554-98c97b4f6f4e')\"\n",
              "            title=\"Convert this dataframe to an interactive table.\"\n",
              "            style=\"display:none;\">\n",
              "\n",
              "  <svg xmlns=\"http://www.w3.org/2000/svg\" height=\"24px\" viewBox=\"0 -960 960 960\">\n",
              "    <path d=\"M120-120v-720h720v720H120Zm60-500h600v-160H180v160Zm220 220h160v-160H400v160Zm0 220h160v-160H400v160ZM180-400h160v-160H180v160Zm440 0h160v-160H620v160ZM180-180h160v-160H180v160Zm440 0h160v-160H620v160Z\"/>\n",
              "  </svg>\n",
              "    </button>\n",
              "\n",
              "  <style>\n",
              "    .colab-df-container {\n",
              "      display:flex;\n",
              "      gap: 12px;\n",
              "    }\n",
              "\n",
              "    .colab-df-convert {\n",
              "      background-color: #E8F0FE;\n",
              "      border: none;\n",
              "      border-radius: 50%;\n",
              "      cursor: pointer;\n",
              "      display: none;\n",
              "      fill: #1967D2;\n",
              "      height: 32px;\n",
              "      padding: 0 0 0 0;\n",
              "      width: 32px;\n",
              "    }\n",
              "\n",
              "    .colab-df-convert:hover {\n",
              "      background-color: #E2EBFA;\n",
              "      box-shadow: 0px 1px 2px rgba(60, 64, 67, 0.3), 0px 1px 3px 1px rgba(60, 64, 67, 0.15);\n",
              "      fill: #174EA6;\n",
              "    }\n",
              "\n",
              "    .colab-df-buttons div {\n",
              "      margin-bottom: 4px;\n",
              "    }\n",
              "\n",
              "    [theme=dark] .colab-df-convert {\n",
              "      background-color: #3B4455;\n",
              "      fill: #D2E3FC;\n",
              "    }\n",
              "\n",
              "    [theme=dark] .colab-df-convert:hover {\n",
              "      background-color: #434B5C;\n",
              "      box-shadow: 0px 1px 3px 1px rgba(0, 0, 0, 0.15);\n",
              "      filter: drop-shadow(0px 1px 2px rgba(0, 0, 0, 0.3));\n",
              "      fill: #FFFFFF;\n",
              "    }\n",
              "  </style>\n",
              "\n",
              "    <script>\n",
              "      const buttonEl =\n",
              "        document.querySelector('#df-82bc4f95-5eb9-4865-9554-98c97b4f6f4e button.colab-df-convert');\n",
              "      buttonEl.style.display =\n",
              "        google.colab.kernel.accessAllowed ? 'block' : 'none';\n",
              "\n",
              "      async function convertToInteractive(key) {\n",
              "        const element = document.querySelector('#df-82bc4f95-5eb9-4865-9554-98c97b4f6f4e');\n",
              "        const dataTable =\n",
              "          await google.colab.kernel.invokeFunction('convertToInteractive',\n",
              "                                                    [key], {});\n",
              "        if (!dataTable) return;\n",
              "\n",
              "        const docLinkHtml = 'Like what you see? Visit the ' +\n",
              "          '<a target=\"_blank\" href=https://colab.research.google.com/notebooks/data_table.ipynb>data table notebook</a>'\n",
              "          + ' to learn more about interactive tables.';\n",
              "        element.innerHTML = '';\n",
              "        dataTable['output_type'] = 'display_data';\n",
              "        await google.colab.output.renderOutput(dataTable, element);\n",
              "        const docLink = document.createElement('div');\n",
              "        docLink.innerHTML = docLinkHtml;\n",
              "        element.appendChild(docLink);\n",
              "      }\n",
              "    </script>\n",
              "  </div>\n",
              "\n",
              "\n",
              "<div id=\"df-ef16e821-76ba-4ad3-8e85-2359c75dacba\">\n",
              "  <button class=\"colab-df-quickchart\" onclick=\"quickchart('df-ef16e821-76ba-4ad3-8e85-2359c75dacba')\"\n",
              "            title=\"Suggest charts\"\n",
              "            style=\"display:none;\">\n",
              "\n",
              "<svg xmlns=\"http://www.w3.org/2000/svg\" height=\"24px\"viewBox=\"0 0 24 24\"\n",
              "     width=\"24px\">\n",
              "    <g>\n",
              "        <path d=\"M19 3H5c-1.1 0-2 .9-2 2v14c0 1.1.9 2 2 2h14c1.1 0 2-.9 2-2V5c0-1.1-.9-2-2-2zM9 17H7v-7h2v7zm4 0h-2V7h2v10zm4 0h-2v-4h2v4z\"/>\n",
              "    </g>\n",
              "</svg>\n",
              "  </button>\n",
              "\n",
              "<style>\n",
              "  .colab-df-quickchart {\n",
              "      --bg-color: #E8F0FE;\n",
              "      --fill-color: #1967D2;\n",
              "      --hover-bg-color: #E2EBFA;\n",
              "      --hover-fill-color: #174EA6;\n",
              "      --disabled-fill-color: #AAA;\n",
              "      --disabled-bg-color: #DDD;\n",
              "  }\n",
              "\n",
              "  [theme=dark] .colab-df-quickchart {\n",
              "      --bg-color: #3B4455;\n",
              "      --fill-color: #D2E3FC;\n",
              "      --hover-bg-color: #434B5C;\n",
              "      --hover-fill-color: #FFFFFF;\n",
              "      --disabled-bg-color: #3B4455;\n",
              "      --disabled-fill-color: #666;\n",
              "  }\n",
              "\n",
              "  .colab-df-quickchart {\n",
              "    background-color: var(--bg-color);\n",
              "    border: none;\n",
              "    border-radius: 50%;\n",
              "    cursor: pointer;\n",
              "    display: none;\n",
              "    fill: var(--fill-color);\n",
              "    height: 32px;\n",
              "    padding: 0;\n",
              "    width: 32px;\n",
              "  }\n",
              "\n",
              "  .colab-df-quickchart:hover {\n",
              "    background-color: var(--hover-bg-color);\n",
              "    box-shadow: 0 1px 2px rgba(60, 64, 67, 0.3), 0 1px 3px 1px rgba(60, 64, 67, 0.15);\n",
              "    fill: var(--button-hover-fill-color);\n",
              "  }\n",
              "\n",
              "  .colab-df-quickchart-complete:disabled,\n",
              "  .colab-df-quickchart-complete:disabled:hover {\n",
              "    background-color: var(--disabled-bg-color);\n",
              "    fill: var(--disabled-fill-color);\n",
              "    box-shadow: none;\n",
              "  }\n",
              "\n",
              "  .colab-df-spinner {\n",
              "    border: 2px solid var(--fill-color);\n",
              "    border-color: transparent;\n",
              "    border-bottom-color: var(--fill-color);\n",
              "    animation:\n",
              "      spin 1s steps(1) infinite;\n",
              "  }\n",
              "\n",
              "  @keyframes spin {\n",
              "    0% {\n",
              "      border-color: transparent;\n",
              "      border-bottom-color: var(--fill-color);\n",
              "      border-left-color: var(--fill-color);\n",
              "    }\n",
              "    20% {\n",
              "      border-color: transparent;\n",
              "      border-left-color: var(--fill-color);\n",
              "      border-top-color: var(--fill-color);\n",
              "    }\n",
              "    30% {\n",
              "      border-color: transparent;\n",
              "      border-left-color: var(--fill-color);\n",
              "      border-top-color: var(--fill-color);\n",
              "      border-right-color: var(--fill-color);\n",
              "    }\n",
              "    40% {\n",
              "      border-color: transparent;\n",
              "      border-right-color: var(--fill-color);\n",
              "      border-top-color: var(--fill-color);\n",
              "    }\n",
              "    60% {\n",
              "      border-color: transparent;\n",
              "      border-right-color: var(--fill-color);\n",
              "    }\n",
              "    80% {\n",
              "      border-color: transparent;\n",
              "      border-right-color: var(--fill-color);\n",
              "      border-bottom-color: var(--fill-color);\n",
              "    }\n",
              "    90% {\n",
              "      border-color: transparent;\n",
              "      border-bottom-color: var(--fill-color);\n",
              "    }\n",
              "  }\n",
              "</style>\n",
              "\n",
              "  <script>\n",
              "    async function quickchart(key) {\n",
              "      const quickchartButtonEl =\n",
              "        document.querySelector('#' + key + ' button');\n",
              "      quickchartButtonEl.disabled = true;  // To prevent multiple clicks.\n",
              "      quickchartButtonEl.classList.add('colab-df-spinner');\n",
              "      try {\n",
              "        const charts = await google.colab.kernel.invokeFunction(\n",
              "            'suggestCharts', [key], {});\n",
              "      } catch (error) {\n",
              "        console.error('Error during call to suggestCharts:', error);\n",
              "      }\n",
              "      quickchartButtonEl.classList.remove('colab-df-spinner');\n",
              "      quickchartButtonEl.classList.add('colab-df-quickchart-complete');\n",
              "    }\n",
              "    (() => {\n",
              "      let quickchartButtonEl =\n",
              "        document.querySelector('#df-ef16e821-76ba-4ad3-8e85-2359c75dacba button');\n",
              "      quickchartButtonEl.style.display =\n",
              "        google.colab.kernel.accessAllowed ? 'block' : 'none';\n",
              "    })();\n",
              "  </script>\n",
              "</div>\n",
              "\n",
              "    </div>\n",
              "  </div>\n"
            ],
            "application/vnd.google.colaboratory.intrinsic+json": {
              "type": "dataframe",
              "variable_name": "df",
              "summary": "{\n  \"name\": \"df\",\n  \"rows\": 6435,\n  \"fields\": [\n    {\n      \"column\": \"Store\",\n      \"properties\": {\n        \"dtype\": \"number\",\n        \"std\": 12,\n        \"min\": 1,\n        \"max\": 45,\n        \"num_unique_values\": 45,\n        \"samples\": [\n          40,\n          26,\n          27\n        ],\n        \"semantic_type\": \"\",\n        \"description\": \"\"\n      }\n    },\n    {\n      \"column\": \"Date\",\n      \"properties\": {\n        \"dtype\": \"date\",\n        \"min\": \"2010-02-05 00:00:00\",\n        \"max\": \"2012-10-26 00:00:00\",\n        \"num_unique_values\": 143,\n        \"samples\": [\n          \"2012-05-04 00:00:00\",\n          \"2010-06-18 00:00:00\",\n          \"2011-09-02 00:00:00\"\n        ],\n        \"semantic_type\": \"\",\n        \"description\": \"\"\n      }\n    },\n    {\n      \"column\": \"Weekly_Sales\",\n      \"properties\": {\n        \"dtype\": \"number\",\n        \"std\": 564366.6220536974,\n        \"min\": 209986.25,\n        \"max\": 3818686.45,\n        \"num_unique_values\": 6435,\n        \"samples\": [\n          1138800.32,\n          1304850.67,\n          1769296.25\n        ],\n        \"semantic_type\": \"\",\n        \"description\": \"\"\n      }\n    },\n    {\n      \"column\": \"Holiday_Flag\",\n      \"properties\": {\n        \"dtype\": \"number\",\n        \"std\": 0,\n        \"min\": 0,\n        \"max\": 1,\n        \"num_unique_values\": 2,\n        \"samples\": [\n          1,\n          0\n        ],\n        \"semantic_type\": \"\",\n        \"description\": \"\"\n      }\n    },\n    {\n      \"column\": \"Temperature\",\n      \"properties\": {\n        \"dtype\": \"number\",\n        \"std\": 18.444932875811585,\n        \"min\": -2.06,\n        \"max\": 100.14,\n        \"num_unique_values\": 3528,\n        \"samples\": [\n          51.13,\n          98.15\n        ],\n        \"semantic_type\": \"\",\n        \"description\": \"\"\n      }\n    },\n    {\n      \"column\": \"Fuel_Price\",\n      \"properties\": {\n        \"dtype\": \"number\",\n        \"std\": 0.4590197071928516,\n        \"min\": 2.472,\n        \"max\": 4.468,\n        \"num_unique_values\": 892,\n        \"samples\": [\n          2.84,\n          3.95\n        ],\n        \"semantic_type\": \"\",\n        \"description\": \"\"\n      }\n    },\n    {\n      \"column\": \"CPI\",\n      \"properties\": {\n        \"dtype\": \"number\",\n        \"std\": 39.35671229566413,\n        \"min\": 126.064,\n        \"max\": 227.2328068,\n        \"num_unique_values\": 2145,\n        \"samples\": [\n          184.613419,\n          214.1083654\n        ],\n        \"semantic_type\": \"\",\n        \"description\": \"\"\n      }\n    },\n    {\n      \"column\": \"Unemployment\",\n      \"properties\": {\n        \"dtype\": \"number\",\n        \"std\": 1.8758847818628084,\n        \"min\": 3.879,\n        \"max\": 14.313,\n        \"num_unique_values\": 349,\n        \"samples\": [\n          8.185,\n          7.804\n        ],\n        \"semantic_type\": \"\",\n        \"description\": \"\"\n      }\n    },\n    {\n      \"column\": \"Week_sin\",\n      \"properties\": {\n        \"dtype\": \"number\",\n        \"std\": 0.7071617297752113,\n        \"min\": -0.9927088773063663,\n        \"max\": 0.992708874222646,\n        \"num_unique_values\": 143,\n        \"samples\": [\n          -0.9927088749676117,\n          0.6631226680344708\n        ],\n        \"semantic_type\": \"\",\n        \"description\": \"\"\n      }\n    },\n    {\n      \"column\": \"Week_cos\",\n      \"properties\": {\n        \"dtype\": \"number\",\n        \"std\": 0.7071617299102715,\n        \"min\": -0.9709418239359341,\n        \"max\": 1.0,\n        \"num_unique_values\": 137,\n        \"samples\": [\n          -0.7485107416976409,\n          -0.7485107633556247\n        ],\n        \"semantic_type\": \"\",\n        \"description\": \"\"\n      }\n    }\n  ]\n}"
            }
          },
          "metadata": {},
          "execution_count": 4
        }
      ]
    },
    {
      "cell_type": "markdown",
      "source": [
        "#### EDA"
      ],
      "metadata": {
        "id": "G1VMPmV2FpyC"
      }
    },
    {
      "cell_type": "code",
      "source": [
        "features = df.drop(['Date'], axis=1)"
      ],
      "metadata": {
        "id": "C5cRljvmFpXe"
      },
      "execution_count": 7,
      "outputs": []
    },
    {
      "cell_type": "markdown",
      "source": [
        "Distribution of Each Feature"
      ],
      "metadata": {
        "id": "BJ7UjIXHGv1U"
      }
    },
    {
      "cell_type": "code",
      "source": [
        "hist = features.hist(bins=15)\n",
        "plt.rcParams.update({'font.size': 8})\n",
        "plt.tight_layout(rect=(0, 0, 1.2, 1.2))\n",
        "plt.show()"
      ],
      "metadata": {
        "colab": {
          "base_uri": "https://localhost:8080/",
          "height": 589
        },
        "id": "yRGYfQ7AF1r1",
        "outputId": "13b9d80c-9894-4ab9-94fc-08ea262e6092"
      },
      "execution_count": 8,
      "outputs": [
        {
          "output_type": "display_data",
          "data": {
            "text/plain": [
              "<Figure size 640x480 with 9 Axes>"
            ],
            "image/png": "[encoded data removed]"
          },
          "metadata": {}
        }
      ]
    },
    {
      "cell_type": "markdown",
      "source": [
        "Correlation"
      ],
      "metadata": {
        "id": "W9_ro6Gae-Gl"
      }
    },
    {
      "cell_type": "code",
      "source": [
        "import seaborn as sns\n",
        "\n",
        "correlation_mat = features.corr()\n",
        "sns.heatmap(correlation_mat)\n",
        "plt.show()"
      ],
      "metadata": {
        "colab": {
          "base_uri": "https://localhost:8080/",
          "height": 506
        },
        "id": "EYb4CfowFRD1",
        "outputId": "f9e48eda-f60d-4a04-cecf-f284f373a55e"
      },
      "execution_count": 9,
      "outputs": [
        {
          "output_type": "display_data",
          "data": {
            "text/plain": [
              "<Figure size 640x480 with 2 Axes>"
            ],
            "image/png": "[encoded data removed]"
          },
          "metadata": {}
        }
      ]
    },
    {
      "cell_type": "markdown",
      "source": [
        "Plotting Cyclical Features"
      ],
      "metadata": {
        "id": "G0OqESm0e7d7"
      }
    },
    {
      "cell_type": "code",
      "source": [
        "plt.plot(df['Week_sin'],df['Week_cos'])\n",
        "plt.show()"
      ],
      "metadata": {
        "colab": {
          "base_uri": "https://localhost:8080/",
          "height": 426
        },
        "id": "88mnPWm3G7nW",
        "outputId": "684ebed0-cbf7-4ac0-832c-4eb9a705915b"
      },
      "execution_count": 10,
      "outputs": [
        {
          "output_type": "display_data",
          "data": {
            "text/plain": [
              "<Figure size 640x480 with 1 Axes>"
            ],
            "image/png": "[encoded data removed]"
          },
          "metadata": {}
        }
      ]
    },
    {
      "cell_type": "markdown",
      "source": [
        "### Pre-processing"
      ],
      "metadata": {
        "id": "zxR8nG8GHUhC"
      }
    },
    {
      "cell_type": "code",
      "source": [
        "\n",
        "test_df = df[(df['Date'] >= '04-06-2012')]\n",
        "val_df = df[(df['Date'] < '20-07-2012') & (df['Date'] >= '23-12-2011')]\n",
        "train_df = df[(df['Date'] < '04-06-2012')]\n",
        "\n",
        "X_train = train_df.drop(['Date'], axis=1).to_numpy().reshape(45*113,9)\n",
        "X_val = val_df.drop(['Date'], axis=1).to_numpy().reshape(45*30,9)\n",
        "X_test = test_df.drop(['Date'], axis=1).to_numpy().reshape(45*30,9)\n",
        "X_train.shape,X_val.shape,X_test.shape"
      ],
      "metadata": {
        "colab": {
          "base_uri": "https://localhost:8080/"
        },
        "id": "bP10vX22AGWk",
        "outputId": "0356deb2-05e2-407e-c629-1124fc62393c"
      },
      "execution_count": 11,
      "outputs": [
        {
          "output_type": "execute_result",
          "data": {
            "text/plain": [
              "((5085, 9), (1350, 9), (1350, 9))"
            ]
          },
          "metadata": {},
          "execution_count": 11
        }
      ]
    },
    {
      "cell_type": "code",
      "source": [
        "#scale  data\n",
        "sc = StandardScaler()\n",
        "mm = MinMaxScaler()\n",
        "X_train = X_train.reshape(45,113,9)\n",
        "X_val = X_val.reshape(45,30,9)\n",
        "X_test = X_test.reshape(45,30,9)"
      ],
      "metadata": {
        "id": "9H1_pdal0LGZ"
      },
      "execution_count": 12,
      "outputs": []
    },
    {
      "cell_type": "code",
      "source": [
        "#create training windows\n",
        "X_train_s = np.empty((0,15,9))\n",
        "y_train_s = np.array([])\n",
        "for i in range(len(X_train)):\n",
        "  idx = 0\n",
        "  while(len(X_train[i]) > idx+15):\n",
        "    #use sliding windows of length 15 with step size of 1\n",
        "    X_train_s = np.vstack((X_train_s, X_train[i][idx:idx+15].reshape(1,15,9)))\n",
        "    y_train_s = np.append(y_train_s , X_train[i][idx+15][1])\n",
        "    idx += 1\n",
        "X_train_s = X_train_s.reshape(66150,9)\n",
        "X_train = sc.fit_transform(X_train_s).reshape(4410,15,9)\n",
        "y_train = mm.fit_transform(y_train_s.reshape(len(y_train_s),1))\n",
        "\n",
        "X_train.shape,y_train.shape"
      ],
      "metadata": {
        "colab": {
          "base_uri": "https://localhost:8080/"
        },
        "id": "XCrh6fonIwzE",
        "outputId": "73e3f170-e3c3-4124-a04b-b4df52e9a7e4"
      },
      "execution_count": 13,
      "outputs": [
        {
          "output_type": "execute_result",
          "data": {
            "text/plain": [
              "((4410, 15, 9), (4410, 1))"
            ]
          },
          "metadata": {},
          "execution_count": 13
        }
      ]
    },
    {
      "cell_type": "code",
      "source": [
        "#create validation windows\n",
        "X_val_s = np.empty((0,15,9))\n",
        "y_val_s = np.array([])\n",
        "for i in range(len(X_val)):\n",
        "  idx = 0\n",
        "  while(len(X_val[i]) > idx+15):\n",
        "    #use sliding windows of length 15 with step size of 1\n",
        "    X_val_s = np.vstack((X_val_s, X_val[i][idx:idx+15].reshape(1,15,9)))\n",
        "    y_val_s = np.append(y_val_s , X_val[i][idx+15][1])\n",
        "    idx += 1\n",
        "X_val_s = X_val_s.reshape(675*15,9)\n",
        "X_val = sc.transform(X_val_s).reshape(675,15,9)\n",
        "y_val = mm.transform(y_val_s.reshape(len(y_val_s),1))\n",
        "X_val.shape,y_val.shape"
      ],
      "metadata": {
        "colab": {
          "base_uri": "https://localhost:8080/"
        },
        "id": "T-jz_6MbpD5Z",
        "outputId": "651bc0d4-beb1-4b81-8715-0eca7ae43edc"
      },
      "execution_count": 14,
      "outputs": [
        {
          "output_type": "execute_result",
          "data": {
            "text/plain": [
              "((675, 15, 9), (675, 1))"
            ]
          },
          "metadata": {},
          "execution_count": 14
        }
      ]
    },
    {
      "cell_type": "code",
      "source": [
        "#create test windows\n",
        "X_test_s = np.empty((0,15,9))\n",
        "y_test_s = np.array([])\n",
        "for i in range(len(X_test)):\n",
        "  idx = 0\n",
        "  while(len(X_test[i]) > idx+15):\n",
        "    #use sliding windows of length 15 with step size of 1\n",
        "    X_test_s = np.vstack((X_test_s, X_test[i][idx:idx+15].reshape(1,15,9)))\n",
        "    y_test_s = np.append(y_test_s , X_test[i][idx+15][1])\n",
        "    idx += 1\n",
        "X_test_s = X_test_s.reshape(675*15,9)\n",
        "X_test = sc.transform(X_test_s).reshape(675,15,9)\n",
        "y_test = mm.transform(y_test_s.reshape(len(y_test_s),1))\n",
        "X_test.shape,y_test.shape"
      ],
      "metadata": {
        "colab": {
          "base_uri": "https://localhost:8080/"
        },
        "id": "5otob3Yhvh3d",
        "outputId": "599b9308-78bc-46d6-8eb0-f8aa600215ea"
      },
      "execution_count": 15,
      "outputs": [
        {
          "output_type": "execute_result",
          "data": {
            "text/plain": [
              "((675, 15, 9), (675, 1))"
            ]
          },
          "metadata": {},
          "execution_count": 15
        }
      ]
    },
    {
      "cell_type": "markdown",
      "source": [
        "### General Setup\n"
      ],
      "metadata": {
        "id": "FQ__UcFd9L1e"
      }
    },
    {
      "cell_type": "code",
      "source": [
        "#Prepare data for training\n",
        "X_train = torch.from_numpy(X_train.astype(np.float32))\n",
        "X_val = torch.from_numpy(X_val.astype(np.float32))\n",
        "X_test = torch.from_numpy(X_test.astype(np.float32))\n",
        "y_train = torch.from_numpy(y_train.reshape(len(y_train_s),1).astype(np.float32))\n",
        "y_val = torch.from_numpy(y_val.reshape(len(y_val_s),1).astype(np.float32))\n",
        "y_test = torch.from_numpy(y_test.reshape(len(y_test_s),1).astype(np.float32))"
      ],
      "metadata": {
        "id": "AtAbaEef-LQS"
      },
      "execution_count": 16,
      "outputs": []
    },
    {
      "cell_type": "code",
      "source": [
        "# Adapted from https://charlieoneill11.github.io/charlieoneill/python/lstm/pytorch/2022/01/14/lstm2.html\n",
        "def training_loop(n_epochs, model, optimiser, loss_fn, X_train, y_train,\n",
        "                  X_test=None, y_test=None):\n",
        "    l = np.array([])\n",
        "    for epoch in range(n_epochs):\n",
        "        model.train()\n",
        "        outputs = model.forward(X_train) # forward pass\n",
        "        optimiser.zero_grad() # calculate the gradient, manually setting to 0\n",
        "        # obtain the loss function\n",
        "        loss = loss_fn(outputs, y_train)\n",
        "        l = np.append(l,loss.detach().numpy()) #save training loss\n",
        "        loss.backward() # calculates the loss of the loss function\n",
        "        optimiser.step() # improve from loss, i.e backprop\n",
        "    return l #return training loss\n",
        "\n",
        "\n",
        "\n"
      ],
      "metadata": {
        "id": "nCT95EK-ka6Y"
      },
      "execution_count": 17,
      "outputs": []
    },
    {
      "cell_type": "markdown",
      "source": [
        "#### RNN Structure\n",
        "I use a single RNN layer with two hidden units. I pass the resulting hidden state through a relu activation function and a linear layer.\n",
        "\n",
        "Performance of each network is measured using Root Mean Squared Logarithmic Error (RMSLE)."
      ],
      "metadata": {
        "id": "bbva2KnhTdVp"
      }
    },
    {
      "cell_type": "markdown",
      "source": [
        "### Vanilla RNN"
      ],
      "metadata": {
        "id": "IaN_1DI1H9Xf"
      }
    },
    {
      "cell_type": "code",
      "source": [
        "#Adapted from https://charlieoneill11.github.io/charlieoneill/python/lstm/pytorch/2022/01/14/lstm2.html\n",
        "class VanillaRNN(nn.Module):\n",
        "\n",
        "    def __init__(self, num_classes, input_size, hidden_size, num_layers):\n",
        "        super().__init__()\n",
        "        self.num_classes = num_classes # output size\n",
        "        self.num_layers = num_layers # number of recurrent layers in the lstm\n",
        "        self.input_size = input_size # input size\n",
        "        self.hidden_size = hidden_size # neurons in each rnn layer\n",
        "        self.rnn = nn.RNN(input_size, hidden_size,batch_first=True)\n",
        "        self.fc =  nn.Linear(hidden_size, num_classes) # fully connected\n",
        "        self.relu = nn.ReLU()\n",
        "\n",
        "    def forward(self,x):\n",
        "        # hidden state\n",
        "        h_0 = Variable(torch.zeros(self.num_layers, x.size(0), self.hidden_size))\n",
        "        # propagate input through RNN\n",
        "        out, hn = self.rnn(x, h_0) # (input, hidden state)\n",
        "        hn = hn.view(-1, self.hidden_size) # reshaping the data for Dense layer next\n",
        "        out = self.relu(hn)\n",
        "        out = self.fc(out)\n",
        "        return out"
      ],
      "metadata": {
        "id": "-f8TW5OpE0YY"
      },
      "execution_count": 21,
      "outputs": []
    },
    {
      "cell_type": "code",
      "source": [
        "X_train_t = Variable(torch.Tensor(X_train))\n",
        "X_val_t = Variable(torch.Tensor(X_val))\n",
        "\n",
        "y_train_t = Variable(y_train)\n",
        "y_val_t = Variable(y_val)\n",
        "n_epochs =  2000 #epochs\n",
        "learning_rate =  0.005# lr\n",
        "\n",
        "input_size = 9 # number of features\n",
        "hidden_size = 2 # number of features in hidden state\n",
        "num_classes = 1 # number of output classes\n",
        "\n",
        "rnn = VanillaRNN(num_classes,\n",
        "              input_size,\n",
        "              hidden_size,\n",
        "              num_classes)\n",
        "\n",
        "loss_fn = torch.nn.MSELoss()    # mean-squared error for regression\n",
        "optimiser = torch.optim.Adam(rnn.parameters(), lr=learning_rate)\n",
        "l=training_loop(n_epochs=n_epochs,\n",
        "          model=rnn,\n",
        "          optimiser=optimiser,\n",
        "          loss_fn=loss_fn,\n",
        "          X_train=X_train_t,\n",
        "          y_train=y_train_t,\n",
        "          X_test=X_val_t,\n",
        "          y_test=y_val_t)"
      ],
      "metadata": {
        "id": "fJqUulhiIm6U"
      },
      "execution_count": 22,
      "outputs": []
    },
    {
      "cell_type": "markdown",
      "source": [
        "Loss Function"
      ],
      "metadata": {
        "id": "I9eji83wYY5v"
      }
    },
    {
      "cell_type": "code",
      "source": [
        "plt.plot(np.arange(0,len(l),1),l)\n",
        "plt.xlabel(\"Epoch\")\n",
        "plt.ylabel(\"MSE Loss\")"
      ],
      "metadata": {
        "colab": {
          "base_uri": "https://localhost:8080/",
          "height": 459
        },
        "id": "uvKoGeOKYD7K",
        "outputId": "0f5a72be-c46a-41b3-e6a9-b1dd65586f52"
      },
      "execution_count": 23,
      "outputs": [
        {
          "output_type": "execute_result",
          "data": {
            "text/plain": [
              "Text(0, 0.5, 'MSE Loss')"
            ]
          },
          "metadata": {},
          "execution_count": 23
        },
        {
          "output_type": "display_data",
          "data": {
            "text/plain": [
              "<Figure size 640x480 with 1 Axes>"
            ],
            "image/png": "[encoded data removed]"
          },
          "metadata": {}
        }
      ]
    },
    {
      "cell_type": "markdown",
      "source": [
        "#### RMSLE Loss"
      ],
      "metadata": {
        "id": "2yQHgC8fUyV0"
      }
    },
    {
      "cell_type": "markdown",
      "source": [
        "Validation Error"
      ],
      "metadata": {
        "id": "auJtsovtiAFf"
      }
    },
    {
      "cell_type": "code",
      "source": [
        "from sklearn.metrics import root_mean_squared_log_error\n",
        "#predict validation set\n",
        "y_pred = rnn(X_val).detach().numpy()\n",
        "#unscale the data\n",
        "y_pred_s = mm.inverse_transform(y_pred).reshape(45,15)\n",
        "y_true_s = mm.inverse_transform(y_val).reshape(45,15)\n",
        "msle = root_mean_squared_log_error(y_true_s, y_pred_s)\n",
        "print(f'RMSLE: {msle:.4f}')"
      ],
      "metadata": {
        "colab": {
          "base_uri": "https://localhost:8080/"
        },
        "id": "-HL-B9QEUL95",
        "outputId": "04de9df8-ac92-48ad-b992-181f7b3b5e0a"
      },
      "execution_count": 26,
      "outputs": [
        {
          "output_type": "stream",
          "name": "stdout",
          "text": [
            "RMSLE: 0.0746\n"
          ]
        }
      ]
    },
    {
      "cell_type": "markdown",
      "source": [
        "Test Error"
      ],
      "metadata": {
        "id": "aXfwTuEGiCHN"
      }
    },
    {
      "cell_type": "code",
      "source": [
        "#predict test set\n",
        "y_predt = rnn(X_test).detach().numpy()\n",
        "#unscale the data\n",
        "y_predt_s = mm.inverse_transform(y_predt).reshape(45,15)\n",
        "y_test_s = mm.inverse_transform(y_test).reshape(45,15)\n",
        "msle = root_mean_squared_log_error(y_test_s, y_predt_s)\n",
        "print(f'RMSLE: {msle:.4f}')"
      ],
      "metadata": {
        "colab": {
          "base_uri": "https://localhost:8080/"
        },
        "id": "rfAFJrs9iVhs",
        "outputId": "110686e6-3ea3-4e59-c4e0-538411c76394"
      },
      "execution_count": 32,
      "outputs": [
        {
          "output_type": "stream",
          "name": "stdout",
          "text": [
            "RMSLE: 0.0715\n"
          ]
        }
      ]
    },
    {
      "cell_type": "markdown",
      "source": [
        "#### Sample Prediction"
      ],
      "metadata": {
        "id": "yRl5TLeoU4j5"
      }
    },
    {
      "cell_type": "code",
      "source": [
        "plt.plot(np.arange(0,len(y_pred_s[0]),1),y_pred_s[0], label='Predicted')\n",
        "plt.plot(np.arange(0,len(y_true_s[0]),1),y_true_s[0], label='True')\n",
        "plt.legend()\n",
        "plt.show()"
      ],
      "metadata": {
        "colab": {
          "base_uri": "https://localhost:8080/",
          "height": 438
        },
        "id": "R5yQqResUPUu",
        "outputId": "eda484e1-0e21-4ef1-da67-50133a30ccda"
      },
      "execution_count": 27,
      "outputs": [
        {
          "output_type": "display_data",
          "data": {
            "text/plain": [
              "<Figure size 640x480 with 1 Axes>"
            ],
            "image/png": "[encoded data removed]"
          },
          "metadata": {}
        }
      ]
    },
    {
      "cell_type": "markdown",
      "source": [
        "### LSTM"
      ],
      "metadata": {
        "id": "CAQPiQmqMaW6"
      }
    },
    {
      "cell_type": "code",
      "source": [
        "#Adapted from https://charlieoneill11.github.io/charlieoneill/python/lstm/pytorch/2022/01/14/lstm2.html\n",
        "class LSTM(nn.Module):\n",
        "\n",
        "    def __init__(self, num_classes, input_size, hidden_size, num_layers):\n",
        "        super().__init__()\n",
        "        self.num_classes = num_classes # output size\n",
        "        self.num_layers = num_layers # number of recurrent layers in the lstm\n",
        "        self.input_size = input_size # input size\n",
        "        self.hidden_size = hidden_size # neurons in each lstm layer\n",
        "        # LSTM model\n",
        "        self.lstm = nn.LSTM(input_size=input_size, hidden_size=hidden_size,\n",
        "                            num_layers=num_layers, batch_first=True, dropout=0) # lstm\n",
        "        self.fc =  nn.Linear(hidden_size, num_classes) # fully connected\n",
        "        self.relu = nn.ReLU()\n",
        "\n",
        "    def forward(self,x):\n",
        "        # hidden state\n",
        "        h_0 = Variable(torch.zeros(self.num_layers, x.size(0), self.hidden_size))\n",
        "        # cell state\n",
        "        c_0 = Variable(torch.zeros(self.num_layers, x.size(0), self.hidden_size))\n",
        "        # propagate input through LSTM\n",
        "        output, (hn, cn) = self.lstm(x, (h_0, c_0)) # (input, hidden, and internal state)\n",
        "        hn = hn.view(-1, self.hidden_size) # reshaping the data for Dense layer next\n",
        "        out = self.relu(hn)\n",
        "        out = self.fc(out)\n",
        "        return out\n"
      ],
      "metadata": {
        "id": "LcDu0CxskF6t"
      },
      "execution_count": 28,
      "outputs": []
    },
    {
      "cell_type": "code",
      "source": [
        "n_epochs =  2000 #epochs\n",
        "learning_rate =  0.005# lr\n",
        "\n",
        "input_size = 9 # number of features\n",
        "hidden_size = 2 # number of features in hidden state\n",
        "num_layers = 1 # number of stacked lstm layers\n",
        "num_classes = 1 # number of output classes\n",
        "\n",
        "lstm = LSTM(num_classes,input_size,hidden_size,num_layers)\n",
        "loss_fn = torch.nn.MSELoss()    # mean-squared error for regression\n",
        "optimiser = torch.optim.Adam(lstm.parameters(), lr=learning_rate)\n",
        "l = training_loop(n_epochs=n_epochs,\n",
        "          model=lstm,\n",
        "          optimiser=optimiser,\n",
        "          loss_fn=loss_fn,\n",
        "          X_train=X_train_t,\n",
        "          y_train=y_train_t,\n",
        "          X_test=X_val_t,\n",
        "          y_test=y_val_t)"
      ],
      "metadata": {
        "id": "Bg_HDi-ekg_s"
      },
      "execution_count": 29,
      "outputs": []
    },
    {
      "cell_type": "markdown",
      "source": [
        "Loss Function"
      ],
      "metadata": {
        "id": "FQbQnKVRYwor"
      }
    },
    {
      "cell_type": "code",
      "source": [
        "plt.plot(np.arange(0,len(l),1),l)\n",
        "plt.xlabel(\"Epoch\")\n",
        "plt.ylabel(\"MSE Loss\")"
      ],
      "metadata": {
        "colab": {
          "base_uri": "https://localhost:8080/",
          "height": 459
        },
        "id": "4KEgXiUFYOTA",
        "outputId": "449b168b-bd82-489b-93f4-0e0d9a1b4192"
      },
      "execution_count": 30,
      "outputs": [
        {
          "output_type": "execute_result",
          "data": {
            "text/plain": [
              "Text(0, 0.5, 'MSE Loss')"
            ]
          },
          "metadata": {},
          "execution_count": 30
        },
        {
          "output_type": "display_data",
          "data": {
            "text/plain": [
              "<Figure size 640x480 with 1 Axes>"
            ],
            "image/png": "[encoded data removed]"
          },
          "metadata": {}
        }
      ]
    },
    {
      "cell_type": "markdown",
      "source": [
        "Validation Error"
      ],
      "metadata": {
        "id": "nbdkPD90VrUh"
      }
    },
    {
      "cell_type": "code",
      "source": [
        "#predict validation set\n",
        "y_pred = lstm(X_val).detach().numpy()\n",
        "#unscale the data\n",
        "y_pred_s = mm.inverse_transform(y_pred).reshape(45,15)\n",
        "msle = root_mean_squared_log_error(y_val, y_pred)\n",
        "print(f'RMSLE: {msle:.4f}')"
      ],
      "metadata": {
        "id": "YYpUn53AKHRg",
        "colab": {
          "base_uri": "https://localhost:8080/"
        },
        "outputId": "19a800a7-641a-47e6-e033-42125e5298d5"
      },
      "execution_count": 31,
      "outputs": [
        {
          "output_type": "stream",
          "name": "stdout",
          "text": [
            "RMSLE: 0.0187\n"
          ]
        }
      ]
    },
    {
      "cell_type": "markdown",
      "source": [
        "Test Error"
      ],
      "metadata": {
        "id": "mXcgc1e2V5Tw"
      }
    },
    {
      "cell_type": "code",
      "source": [
        "#predict test set\n",
        "y_predt = lstm(X_test).detach().numpy()\n",
        "#unscale the data\n",
        "y_predt_s = mm.inverse_transform(y_predt).reshape(45,15)\n",
        "msle = root_mean_squared_log_error(y_test_s, y_predt_s)\n",
        "print(f'RMSLE: {msle:.4f}')"
      ],
      "metadata": {
        "colab": {
          "base_uri": "https://localhost:8080/"
        },
        "id": "8JT8JDoWV9M7",
        "outputId": "335d06f2-2b2b-4670-eced-860f30b27bfb"
      },
      "execution_count": 33,
      "outputs": [
        {
          "output_type": "stream",
          "name": "stdout",
          "text": [
            "RMSLE: 0.0742\n"
          ]
        }
      ]
    },
    {
      "cell_type": "markdown",
      "source": [
        "Sample Prediction"
      ],
      "metadata": {
        "id": "qawaC88YVt3S"
      }
    },
    {
      "cell_type": "code",
      "source": [
        "plt.plot(np.arange(0,len(y_pred_s[0]),1),y_pred_s[0], label='Predicted')\n",
        "plt.plot(np.arange(0,len(y_true_s[0]),1),y_true_s[0], label='True')\n",
        "plt.legend()\n",
        "plt.show()"
      ],
      "metadata": {
        "colab": {
          "base_uri": "https://localhost:8080/",
          "height": 438
        },
        "id": "YCqGFkk8PpNY",
        "outputId": "0b47001a-41bf-4f55-8538-553668a5d82c"
      },
      "execution_count": 34,
      "outputs": [
        {
          "output_type": "display_data",
          "data": {
            "text/plain": [
              "<Figure size 640x480 with 1 Axes>"
            ],
            "image/png": "[encoded data removed]"
          },
          "metadata": {}
        }
      ]
    },
    {
      "cell_type": "markdown",
      "source": [
        "### GRU"
      ],
      "metadata": {
        "id": "ag_mzAHtUnfr"
      }
    },
    {
      "cell_type": "code",
      "source": [
        "#Adapted from https://charlieoneill11.github.io/charlieoneill/python/lstm/pytorch/2022/01/14/lstm2.html\n",
        "class GRU(nn.Module):\n",
        "\n",
        "    def __init__(self, num_classes, input_size, hidden_size, num_layers):\n",
        "        super().__init__()\n",
        "        self.num_classes = num_classes # output size\n",
        "        self.num_layers = num_layers # number of recurrent layers in the lstm\n",
        "        self.input_size = input_size # input size\n",
        "        self.hidden_size = hidden_size # neurons in each rnn layer\n",
        "        self.gru = nn.GRU(input_size, hidden_size,batch_first=True)\n",
        "        self.fc =  nn.Linear(hidden_size, num_classes) # fully connected\n",
        "        self.relu = nn.ReLU()\n",
        "\n",
        "    def forward(self,x):\n",
        "        # hidden state\n",
        "        h_0 = Variable(torch.zeros(self.num_layers, x.size(0), self.hidden_size))\n",
        "        # propagate input through GRU\n",
        "        out, hn = self.gru(x, h_0) # (input, hidden, and internal state)\n",
        "        hn = hn.view(-1, self.hidden_size) # reshaping the data for Dense layer next\n",
        "        out = self.relu(hn)\n",
        "        out = self.fc(out)\n",
        "        return out"
      ],
      "metadata": {
        "id": "PNb2CkjZUorW"
      },
      "execution_count": 37,
      "outputs": []
    },
    {
      "cell_type": "code",
      "source": [
        "n_epochs =  2000 #epochs\n",
        "learning_rate =  0.005# lr\n",
        "\n",
        "input_size = 9 # number of features\n",
        "hidden_size = 2 # number of features in hidden state\n",
        "num_layers = 1 # number of stacked lstm layers\n",
        "num_classes = 1 # number of output classes\n",
        "\n",
        "gru = GRU(num_classes,input_size,hidden_size,num_layers)\n",
        "loss_fn = torch.nn.MSELoss()    # mean-squared error for regression\n",
        "optimiser = torch.optim.Adam(gru.parameters(), lr=learning_rate)\n",
        "l =training_loop(n_epochs=n_epochs,\n",
        "          model=gru,\n",
        "          optimiser=optimiser,\n",
        "          loss_fn=loss_fn,\n",
        "          X_train=X_train_t,\n",
        "          y_train=y_train_t,\n",
        "          X_test=X_val_t,\n",
        "          y_test=y_val_t)"
      ],
      "metadata": {
        "id": "HKL3nU8aWDhh"
      },
      "execution_count": 38,
      "outputs": []
    },
    {
      "cell_type": "markdown",
      "source": [
        "Loss Function"
      ],
      "metadata": {
        "id": "N6tDbJU7Y0n_"
      }
    },
    {
      "cell_type": "code",
      "source": [
        "plt.plot(np.arange(0,len(l),1),l)\n",
        "plt.xlabel(\"Epoch\")\n",
        "plt.ylabel(\"MSE Loss\")"
      ],
      "metadata": {
        "colab": {
          "base_uri": "https://localhost:8080/",
          "height": 459
        },
        "id": "paXP6jS_Yz3U",
        "outputId": "c5d2a35d-aaa4-4642-e9c5-59b7c07f7c0b"
      },
      "execution_count": 39,
      "outputs": [
        {
          "output_type": "execute_result",
          "data": {
            "text/plain": [
              "Text(0, 0.5, 'MSE Loss')"
            ]
          },
          "metadata": {},
          "execution_count": 39
        },
        {
          "output_type": "display_data",
          "data": {
            "text/plain": [
              "<Figure size 640x480 with 1 Axes>"
            ],
            "image/png": "[encoded data removed]"
          },
          "metadata": {}
        }
      ]
    },
    {
      "cell_type": "markdown",
      "source": [
        "Validation Error"
      ],
      "metadata": {
        "id": "NItFMxveVXGP"
      }
    },
    {
      "cell_type": "code",
      "source": [
        "#predict validation set\n",
        "y_pred = gru(X_val).detach().numpy()\n",
        "#unscale the data\n",
        "y_pred_s = mm.inverse_transform(y_pred).reshape(45,15)\n",
        "msle = root_mean_squared_log_error(y_val, y_pred)\n",
        "print(f'RMSLE: {msle:.4f}')"
      ],
      "metadata": {
        "colab": {
          "base_uri": "https://localhost:8080/"
        },
        "id": "xJDM77bLWLKO",
        "outputId": "45c89e95-45e1-44eb-9ff6-a148445669f1"
      },
      "execution_count": 40,
      "outputs": [
        {
          "output_type": "stream",
          "name": "stdout",
          "text": [
            "RMSLE: 0.0206\n"
          ]
        }
      ]
    },
    {
      "cell_type": "markdown",
      "source": [
        "Test Error"
      ],
      "metadata": {
        "id": "VbmMWl1-Vcct"
      }
    },
    {
      "cell_type": "code",
      "source": [
        "#predict test set\n",
        "y_predt = gru(X_test).detach().numpy()\n",
        "#unscale the data\n",
        "y_predt_s = mm.inverse_transform(y_predt).reshape(45,15)\n",
        "msle = root_mean_squared_log_error(y_test_s, y_predt_s)\n",
        "print(f'RMSLE: {msle:.4f}')"
      ],
      "metadata": {
        "colab": {
          "base_uri": "https://localhost:8080/"
        },
        "id": "D8gJJdDQVYH5",
        "outputId": "79fd7b70-50bb-4e52-fe63-7ac872523a1a"
      },
      "execution_count": 41,
      "outputs": [
        {
          "output_type": "stream",
          "name": "stdout",
          "text": [
            "RMSLE: 0.0731\n"
          ]
        }
      ]
    },
    {
      "cell_type": "markdown",
      "source": [
        "Sample Prediction"
      ],
      "metadata": {
        "id": "1c7TfNlnViwJ"
      }
    },
    {
      "cell_type": "code",
      "source": [
        "plt.plot(np.arange(0,len(y_pred_s[0]),1),y_pred_s[0], label='Predicted')\n",
        "plt.plot(np.arange(0,len(y_true_s[0]),1),y_true_s[0], label='True')\n",
        "plt.legend()\n",
        "plt.show()"
      ],
      "metadata": {
        "colab": {
          "base_uri": "https://localhost:8080/",
          "height": 438
        },
        "id": "SOdTkAaNWQWZ",
        "outputId": "532ce1a2-b81a-49e4-f522-45aee2acc0e0"
      },
      "execution_count": 42,
      "outputs": [
        {
          "output_type": "display_data",
          "data": {
            "text/plain": [
              "<Figure size 640x480 with 1 Axes>"
            ],
            "image/png": "[encoded data removed]"
          },
          "metadata": {}
        }
      ]
    },
    {
      "cell_type": "markdown",
      "source": [
        "### Architecture Comparison\n",
        "\n",
        "The performance of the different architectures varied in terms of training time. The vanilla RNN took 25 seconds to perform 2000 iterations, the LSTM took 2 minutes, and the GRU took 56 seconds. This is likely because the vanilla RNN is the most computationally simple model while the LSTM is the most complex. Despite the differences in training time, all models converged within approximately 150 iterations.\n",
        "\n",
        "The vanilla RNN achieved a Root Mean Squared Logarithmic Error (RMSLE) of 0.0715 on the validation set and 0.0746 on the test set. The LSTM had an RMSLE of 0.0187 on the validation set and 0.0742 on the test set, while the GRU achieved an RMSLE of 0.0206 on the validation set and 0.0731 on the test set. Therefore, all models demonstrated comparable accuracy."
      ],
      "metadata": {
        "id": "PuVgHdZ9kIyo"
      }
    },
    {
      "cell_type": "markdown",
      "source": [
        "### Part 3\n",
        "A traditional feed-forward network could be used. Values for n time steps could be included as features for each time step. For example, if we used 15 previous time steps and 9 features per time step there would be 15 * 9 + 9 features. Two drawbacks of this are that there would be a large number of features, and the network would not be able to capture the temporal structure that the RNNs do."
      ],
      "metadata": {
        "id": "F7E00LPnY7n5"
      }
    },
    {
      "cell_type": "markdown",
      "source": [
        "O'Neill, C. (2022, January 14). Multivariate time-series forecasting with Pytorch LSTMs. Charlie O'Neill. https://charlieoneill11.github.io/charlieoneill/python/lstm/pytorch/2022/01/14/lstm2.html\n",
        "\n",
        "Zhang, A., Lipton, Z., Li, M., & Smola, A. (2023). Dive into Deep Learning. Cambridge University Press.\n"
      ],
      "metadata": {
        "id": "oiV_JaQjGykF"
      }
    }
  ]
}